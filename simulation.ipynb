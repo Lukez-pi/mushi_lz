{
 "cells": [
  {
   "cell_type": "markdown",
   "metadata": {},
   "source": [
    "Mushi\n",
    "==\n",
    "_All that the rain promises and more..._"
   ]
  },
  {
   "cell_type": "markdown",
   "metadata": {
    "slideshow": {
     "slide_type": "-"
    }
   },
   "source": [
    "A notebook for testing `mushi`'s ability to invert data simulated under the forward model"
   ]
  },
  {
   "cell_type": "code",
   "execution_count": null,
   "metadata": {
    "slideshow": {
     "slide_type": "slide"
    }
   },
   "outputs": [],
   "source": [
    "%matplotlib inline \n",
    "import mushi\n",
    "import histories\n",
    "import numpy as np\n",
    "import matplotlib as mpl\n",
    "from matplotlib import pyplot as plt\n",
    "from matplotlib.lines import Line2D\n",
    "from scipy.special import expit\n",
    "import time\n",
    "import msprime\n",
    "import stdpopsim"
   ]
  },
  {
   "cell_type": "code",
   "execution_count": null,
   "metadata": {},
   "outputs": [],
   "source": [
    "# set this to e.g. your Downloads folder path if you want plots saved to pdfs\n",
    "plot_dir = '/Users/williamdewitt/Downloads/'"
   ]
  },
  {
   "cell_type": "code",
   "execution_count": null,
   "metadata": {
    "slideshow": {
     "slide_type": "-"
    }
   },
   "outputs": [],
   "source": [
    "# plt.style.use('dark_background')"
   ]
  },
  {
   "cell_type": "markdown",
   "metadata": {
    "slideshow": {
     "slide_type": "slide"
    }
   },
   "source": [
    "### Time grid"
   ]
  },
  {
   "cell_type": "code",
   "execution_count": null,
   "metadata": {},
   "outputs": [],
   "source": [
    "change_points = np.logspace(0, np.log10(100000), 50)\n",
    "t = np.concatenate((np.array([0]), change_points))"
   ]
  },
  {
   "cell_type": "markdown",
   "metadata": {
    "slideshow": {
     "slide_type": "slide"
    }
   },
   "source": [
    "### Define true demographic history"
   ]
  },
  {
   "cell_type": "code",
   "execution_count": null,
   "metadata": {
    "slideshow": {
     "slide_type": "-"
    }
   },
   "outputs": [],
   "source": [
    "species = stdpopsim.get_species(\"HomSap\")\n",
    "model = species.get_demographic_model(\"OutOfAfrica_2T12\")\n",
    "ddb = model.get_demography_debugger()\n",
    "eta_true = histories.eta(change_points,\n",
    "                       1 / ddb.coalescence_rate_trajectory(steps=t,\n",
    "                                                           num_samples=[0, 2],\n",
    "                                                           double_step_validation=False)[0])"
   ]
  },
  {
   "cell_type": "code",
   "execution_count": null,
   "metadata": {
    "slideshow": {
     "slide_type": "slide"
    }
   },
   "outputs": [],
   "source": [
    "plt.figure(figsize=(3.5, 3.5))\n",
    "eta_true.plot(c='k')\n",
    "plt.show()"
   ]
  },
  {
   "cell_type": "markdown",
   "metadata": {
    "slideshow": {
     "slide_type": "slide"
    }
   },
   "source": [
    "### Mutation rate history $\\mu(t)$\n",
    "A 96 dimensional history with a mixture of two latent signature: constant and pulse."
   ]
  },
  {
   "cell_type": "code",
   "execution_count": null,
   "metadata": {
    "slideshow": {
     "slide_type": "-"
    }
   },
   "outputs": [],
   "source": [
    "flat = np.ones_like(t)\n",
    "cols = 96\n",
    "Z = np.zeros((len(t), cols))\n",
    "mu0 = 1\n",
    "np.random.seed(1)\n",
    "for col in range(cols):\n",
    "    pulse = expit(.1 * (t - np.random.normal(100, 100))) - expit(.01 * (t - np.random.normal(1000, 10)))\n",
    "    scale = np.random.lognormal(-1, 1)\n",
    "    pulse_weight = 5 if col == 0 else 0\n",
    "    Z[:, col] = mu0 * scale * (flat + pulse_weight * pulse)\n",
    "\n",
    "mu_true = histories.mu(change_points, Z)"
   ]
  },
  {
   "cell_type": "code",
   "execution_count": null,
   "metadata": {
    "scrolled": true,
    "slideshow": {
     "slide_type": "slide"
    }
   },
   "outputs": [],
   "source": [
    "plt.figure(figsize=(4, 4))\n",
    "mu_true.plot(alpha=0.1, lw=2, c='C0', clr=True)\n",
    "mu_true.plot((0,), alpha=0.75, lw=3, c='C1', clr=True)\n",
    "plt.show()"
   ]
  },
  {
   "cell_type": "markdown",
   "metadata": {},
   "source": [
    "Estimate the total mutation rate using $t=0$"
   ]
  },
  {
   "cell_type": "code",
   "execution_count": null,
   "metadata": {},
   "outputs": [],
   "source": [
    "mu0 = mu_true.Z[0, :].sum()"
   ]
  },
  {
   "cell_type": "markdown",
   "metadata": {
    "slideshow": {
     "slide_type": "slide"
    }
   },
   "source": [
    "## Simulate a $k$-SFS\n",
    "- We'll sample 200 haplotypes\n",
    "- note that this simulation will have a slightly varying total mutation rate, due to the pulse"
   ]
  },
  {
   "cell_type": "code",
   "execution_count": null,
   "metadata": {
    "scrolled": true,
    "slideshow": {
     "slide_type": "slide"
    }
   },
   "outputs": [],
   "source": [
    "n = 200\n",
    "ksfs = mushi.kSFS(n=n)\n",
    "ksfs.simulate(eta_true, mu_true, seed=1)\n",
    "\n",
    "plt.figure(figsize=(4, 3))\n",
    "ksfs.plot(alpha=0.1, ls='', clr=True, marker='.', c='C0')\n",
    "ksfs.plot(0, alpha=0.75, ls='', clr=True, marker='o', c='C1')\n",
    "plt.show()"
   ]
  },
  {
   "cell_type": "code",
   "execution_count": null,
   "metadata": {},
   "outputs": [],
   "source": [
    "ksfs.X.sum()"
   ]
  },
  {
   "cell_type": "markdown",
   "metadata": {
    "slideshow": {
     "slide_type": "slide"
    }
   },
   "source": [
    "### TMRCA CDF"
   ]
  },
  {
   "cell_type": "code",
   "execution_count": null,
   "metadata": {},
   "outputs": [],
   "source": [
    "plt.figure(figsize=(3.5, 3.5))\n",
    "plt.plot(change_points, ksfs.tmrca_cdf(eta_true))\n",
    "plt.xlabel('$t$')\n",
    "plt.ylabel('TMRCA CDF')\n",
    "plt.ylim([0, 1])\n",
    "plt.xscale('log')\n",
    "plt.tight_layout()\n",
    "plt.show()"
   ]
  },
  {
   "cell_type": "markdown",
   "metadata": {},
   "source": [
    "### Infer $\\eta(t)$ and $\\boldsymbol\\mu(t)$"
   ]
  },
  {
   "cell_type": "markdown",
   "metadata": {},
   "source": [
    "Run inference"
   ]
  },
  {
   "cell_type": "code",
   "execution_count": null,
   "metadata": {},
   "outputs": [],
   "source": [
    "ksfs.clear_eta()\n",
    "ksfs.clear_mu()\n",
    "\n",
    "# define regularization parameters and convergence criteria\n",
    "convergence = dict(tol=1e-16, max_iter=10000)\n",
    "regularization_eta = dict(alpha_tv=1e-3, alpha_spline=1e1, alpha_ridge=1e-10)\n",
    "\n",
    "ksfs.infer_history(change_points, mu0, infer_mu=False,\n",
    "                   **regularization_eta, **convergence)\n",
    "plt.figure(figsize=(8, 4))\n",
    "plt.subplot(121)\n",
    "ksfs.plot_total(kwargs=dict(ls='', marker='o', ms=5, c='k', alpha=0.75),\n",
    "                line_kwargs=dict(c='C0', alpha=0.75, lw=3),\n",
    "                fill_kwargs=dict(color='C0', alpha=0.1))\n",
    "plt.subplot(122)\n",
    "eta_true.plot(c='k', lw=2, label='true')\n",
    "ksfs.eta.plot(lw=3, alpha=0.75, label='inferred')\n",
    "plt.legend()\n",
    "plt.show()"
   ]
  },
  {
   "cell_type": "code",
   "execution_count": null,
   "metadata": {},
   "outputs": [],
   "source": [
    "ksfs.clear_mu()\n",
    "\n",
    "# define regularization parameters and convergence criteria\n",
    "regularization_mu = dict(beta_tv=1e1, beta_spline=1e1, beta_ridge=1e-10)\n",
    "convergence = dict(tol=1e-16, max_iter=1000)\n",
    "\n",
    "ksfs.infer_history(change_points, mu0, infer_eta=False,\n",
    "                   **regularization_mu, **convergence)\n",
    "plt.figure(figsize=(6, 3))\n",
    "plt.subplot(121)\n",
    "ksfs.plot(alpha=0.05, lw=1, c='C0', clr=True)\n",
    "ksfs.plot(0, alpha=0.75, lw=2, c='C1', clr=True)\n",
    "plt.subplot(122)\n",
    "mu_true.plot(range(1, cols), alpha=0.1, lw=2, c='C0', clr=True)\n",
    "mu_true.plot((0,), alpha=0.75, lw=2, c='C1', clr=True)\n",
    "# ksfs.mu.plot(range(1, cols), alpha=0.1, lw=3, ls='--', c='C0', clr=True)\n",
    "ksfs.mu.plot((0,), alpha=0.75, lw=3, ls='--', c='C1', clr=True)\n",
    "plt.show()"
   ]
  },
  {
   "cell_type": "code",
   "execution_count": null,
   "metadata": {
    "scrolled": false
   },
   "outputs": [],
   "source": [
    "fig, axes = plt.subplots(nrows=2, ncols=2, sharex='col', figsize=(5.7, 5.7))\n",
    "\n",
    "mpl.rc('text', usetex=True)\n",
    "mpl.rcParams['text.latex.preamble']=[r\"\\usepackage{amsmath}\"]\n",
    "\n",
    "plt.sca(axes[0, 0])\n",
    "ksfs.plot_total(kwargs=dict(ls='', marker='o', ms=5, c='k', alpha=0.5, label=r'simulated SFS ($\\boldsymbol x$)'),\n",
    "                line_kwargs=dict(c='r', alpha=0.75, ls='--', lw=2, label=r'reconstructed SFS ($\\boldsymbol{\\xi}$)'),\n",
    "                fill_kwargs=dict(color='r', alpha=0.1))\n",
    "plt.xlabel(None)\n",
    "plt.legend(fontsize=8)\n",
    "\n",
    "plt.sca(axes[1, 0])\n",
    "ksfs.plot(alpha=0.05, lw=1, c='C0', clr=True)\n",
    "ksfs.plot(0, alpha=0.75, lw=2, c='C1', clr=True)\n",
    "plt.ylabel('variant count composition')\n",
    "legend_elements = [Line2D([0], [0], ls='', marker='o', ms=5, color='k', label=r'simulated $k$-SFS, $\\mathrm{clr}(X)$'),\n",
    "                   Line2D([0], [0], color='k', lw=2, label=r'reconstructed $k$-SFS, $\\mathrm{clr}(\\Xi)$')]\n",
    "plt.legend(handles=legend_elements, loc='lower left', fontsize=8)\n",
    "\n",
    "plt.sca(axes[0, 1])\n",
    "eta_true.plot(c='k', lw=2, alpha=0.75, label='true')\n",
    "ksfs.eta.plot(c='r', lw=3, alpha=0.5, label='inferred')\n",
    "plt.legend(fontsize=8)\n",
    "plt.xlabel(None)\n",
    "\n",
    "plt.sca(axes[1, 1])\n",
    "mu_true.plot(range(1, cols), alpha=0.1, lw=2, c='C0', clr=True)\n",
    "mu_true.plot((0,), alpha=0.75, lw=2, c='C1', clr=True)\n",
    "# ksfs.mu.plot(range(1, cols), alpha=0.1, lw=3, ls='--', c='C0', clr=True)\n",
    "ksfs.mu.plot((0,), alpha=0.75, lw=3, ls='--', c='C1', clr=True)\n",
    "plt.ylabel(r'$\\mathrm{clr}(\\boldsymbol{\\mu}(t))$')\n",
    "legend_elements = [Line2D([0], [0], ls='-', color='k', lw=2, label='true'),\n",
    "                   Line2D([0], [0], ls='--', color='k', lw=2, label='inferred')]\n",
    "plt.legend(handles=legend_elements, loc='lower left', fontsize=8)\n",
    "plt.xlim([1e1, 1e4])\n",
    "\n",
    "plt.tight_layout()\n",
    "if plot_dir:\n",
    "    plt.savefig(f'{plot_dir}/sim.pdf', transparent=True)\n",
    "plt.show()"
   ]
  },
  {
   "cell_type": "code",
   "execution_count": null,
   "metadata": {},
   "outputs": [],
   "source": []
  }
 ],
 "metadata": {
  "celltoolbar": "Slideshow",
  "kernelspec": {
   "display_name": "Python 3",
   "language": "python",
   "name": "python3"
  },
  "language_info": {
   "codemirror_mode": {
    "name": "ipython",
    "version": 3
   },
   "file_extension": ".py",
   "mimetype": "text/x-python",
   "name": "python",
   "nbconvert_exporter": "python",
   "pygments_lexer": "ipython3",
   "version": "3.7.6"
  }
 },
 "nbformat": 4,
 "nbformat_minor": 2
}
