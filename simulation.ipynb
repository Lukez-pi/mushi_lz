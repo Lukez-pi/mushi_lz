{
 "cells": [
  {
   "cell_type": "markdown",
   "metadata": {},
   "source": [
    "Mushi\n",
    "==\n",
    "_All that the rain promises and more..._"
   ]
  },
  {
   "cell_type": "markdown",
   "metadata": {
    "slideshow": {
     "slide_type": "-"
    }
   },
   "source": [
    "A notebook for testing `mushi`'s ability to invert data simulated under the forward model"
   ]
  },
  {
   "cell_type": "code",
   "execution_count": null,
   "metadata": {
    "slideshow": {
     "slide_type": "slide"
    }
   },
   "outputs": [],
   "source": [
    "%matplotlib inline \n",
    "import mushi\n",
    "import histories\n",
    "import numpy as np\n",
    "from matplotlib import pyplot as plt\n",
    "from scipy.special import expit\n",
    "import time\n",
    "import msprime\n",
    "import stdpopsim"
   ]
  },
  {
   "cell_type": "code",
   "execution_count": null,
   "metadata": {
    "slideshow": {
     "slide_type": "-"
    }
   },
   "outputs": [],
   "source": [
    "# plt.style.use('dark_background')"
   ]
  },
  {
   "cell_type": "markdown",
   "metadata": {
    "slideshow": {
     "slide_type": "slide"
    }
   },
   "source": [
    "### Time grid"
   ]
  },
  {
   "cell_type": "code",
   "execution_count": null,
   "metadata": {},
   "outputs": [],
   "source": [
    "change_points = np.logspace(0, np.log10(200000), 50)\n",
    "t = np.concatenate((np.array([0]), change_points))"
   ]
  },
  {
   "cell_type": "markdown",
   "metadata": {
    "slideshow": {
     "slide_type": "slide"
    }
   },
   "source": [
    "### Demographic history $\\eta(t)$ from the European population in Tennessen et al."
   ]
  },
  {
   "cell_type": "code",
   "execution_count": null,
   "metadata": {
    "slideshow": {
     "slide_type": "-"
    }
   },
   "outputs": [],
   "source": [
    "species = stdpopsim.get_species(\"HomSap\")\n",
    "model = species.get_demographic_model(\"OutOfAfrica_2T12\")\n",
    "ddb = model.get_demography_debugger()\n",
    "η_Tennessen = histories.η(change_points,\n",
    "                          1 / ddb.coalescence_rate_trajectory(steps=t,\n",
    "                                                              num_samples=[0, 2],\n",
    "                                                              double_step_validation=False)[0])"
   ]
  },
  {
   "cell_type": "code",
   "execution_count": null,
   "metadata": {
    "slideshow": {
     "slide_type": "slide"
    }
   },
   "outputs": [],
   "source": [
    "plt.figure(figsize=(3, 3))\n",
    "η_Tennessen.plot(label='Tennessen')\n",
    "plt.show()"
   ]
  },
  {
   "cell_type": "markdown",
   "metadata": {
    "slideshow": {
     "slide_type": "slide"
    }
   },
   "source": [
    "### Mutation rate history $\\mu(t)$\n",
    "A 96 dimensional history with a mixture of two latent signature: constant and pulse."
   ]
  },
  {
   "cell_type": "code",
   "execution_count": null,
   "metadata": {
    "slideshow": {
     "slide_type": "-"
    }
   },
   "outputs": [],
   "source": [
    "flat = np.ones_like(t)\n",
    "pulse = expit(1 * (t - 100)) - expit(1 * (t - 1000))\n",
    "cols = 96\n",
    "Z = np.zeros((len(t), cols))\n",
    "μ0 = 1\n",
    "np.random.seed(2)\n",
    "pulse_idxs = []\n",
    "flat_idxs = []\n",
    "for col in range(cols):\n",
    "    scale = np.random.lognormal(0, 0.2)\n",
    "    pulse_weight = np.random.lognormal(-1, .05) if col == 0 else 0\n",
    "    Z[:, col] = μ0 * (scale * (flat + pulse_weight * pulse))\n",
    "    if pulse_weight:\n",
    "        pulse_idxs.append(col)\n",
    "    else:\n",
    "        flat_idxs.append(col)\n",
    "        \n",
    "μ = histories.μ(change_points, Z)"
   ]
  },
  {
   "cell_type": "code",
   "execution_count": null,
   "metadata": {
    "slideshow": {
     "slide_type": "slide"
    }
   },
   "outputs": [],
   "source": [
    "plt.figure(figsize=(3, 3))\n",
    "μ.plot(flat_idxs, alpha=0.1, lw=1, c='k')\n",
    "μ.plot(pulse_idxs, alpha=0.5, lw=3)\n",
    "plt.show()"
   ]
  },
  {
   "cell_type": "markdown",
   "metadata": {},
   "source": [
    "Estimate the total mutation rate using $t=0$"
   ]
  },
  {
   "cell_type": "code",
   "execution_count": null,
   "metadata": {},
   "outputs": [],
   "source": [
    "μ0 = μ.Z[0, :].sum()"
   ]
  },
  {
   "cell_type": "markdown",
   "metadata": {
    "slideshow": {
     "slide_type": "slide"
    }
   },
   "source": [
    "## Simulate a $k$-SFS\n",
    "- We'll sample 200 haplotypes\n",
    "- note that this simulation will have a slightly varying total mutation rate, due to the pulse"
   ]
  },
  {
   "cell_type": "code",
   "execution_count": null,
   "metadata": {
    "slideshow": {
     "slide_type": "slide"
    }
   },
   "outputs": [],
   "source": [
    "n = 200\n",
    "ksfs = mushi.kSFS(η=η_Tennessen, μ=μ, n=n)\n",
    "ksfs.simulate(seed=1)\n",
    "\n",
    "plt.figure(figsize=(4, 3))\n",
    "for idx in flat_idxs:\n",
    "    ksfs.plot(idx, alpha=0.05, lw=1, c='k', clr=True)\n",
    "for idx in pulse_idxs:\n",
    "    ksfs.plot(idx, lw=3, clr=True)\n",
    "plt.show()"
   ]
  },
  {
   "cell_type": "markdown",
   "metadata": {
    "slideshow": {
     "slide_type": "slide"
    }
   },
   "source": [
    "### TMRCA CDF"
   ]
  },
  {
   "cell_type": "code",
   "execution_count": null,
   "metadata": {},
   "outputs": [],
   "source": [
    "plt.figure(figsize=(3, 3))\n",
    "plt.plot(change_points, ksfs.tmrca_cdf())\n",
    "plt.xlabel('$t$')\n",
    "plt.ylabel('TMRCA CDF')\n",
    "plt.ylim([0, 1])\n",
    "plt.xscale('symlog')\n",
    "plt.tight_layout()\n",
    "plt.show()"
   ]
  },
  {
   "cell_type": "markdown",
   "metadata": {},
   "source": [
    "### Infer $\\eta(t)$ and $\\boldsymbol\\mu(t)$\n",
    "define regularization parameters and convergence criteria"
   ]
  },
  {
   "cell_type": "code",
   "execution_count": null,
   "metadata": {},
   "outputs": [],
   "source": [
    "η_regularization = dict(α_tv=1e1, α_spline=2e2, α_ridge=1e-10)\n",
    "μ_regularization = dict(hard=True, β_rank=0, β_tv=1e1, β_β_ridge=1e-10)\n",
    "convergence = dict(tol=1e-10, max_iter=10000)"
   ]
  },
  {
   "cell_type": "markdown",
   "metadata": {},
   "source": [
    "Run inference"
   ]
  },
  {
   "cell_type": "code",
   "execution_count": null,
   "metadata": {},
   "outputs": [],
   "source": [
    "ksfs.infer_history(change_points, μ0, loss='prf',\n",
    "                   **η_regularization, **μ_regularization, **convergence)"
   ]
  },
  {
   "cell_type": "markdown",
   "metadata": {},
   "source": [
    "Plot the results"
   ]
  },
  {
   "cell_type": "code",
   "execution_count": null,
   "metadata": {},
   "outputs": [],
   "source": [
    "plt.figure(figsize=(7, 7))\n",
    "plt.subplot(221)\n",
    "ksfs.plot_total()\n",
    "plt.subplot(222)\n",
    "ksfs.plot(alpha=0.1, lw=1, c='C0', clr=True)\n",
    "for idx in pulse_idxs:\n",
    "    ksfs.plot(idx, lw=3, c='C1', clr=True)\n",
    "plt.subplot(223)\n",
    "η_Tennessen.plot(c='k', lw=3, label='true')\n",
    "ksfs.η.plot(lw=2, label='inferred')\n",
    "plt.legend()\n",
    "plt.subplot(224)\n",
    "μ.plot(pulse_idxs, clr=True, c='k', lw=3, label='true')\n",
    "ksfs.μ.plot(pulse_idxs, clr=True, lw=2, label='inferred')\n",
    "plt.legend()\n",
    "plt.show()"
   ]
  },
  {
   "cell_type": "markdown",
   "metadata": {},
   "source": [
    "Now let's try a parameter sweep of `α_tv` and `α_spline`, evaluating the L2 error of the demography at each point"
   ]
  },
  {
   "cell_type": "code",
   "execution_count": null,
   "metadata": {},
   "outputs": [],
   "source": [
    "def l2_error(η1: histories.η, η2: histories.η) -> np.float:\n",
    "    '''L2 distance between two histories\n",
    "    '''\n",
    "    t1, y1 = η1.arrays()\n",
    "    t2, y2 = η2.arrays()\n",
    "    assert all(t1 == t2)\n",
    "    Δt = np.diff(t1)\n",
    "    return np.sqrt((Δt * (y1 - y2) ** 2)[:-1].sum())"
   ]
  },
  {
   "cell_type": "code",
   "execution_count": null,
   "metadata": {},
   "outputs": [],
   "source": [
    "convergence = dict(tol=1e-10, max_iter=1000, max_line_iter=300, γ=0.8)\n",
    "α_tv_array = np.logspace(-3, 3, 10)\n",
    "α_spline_array = np.logspace(-3, 3, 10)\n",
    "X, Y = np.meshgrid(α_tv_array, α_spline_array)\n",
    "Z = np.zeros_like(X)\n",
    "for j, α_tv in enumerate(α_tv_array):\n",
    "    for i, α_spline in enumerate(α_spline_array):\n",
    "        η_regularization = dict(α_tv=α_tv, α_spline=α_spline, α_ridge=1e-10)\n",
    "        # need this so initialization is the same for each iterate\n",
    "        ksfs.η = None\n",
    "        ksfs.infer_history(change_points, μ0, infer_μ=False, **η_regularization, **convergence)\n",
    "        Z[i, j] = l2_error(η_Tennessen, ksfs.η)"
   ]
  },
  {
   "cell_type": "code",
   "execution_count": null,
   "metadata": {},
   "outputs": [],
   "source": [
    "plt.figure()\n",
    "plt.pcolor(X, Y, Z)\n",
    "plt.xscale('log')\n",
    "plt.xlabel('$\\\\alpha_{\\\\mathrm{TV}}$')\n",
    "plt.yscale('log')\n",
    "plt.ylabel('$\\\\alpha_{\\\\mathrm{spline}}$')\n",
    "plt.colorbar(label='RMS error')\n",
    "plt.show()\n",
    "    \n",
    "# plt.figure(figsize=(3, 3))\n",
    "# η_Tennessen.plot(c='k', lw=3, label='true')\n",
    "# η.plot(lw=2, label='inferred')\n",
    "# plt.legend()\n",
    "# plt.show()"
   ]
  },
  {
   "cell_type": "markdown",
   "metadata": {},
   "source": [
    "To do: study of non-convexity issues. Look for local suboptimal minima by randomizing intialization "
   ]
  },
  {
   "cell_type": "code",
   "execution_count": null,
   "metadata": {},
   "outputs": [],
   "source": []
  }
 ],
 "metadata": {
  "celltoolbar": "Slideshow",
  "kernelspec": {
   "display_name": "Python 3",
   "language": "python",
   "name": "python3"
  },
  "language_info": {
   "codemirror_mode": {
    "name": "ipython",
    "version": 3
   },
   "file_extension": ".py",
   "mimetype": "text/x-python",
   "name": "python",
   "nbconvert_exporter": "python",
   "pygments_lexer": "ipython3",
   "version": "3.7.6"
  }
 },
 "nbformat": 4,
 "nbformat_minor": 2
}
