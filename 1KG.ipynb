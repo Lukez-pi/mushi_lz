{
 "cells": [
  {
   "cell_type": "markdown",
   "metadata": {},
   "source": [
    "1KG\n",
    "==\n",
    "Run mushi on 3-SFS computed from 1000 Genome Project data"
   ]
  },
  {
   "cell_type": "code",
   "execution_count": null,
   "metadata": {
    "slideshow": {
     "slide_type": "slide"
    }
   },
   "outputs": [],
   "source": [
    "# %matplotlib inline \n",
    "%matplotlib notebook\n",
    "import histories\n",
    "import mushi\n",
    "import numpy as np\n",
    "import pandas as pd\n",
    "from matplotlib import pyplot as plt\n",
    "from scipy.special import expit\n",
    "import time\n",
    "from sklearn.decomposition import PCA"
   ]
  },
  {
   "cell_type": "code",
   "execution_count": null,
   "metadata": {},
   "outputs": [],
   "source": [
    "# plt.style.use('dark_background')"
   ]
  },
  {
   "cell_type": "markdown",
   "metadata": {},
   "source": [
    "### Load 1KG 3-SFS"
   ]
  },
  {
   "cell_type": "code",
   "execution_count": null,
   "metadata": {},
   "outputs": [],
   "source": [
    "ksfs_df = pd.read_csv('1KG/scons_output_EUR/3-SFS.tsv', sep='\\t', index_col=0)\n",
    "mutation_types = ksfs_df.columns\n",
    "n = ksfs_df.shape[0] + 1\n",
    "ksfs = mushi.kSFS(X=ksfs_df.values, mutation_types=mutation_types)"
   ]
  },
  {
   "cell_type": "markdown",
   "metadata": {},
   "source": [
    "Rank plot of the number of SNPs of each triplet mutation type"
   ]
  },
  {
   "cell_type": "code",
   "execution_count": null,
   "metadata": {
    "scrolled": false
   },
   "outputs": [],
   "source": [
    "plt.figure(figsize=(15, 3))\n",
    "plt.plot(ksfs_df.sum().sort_values(ascending=False).to_frame(), '.')\n",
    "plt.xticks(rotation='vertical', family='monospace')\n",
    "plt.ylabel('number of SNPs')\n",
    "plt.yscale('symlog')\n",
    "plt.tight_layout()\n",
    "# plt.savefig('/Users/williamdewitt/Downloads/foo.png')\n",
    "plt.show()"
   ]
  },
  {
   "cell_type": "markdown",
   "metadata": {},
   "source": [
    "### Genome size and mutation rate estimation"
   ]
  },
  {
   "cell_type": "code",
   "execution_count": null,
   "metadata": {},
   "outputs": [],
   "source": [
    "masked_size = int(open('1KG/scons_output_EUR/masked_size.tsv').read())\n",
    "mutation_rate = 1.1e-8\n",
    "μ_0 = mutation_rate * masked_size"
   ]
  },
  {
   "cell_type": "markdown",
   "metadata": {},
   "source": [
    "### Invert the total SFS to fit $\\eta(t)$"
   ]
  },
  {
   "cell_type": "code",
   "execution_count": null,
   "metadata": {},
   "outputs": [],
   "source": [
    "mask = np.array([False if (1 <= i <= n - 20) else True for i in range(n - 1)])\n",
    "# mask = None"
   ]
  },
  {
   "cell_type": "code",
   "execution_count": null,
   "metadata": {},
   "outputs": [],
   "source": [
    "change_points = np.logspace(0, 5, 50)\n",
    "\n",
    "it = 0\n",
    "def callback(x):\n",
    "    global it\n",
    "    it += 1\n",
    "    print(f'iteration {it}', end='  \\r', flush=True)\n",
    "\n",
    "result = ksfs.infer_η(change_points=change_points,\n",
    "                      fit='prf', μ_0=μ_0, λ=1e-6, mask=mask,\n",
    "                      callback=callback,\n",
    "#                       method='Nelder-Mead',\n",
    "                      options=dict(disp=True,\n",
    "#                                    tol=1e-3,\n",
    "                                   maxiter=1000,\n",
    "#                                    maxfev=np.inf\n",
    "                                  )\n",
    "                     )\n",
    "print(result.message)\n",
    "\n",
    "plt.figure(figsize=(6, 3))\n",
    "plt.subplot(121)\n",
    "ksfs.plot_total()\n",
    "# plt.legend()\n",
    "plt.subplot(122)\n",
    "ksfs.η.plot()\n",
    "plt.show()"
   ]
  },
  {
   "cell_type": "markdown",
   "metadata": {
    "slideshow": {
     "slide_type": "slide"
    }
   },
   "source": [
    "### TMRCA CDF"
   ]
  },
  {
   "cell_type": "code",
   "execution_count": null,
   "metadata": {},
   "outputs": [],
   "source": [
    "plt.figure(figsize=(3, 3))\n",
    "plt.plot(change_points, ksfs.tmrca_cdf())\n",
    "plt.xlabel('$t$')\n",
    "plt.ylabel('TMRCA CDF')\n",
    "plt.ylim([0, 1])\n",
    "plt.xscale('symlog')\n",
    "plt.tight_layout()\n",
    "plt.show()"
   ]
  },
  {
   "cell_type": "markdown",
   "metadata": {},
   "source": [
    "### Mutation type enrichment as a heatmap with correlation clustering"
   ]
  },
  {
   "cell_type": "code",
   "execution_count": null,
   "metadata": {
    "scrolled": true,
    "slideshow": {
     "slide_type": "fragment"
    }
   },
   "outputs": [],
   "source": [
    "ksfs.clustermap(figsize=(25, 10))\n",
    "# plt.savefig('/Users/williamdewitt/Downloads/1KG_heatmap.pdf', transparent=True)\n",
    "plt.show()"
   ]
  },
  {
   "cell_type": "markdown",
   "metadata": {
    "slideshow": {
     "slide_type": "slide"
    }
   },
   "source": [
    "### Invert the $k$-SFS conditioned on $\\eta(t)$ to get $\\boldsymbol\\mu(t)$\n",
    "Accelerated proximal gradient descent"
   ]
  },
  {
   "cell_type": "code",
   "execution_count": null,
   "metadata": {
    "slideshow": {
     "slide_type": "slide"
    }
   },
   "outputs": [],
   "source": [
    "f_trajectory = ksfs.infer_μ(# loss function parameters\n",
    "                                        fit='prf',\n",
    "                                        mask=mask,\n",
    "                                        # time derivative regularization parameters\n",
    "                                        λ_tv=1e4,\n",
    "                                        α_tv=0,\n",
    "                                        # spectral regularization parameters\n",
    "                                        λ_r=1e2,\n",
    "                                        α_r=1-1/2e4,\n",
    "                                        hard=True,                                        \n",
    "                                        # convergence parameters\n",
    "                                        max_iter=10000,\n",
    "                                        tol=1e-10,\n",
    "                                        γ=0.8)"
   ]
  },
  {
   "cell_type": "markdown",
   "metadata": {
    "slideshow": {
     "slide_type": "slide"
    }
   },
   "source": [
    "Convergence"
   ]
  },
  {
   "cell_type": "code",
   "execution_count": null,
   "metadata": {},
   "outputs": [],
   "source": [
    "plt.figure(figsize=(4, 2))\n",
    "plt.plot(f_trajectory)\n",
    "plt.xlabel('iterations')\n",
    "plt.ylabel('cost')\n",
    "plt.xscale('symlog')\n",
    "plt.tight_layout()\n",
    "plt.show()"
   ]
  },
  {
   "cell_type": "markdown",
   "metadata": {
    "slideshow": {
     "slide_type": "slide"
    }
   },
   "source": [
    "### Singular value spectrum of $Z$"
   ]
  },
  {
   "cell_type": "code",
   "execution_count": null,
   "metadata": {},
   "outputs": [],
   "source": [
    "plt.figure(figsize=(3, 3))\n",
    "plt.plot(range(1, 1 + min(ksfs.μ.Z.shape)), np.linalg.svd(ksfs.μ.Z, compute_uv=False), '.')\n",
    "plt.yscale('log')\n",
    "plt.tight_layout()\n",
    "plt.show()"
   ]
  },
  {
   "cell_type": "markdown",
   "metadata": {
    "slideshow": {
     "slide_type": "slide"
    }
   },
   "source": [
    "The inferred histories for each mutation type (raw mutation rate in units of mutations per genome per generation)"
   ]
  },
  {
   "cell_type": "code",
   "execution_count": null,
   "metadata": {},
   "outputs": [],
   "source": [
    "pulse_types = ('TCC>TTC', 'CCC>CTC', 'ACC>ATC', 'TCT>TTT')"
   ]
  },
  {
   "cell_type": "code",
   "execution_count": null,
   "metadata": {},
   "outputs": [],
   "source": [
    "plt.figure(figsize=(6, 2.5))\n",
    "plt.subplot(121)\n",
    "\n",
    "ksfs.plot(alpha=0.02, c='k', lw=2, normed=True)\n",
    "for color_idx, mut_type in enumerate(pulse_types):\n",
    "    ksfs.plot(mut_type, lw=2, c=f'C{color_idx}', normed=True, label=mut_type)\n",
    "plt.legend(loc=1, prop={'size': 8}, framealpha=0, edgecolor='k')\n",
    "plt.xlim([2, None])\n",
    "\n",
    "plt.subplot(122)\n",
    "ksfs.μ.plot(alpha=0.1, lw=1, c='k', normed=False)\n",
    "for mut_type in pulse_types:\n",
    "    ksfs.μ.plot(types=[mut_type], lw=2, normed=False, label=mut_type)\n",
    "plt.legend().remove()#loc=2, prop={'size': 7.5})\n",
    "\n",
    "# plt.savefig('/Users/williamdewitt/Downloads/1KG.pdf', transparent=True)\n",
    "plt.show()"
   ]
  },
  {
   "cell_type": "code",
   "execution_count": null,
   "metadata": {},
   "outputs": [],
   "source": [
    "plt.figure(figsize=(6, 2.5))\n",
    "plt.plot(np.concatenate(([0], change_points)), ksfs.μ.Z.sum(1), lw=1, c='k')\n",
    "plt.xscale('symlog')\n",
    "plt.show()"
   ]
  },
  {
   "cell_type": "markdown",
   "metadata": {
    "slideshow": {
     "slide_type": "slide"
    }
   },
   "source": [
    "Heatmap of the inferred mutation spectrum history, plotted as relative mutation intensity as in Harris and Pritchard"
   ]
  },
  {
   "cell_type": "code",
   "execution_count": null,
   "metadata": {},
   "outputs": [],
   "source": [
    "# μ.clustermap(figsize=(25, 10))\n",
    "# # plt.savefig('/Users/williamdewitt/Downloads/cluster.png', transparent=False)\n",
    "# plt.show()"
   ]
  },
  {
   "cell_type": "markdown",
   "metadata": {
    "slideshow": {
     "slide_type": "slide"
    }
   },
   "source": [
    "plot $\\chi^2$ goodness of fit for each $k$-SFS matrix element, and compute $\\chi^2$ goodness of fit test for the $k$-SFS matrix as a whole"
   ]
  },
  {
   "cell_type": "code",
   "execution_count": null,
   "metadata": {},
   "outputs": [],
   "source": [
    "# ksfs.clustermap(μ, figsize=(25, 10), cmap='Reds')\n",
    "# plt.show()"
   ]
  },
  {
   "cell_type": "markdown",
   "metadata": {},
   "source": [
    "Plot SFS fit for the first 10 mutation types individually"
   ]
  },
  {
   "cell_type": "code",
   "execution_count": null,
   "metadata": {
    "scrolled": true,
    "slideshow": {
     "slide_type": "-"
    }
   },
   "outputs": [],
   "source": [
    "# plt.figure(figsize=(3, 3))\n",
    "# ksfs.plot1('TCC>TTC', μ=μ, prf_quantiles=True)\n",
    "# plt.tight_layout()\n",
    "# plt.show()"
   ]
  },
  {
   "cell_type": "code",
   "execution_count": null,
   "metadata": {},
   "outputs": [],
   "source": [
    "pca = PCA().fit(ksfs.μ.Z.T)\n",
    "\n",
    "plt.figure(figsize=(6, 2.5))\n",
    "plt.subplot(121)\n",
    "\n",
    "plt.plot(np.concatenate(([0], change_points)), pca.components_[0], label='principle vector 1')\n",
    "plt.plot(np.concatenate(([0], change_points)), pca.components_[1], label='principle vector 2')\n",
    "plt.plot(np.concatenate(([0], change_points)), pca.components_[2], label='principle vector 3')\n",
    "# plt.plot(np.concatenate(([0], change_points)), pca.components_[3], label='principle vector 4')\n",
    "# plt.plot(np.concatenate(([0], change_points)), pca.components_[4], label='principle vector 5')\n",
    "# plt.plot(np.concatenate(([0], change_points)), pca.components_[5], label='principle vector 6')\n",
    "# plt.plot(np.concatenate(([0], change_points)), pca.components_[6], label='principle vector 7')\n",
    "# plt.plot(np.concatenate(([0], change_points)), pca.components_[7], label='principle vector 8')\n",
    "# plt.plot(np.concatenate(([0], change_points)), pca.components_[8], label='principle vector 9')\n",
    "# plt.plot(np.concatenate(([0], change_points)), pca.components_[9], label='principle vector 10')\n",
    "plt.xlabel('$t$')\n",
    "plt.xscale('log')\n",
    "plt.legend(loc='lower left', prop={'size': 7.5}, framealpha=.5)\n",
    "\n",
    "plt.subplot(122)\n",
    "plt.scatter(*pca.transform(ksfs.μ.Z.T).T[1:3, :], c='k', alpha=0.2, s=20)\n",
    "for mut_type in pulse_types:\n",
    "    plt.scatter(*pca.transform(ksfs.μ.Z.T).T[1:3, ksfs.mutation_types.get_loc(mut_type)], label=mut_type, s=20)\n",
    "plt.xlabel('PC 2')\n",
    "plt.ylabel('PC 3')\n",
    "plt.legend(loc='lower right', prop={'size': 8}, framealpha=.5)\n",
    "plt.tight_layout()\n",
    "plt.savefig('/Users/williamdewitt/Downloads/1KG_PC.pdf', transparent=True)\n",
    "plt.show()"
   ]
  },
  {
   "cell_type": "code",
   "execution_count": null,
   "metadata": {},
   "outputs": [],
   "source": [
    "pca.explained_variance_"
   ]
  },
  {
   "cell_type": "code",
   "execution_count": null,
   "metadata": {},
   "outputs": [],
   "source": [
    "import seaborn as sns\n",
    "\n",
    "col_colors = ['red' if mut_type in pulse_types else 'grey' for mut_type in ksfs.mutation_types]\n",
    "\n",
    "Z_pca = pca.transform(ksfs.μ.Z.T).T[1:10, :]\n",
    "df = pd.DataFrame(data=Z_pca, index=range(2, Z_pca.shape[0] + 2),\n",
    "                  columns=ksfs.μ.mutation_types)\n",
    "g = sns.clustermap(df, center=0, col_colors=col_colors, method='ward',\n",
    "                   cbar_kws={'label': 'PC weight'})"
   ]
  },
  {
   "cell_type": "code",
   "execution_count": null,
   "metadata": {},
   "outputs": [],
   "source": []
  }
 ],
 "metadata": {
  "celltoolbar": "Slideshow",
  "kernelspec": {
   "display_name": "Python 3",
   "language": "python",
   "name": "python3"
  },
  "language_info": {
   "codemirror_mode": {
    "name": "ipython",
    "version": 3
   },
   "file_extension": ".py",
   "mimetype": "text/x-python",
   "name": "python",
   "nbconvert_exporter": "python",
   "pygments_lexer": "ipython3",
   "version": "3.7.4"
  }
 },
 "nbformat": 4,
 "nbformat_minor": 2
}
