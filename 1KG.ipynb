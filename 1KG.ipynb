{
 "cells": [
  {
   "cell_type": "markdown",
   "metadata": {},
   "source": [
    "1KG\n",
    "==\n",
    "Run mushi on 3-SFS computed from 1000 Genome Project data"
   ]
  },
  {
   "cell_type": "code",
   "execution_count": null,
   "metadata": {
    "slideshow": {
     "slide_type": "slide"
    }
   },
   "outputs": [],
   "source": [
    "%matplotlib inline \n",
    "# %matplotlib notebook\n",
    "import histories\n",
    "import mushi\n",
    "import numpy as np\n",
    "import pandas as pd\n",
    "from matplotlib import pyplot as plt\n",
    "from scipy.special import expit\n",
    "import time\n",
    "from sklearn.decomposition import PCA"
   ]
  },
  {
   "cell_type": "code",
   "execution_count": null,
   "metadata": {},
   "outputs": [],
   "source": [
    "# plt.style.use('dark_background')"
   ]
  },
  {
   "cell_type": "markdown",
   "metadata": {},
   "source": [
    "### Load 1KG 3-SFS"
   ]
  },
  {
   "cell_type": "code",
   "execution_count": null,
   "metadata": {},
   "outputs": [],
   "source": [
    "ksfs_df = pd.read_csv('1KG/scons_output_EUR/3-SFS.tsv', sep='\\t', index_col=0)\n",
    "mutation_types = ksfs_df.columns\n",
    "n = ksfs_df.shape[0] + 1\n",
    "ksfs = mushi.kSFS(X=ksfs_df.values, mutation_types=mutation_types)"
   ]
  },
  {
   "cell_type": "markdown",
   "metadata": {},
   "source": [
    "### Rank plot of the number of SNPs of each triplet mutation type"
   ]
  },
  {
   "cell_type": "code",
   "execution_count": null,
   "metadata": {
    "scrolled": false
   },
   "outputs": [],
   "source": [
    "plt.figure(figsize=(15, 3))\n",
    "plt.plot(ksfs_df.sum().sort_values(ascending=False).to_frame(), '.')\n",
    "plt.xticks(rotation='vertical', family='monospace')\n",
    "plt.ylabel('number of SNPs')\n",
    "plt.yscale('symlog')\n",
    "plt.tight_layout()\n",
    "# plt.savefig('/Users/williamdewitt/Downloads/foo.png')\n",
    "plt.show()"
   ]
  },
  {
   "cell_type": "markdown",
   "metadata": {},
   "source": [
    "### Genome size and mutation rate estimation"
   ]
  },
  {
   "cell_type": "code",
   "execution_count": null,
   "metadata": {},
   "outputs": [],
   "source": [
    "masked_size = int(open('1KG/scons_output_EUR/masked_size.tsv').read())\n",
    "mutation_rate = 1.1e-8\n",
    "μ_0 = mutation_rate * masked_size\n",
    "print(f'mutation rate in units of mutations per masked genome per generation: {μ_0}')"
   ]
  },
  {
   "cell_type": "markdown",
   "metadata": {},
   "source": [
    "### Mutation type enrichment as a heatmap with correlation clustering"
   ]
  },
  {
   "cell_type": "code",
   "execution_count": null,
   "metadata": {
    "scrolled": true,
    "slideshow": {
     "slide_type": "fragment"
    }
   },
   "outputs": [],
   "source": [
    "ksfs.clustermap(figsize=(25, 10))\n",
    "# plt.savefig('/Users/williamdewitt/Downloads/1KG_heatmap.pdf', transparent=True)\n",
    "plt.show()"
   ]
  },
  {
   "cell_type": "markdown",
   "metadata": {
    "slideshow": {
     "slide_type": "slide"
    }
   },
   "source": [
    "### Invert the $k$-SFS to infer $\\eta(t)$ and $\\boldsymbol\\mu(t)$\n",
    "Initialize to constant"
   ]
  },
  {
   "cell_type": "code",
   "execution_count": null,
   "metadata": {},
   "outputs": [],
   "source": [
    "change_points = np.logspace(0, 5.3, 200)\n",
    "mask = np.array([False if (0 <= i <= n - 20) else True for i in range(n - 1)])\n",
    "\n",
    "ksfs.infer_constant(change_points=change_points, μ_0=μ_0, mask=mask)\n",
    "\n",
    "plt.figure(figsize=(6, 6))\n",
    "plt.subplot(221)\n",
    "ksfs.plot_total()\n",
    "plt.subplot(222)\n",
    "ksfs.η.plot()\n",
    "plt.subplot(223)\n",
    "ksfs.plot(normed=True, alpha=0.5)\n",
    "plt.subplot(224)\n",
    "ksfs.μ.plot(normed=True, alpha=0.5)\n",
    "plt.show()"
   ]
  },
  {
   "cell_type": "markdown",
   "metadata": {
    "slideshow": {
     "slide_type": "slide"
    }
   },
   "source": [
    "### TMRCA CDF"
   ]
  },
  {
   "cell_type": "code",
   "execution_count": null,
   "metadata": {},
   "outputs": [],
   "source": [
    "plt.figure(figsize=(3, 3))\n",
    "plt.plot(change_points, ksfs.tmrca_cdf())\n",
    "plt.xlabel('$t$')\n",
    "plt.ylabel('TMRCA CDF')\n",
    "plt.ylim([0, 1])\n",
    "plt.xscale('symlog')\n",
    "plt.tight_layout()\n",
    "plt.show()"
   ]
  },
  {
   "cell_type": "markdown",
   "metadata": {},
   "source": [
    "Accelerated proximal block coordinate descent"
   ]
  },
  {
   "cell_type": "code",
   "execution_count": null,
   "metadata": {
    "scrolled": false,
    "slideshow": {
     "slide_type": "slide"
    }
   },
   "outputs": [],
   "source": [
    "f_trajectory = []\n",
    "\n",
    "sweeps = 10\n",
    "for sweep in range(1, 1 + sweeps):    \n",
    "    print(f'block coordinate descent sweep {sweep:.2g}')\n",
    "    f = ksfs.coord_desc(# loss function parameters\n",
    "                        fit='prf',\n",
    "                        mask=mask,\n",
    "                        # η(t) regularization parameters\n",
    "                        α_tv=0,#1e3,\n",
    "                        α_spline=1e3,\n",
    "                        # μ(t) regularization parameters\n",
    "                        β_tv=0,\n",
    "                        β_spline=2e5,   \n",
    "                        # spectral regularization parameters\n",
    "                        β_rank=5e3,\n",
    "                        β_ridge=1e-6,\n",
    "                        hard=True,                                     \n",
    "                        # convergence parameters\n",
    "                        max_iter=10000,\n",
    "                        tol=1e-10,\n",
    "                        γ=0.8)\n",
    "    print(f'cost: {f}')\n",
    "    if sweep > 1:\n",
    "        relative_change = np.abs((f - f_old) / f_old)\n",
    "        print(f'relative change: {relative_change:.2g}')\n",
    "    print()\n",
    "    f_old = f\n",
    "    f_trajectory.append(f)\n",
    "    \n",
    "    plt.figure(figsize=(6, 6))\n",
    "    plt.subplot(221)\n",
    "    ksfs.plot_total()\n",
    "    plt.subplot(222)\n",
    "    ksfs.η.plot()\n",
    "    plt.subplot(223)\n",
    "    ksfs.plot(normed=True, alpha=0.5)\n",
    "    plt.subplot(224)\n",
    "    ksfs.μ.plot(normed=True, alpha=0.5)\n",
    "    plt.show()\n",
    "\n",
    "\n",
    "plt.figure(figsize=(4, 2))\n",
    "plt.plot(f_trajectory)\n",
    "plt.xlabel('iterations')\n",
    "plt.ylabel('cost')\n",
    "# plt.xscale('symlog')\n",
    "plt.tight_layout()\n",
    "plt.show()\n",
    "\n",
    "\n",
    "pulse_types = ('TCC>TTC', 'ACC>ATC', 'TCT>TTT', 'CCC>CTC')\n",
    "\n",
    "plt.figure(figsize=(6, 2.5))\n",
    "plt.subplot(121)\n",
    "\n",
    "ksfs.plot(alpha=0.01, c='k', lw=2, normed=True, zorder=0)\n",
    "for color_idx, mut_type in enumerate(pulse_types):\n",
    "    zorder = color_idx + 1\n",
    "    alpha = 0.9 * (len(pulse_types) - color_idx) / len(pulse_types)\n",
    "    ksfs.plot(mut_type, alpha=alpha, lw=2, c=f'C{color_idx}', normed=True, label=mut_type, zorder=zorder)\n",
    "plt.legend(loc=0, prop={'size': 8}, framealpha=0.5, edgecolor='k')\n",
    "plt.xlim([2, None])\n",
    "\n",
    "plt.subplot(122)\n",
    "ksfs.μ.plot(alpha=0.1, lw=1, c='k', normed=False)\n",
    "for mut_type in pulse_types:\n",
    "    ksfs.μ.plot(types=[mut_type], lw=2, normed=False, label=mut_type)\n",
    "plt.legend().remove()#loc=2, prop={'size': 7.5})\n",
    "\n",
    "# plt.savefig('/Users/williamdewitt/Downloads/1KG.pdf', transparent=True)\n",
    "plt.show()"
   ]
  },
  {
   "cell_type": "markdown",
   "metadata": {
    "slideshow": {
     "slide_type": "slide"
    }
   },
   "source": [
    "### Singular value spectrum of $Z$"
   ]
  },
  {
   "cell_type": "code",
   "execution_count": null,
   "metadata": {},
   "outputs": [],
   "source": [
    "plt.figure(figsize=(3, 3))\n",
    "plt.plot(range(1, 1 + min(ksfs.μ.Z.shape)), np.linalg.svd(ksfs.μ.Z, compute_uv=False), '.')\n",
    "plt.yscale('log')\n",
    "plt.tight_layout()\n",
    "plt.show()"
   ]
  },
  {
   "cell_type": "markdown",
   "metadata": {
    "slideshow": {
     "slide_type": "slide"
    }
   },
   "source": [
    "Heatmap of the inferred mutation spectrum history, plotted as relative mutation intensity as in Harris and Pritchard"
   ]
  },
  {
   "cell_type": "code",
   "execution_count": null,
   "metadata": {},
   "outputs": [],
   "source": [
    "# ksfs.μ.clustermap(figsize=(25, 10))\n",
    "# plt.savefig('/Users/williamdewitt/Downloads/cluster.png', transparent=False)\n",
    "# plt.show()"
   ]
  },
  {
   "cell_type": "markdown",
   "metadata": {
    "slideshow": {
     "slide_type": "slide"
    }
   },
   "source": [
    "plot $\\chi^2$ goodness of fit for each $k$-SFS matrix element, and compute $\\chi^2$ goodness of fit test for the $k$-SFS matrix as a whole"
   ]
  },
  {
   "cell_type": "code",
   "execution_count": null,
   "metadata": {},
   "outputs": [],
   "source": [
    "# ksfs.clustermap(μ, figsize=(25, 10), cmap='Reds')\n",
    "# plt.show()"
   ]
  },
  {
   "cell_type": "markdown",
   "metadata": {},
   "source": [
    "Plot SFS fit for the first 10 mutation types individually"
   ]
  },
  {
   "cell_type": "code",
   "execution_count": null,
   "metadata": {
    "scrolled": true,
    "slideshow": {
     "slide_type": "-"
    }
   },
   "outputs": [],
   "source": [
    "# plt.figure(figsize=(3, 3))\n",
    "# ksfs.plot1('TCC>TTC', μ=μ, prf_quantiles=True)\n",
    "# plt.tight_layout()\n",
    "# plt.show()"
   ]
  },
  {
   "cell_type": "code",
   "execution_count": null,
   "metadata": {
    "scrolled": true
   },
   "outputs": [],
   "source": [
    "pca = PCA().fit(ksfs.μ.Z.T)\n",
    "\n",
    "plt.figure(figsize=(6, 2.5))\n",
    "plt.subplot(121)\n",
    "\n",
    "plt.plot(np.concatenate(([0], change_points)), pca.components_[0], label='latent signature 1')\n",
    "plt.plot(np.concatenate(([0], change_points)), pca.components_[1], label='latent signature 2')\n",
    "plt.plot(np.concatenate(([0], change_points)), pca.components_[2], label='latent signature 3')\n",
    "# plt.plot(np.concatenate(([0], change_points)), pca.components_[3], label='principle vector 4')\n",
    "# plt.plot(np.concatenate(([0], change_points)), pca.components_[4], label='principle vector 5')\n",
    "# plt.plot(np.concatenate(([0], change_points)), pca.components_[5], label='principle vector 6')\n",
    "# plt.plot(np.concatenate(([0], change_points)), pca.components_[6], label='principle vector 7')\n",
    "# plt.plot(np.concatenate(([0], change_points)), pca.components_[7], label='principle vector 8')\n",
    "# plt.plot(np.concatenate(([0], change_points)), pca.components_[8], label='principle vector 9')\n",
    "# plt.plot(np.concatenate(([0], change_points)), pca.components_[9], label='principle vector 10')\n",
    "plt.xlabel('$t$')\n",
    "plt.xscale('symlog')\n",
    "plt.legend(loc='lower left', prop={'size': 7.5}, framealpha=.5)\n",
    "\n",
    "plt.subplot(122)\n",
    "plt.scatter(*pca.transform(ksfs.μ.Z.T).T[1:3, :], c='k', alpha=0.2, s=20)\n",
    "for mut_type in pulse_types:\n",
    "    x, y = pca.transform(ksfs.μ.Z.T).T[1:3, ksfs.mutation_types.get_loc(mut_type)]\n",
    "    plt.scatter(x, y, label=mut_type, s=20, c='C2')\n",
    "    plt.annotate(mut_type, (x, y), size='small',\n",
    "                c='C2'\n",
    "                )\n",
    "PC2_outliers = np.nonzero(pca.transform(ksfs.μ.Z.T).T[1, :] > 0.2)[0]\n",
    "for foo, idx in enumerate(PC2_outliers):\n",
    "    x, y = pca.transform(ksfs.μ.Z.T).T[1:3, idx]\n",
    "    plt.scatter(x, y, label=mut_type, s=20, c='C1')\n",
    "    if ksfs.mutation_types[idx] == 'TCG>TTG':\n",
    "        xt = x - 0.15\n",
    "        yt = y + 0.1\n",
    "    elif ksfs.mutation_types[idx] == 'GCG>GTG':\n",
    "        xt = x - 0.18\n",
    "        yt = y - 0.03\n",
    "    elif ksfs.mutation_types[idx] == 'CCG>CTG':\n",
    "        xt = x - 0.1\n",
    "        yt = y + 0.08\n",
    "    elif ksfs.mutation_types[idx] == 'ACG>ATG':\n",
    "        xt = x - 0.2\n",
    "        yt = y - 0.03       \n",
    "    plt.annotate(ksfs.mutation_types[idx], (x, y), xytext=(xt, yt), size='small', c='C1',\n",
    "                 arrowprops=dict(arrowstyle='->') \n",
    "                )\n",
    "plt.xlabel('PC 2')\n",
    "plt.ylabel('PC 3')\n",
    "# plt.legend(loc='upper right', prop={'size': 8}, framealpha=.5)\n",
    "plt.tight_layout()\n",
    "# plt.savefig('/Users/williamdewitt/Downloads/1KG_PC.pdf', transparent=True)\n",
    "plt.show()"
   ]
  },
  {
   "cell_type": "code",
   "execution_count": null,
   "metadata": {},
   "outputs": [],
   "source": [
    "pca.explained_variance_"
   ]
  },
  {
   "cell_type": "code",
   "execution_count": null,
   "metadata": {},
   "outputs": [],
   "source": [
    "import seaborn as sns\n",
    "\n",
    "col_colors = ['red' if mut_type in pulse_types else 'grey' for mut_type in ksfs.mutation_types]\n",
    "\n",
    "comp = 1\n",
    "Z_pca = np.array([pca.transform(ksfs.μ.Z.T).T[comp, :]])\n",
    "df = pd.DataFrame(data=Z_pca, index=[comp],\n",
    "                  columns=ksfs.μ.mutation_types)\n",
    "g = sns.clustermap(df.T, center=0,\n",
    "#                    col_colors=col_colors,\n",
    "                   method='ward', col_cluster=False, row_cluster=False,\n",
    "                   cbar_kws={'label': 'PC weight'}, figsize=(5, 10))"
   ]
  },
  {
   "cell_type": "code",
   "execution_count": null,
   "metadata": {},
   "outputs": [],
   "source": [
    "plt.figure(figsize=(13, 3))\n",
    "df2 = df.T.sort_values(1)\n",
    "sns.barplot(x=df2.index, y=1, data=df2)\n",
    "plt.xticks(rotation='vertical')\n",
    "plt.tight_layout()\n",
    "plt.savefig('/Users/williamdewitt/Downloads/PC3_rank.pdf', transparent=True)\n",
    "plt.show()"
   ]
  },
  {
   "cell_type": "code",
   "execution_count": null,
   "metadata": {},
   "outputs": [],
   "source": [
    "ksfs.plot(type='TCC>TTC', normed=True)"
   ]
  },
  {
   "cell_type": "code",
   "execution_count": null,
   "metadata": {},
   "outputs": [],
   "source": []
  }
 ],
 "metadata": {
  "celltoolbar": "Slideshow",
  "kernelspec": {
   "display_name": "Python 3",
   "language": "python",
   "name": "python3"
  },
  "language_info": {
   "codemirror_mode": {
    "name": "ipython",
    "version": 3
   },
   "file_extension": ".py",
   "mimetype": "text/x-python",
   "name": "python",
   "nbconvert_exporter": "python",
   "pygments_lexer": "ipython3",
   "version": "3.7.4"
  }
 },
 "nbformat": 4,
 "nbformat_minor": 2
}
