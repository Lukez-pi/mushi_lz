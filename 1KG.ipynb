{
 "cells": [
  {
   "cell_type": "markdown",
   "metadata": {},
   "source": [
    "1KG\n",
    "==\n",
    "Run mushi on 3-SFS computed from 1000 Genome Project data"
   ]
  },
  {
   "cell_type": "code",
   "execution_count": null,
   "metadata": {
    "slideshow": {
     "slide_type": "slide"
    }
   },
   "outputs": [],
   "source": [
    "# %matplotlib inline \n",
    "%matplotlib notebook\n",
    "from mushi import kSFS\n",
    "import numpy as np\n",
    "from matplotlib import pyplot as plt\n",
    "import pandas as pd\n",
    "import seaborn as sns\n",
    "from sklearn.decomposition import PCA, NMF\n",
    "from umap import UMAP\n",
    "import pickle"
   ]
  },
  {
   "cell_type": "code",
   "execution_count": null,
   "metadata": {},
   "outputs": [],
   "source": [
    "ksfs = pickle.load(open('1KG/scons_output_5mer/EUR/mushi.pkl', 'rb'))\n",
    "plt.figure(figsize=(3, 3))\n",
    "plt.plot(range(1, 1 + min(ksfs.μ.Z.shape)), np.linalg.svd(ksfs.μ.Z, compute_uv=False), '.')\n",
    "plt.yscale('log')\n",
    "plt.tight_layout()\n",
    "plt.show()\n",
    "\n",
    "from umap import UMAP\n",
    "\n",
    "# embedding = UMAP(n_components=3, n_neighbors=3)#, min_dist=1)\n",
    "# coords = ('UMAP 1', 'UMAP 2', 'UMAP 3')\n",
    "embedding = PCA(n_components=3)\n",
    "coords = ('PC 1', 'PC 2', 'PC 3')\n",
    "df = pd.DataFrame(embedding.fit_transform(ksfs.μ.Z.T), index=ksfs.mutation_types, columns=coords)\n",
    "df['singlet'] = ksfs.mutation_types.str[2].str.cat(ksfs.mutation_types.str[8], sep='→')\n",
    "df['triplet'] = ksfs.mutation_types.str[1:4].str.cat(ksfs.mutation_types.str[7:10], sep='→')\n",
    "\n",
    "plt.figure()\n",
    "sns.scatterplot(x=coords[1], y=coords[2], hue='singlet', data=df, cmap='deep', alpha=0.2)\n",
    "plt.show()"
   ]
  },
  {
   "cell_type": "code",
   "execution_count": null,
   "metadata": {},
   "outputs": [],
   "source": [
    "# plt.style.use('dark_background')"
   ]
  },
  {
   "cell_type": "code",
   "execution_count": null,
   "metadata": {},
   "outputs": [],
   "source": [
    "pops = ('AFR', 'AMR', 'EAS', 'EUR', 'SAS')"
   ]
  },
  {
   "cell_type": "markdown",
   "metadata": {},
   "source": [
    "### Load 1KG 3-SFSs"
   ]
  },
  {
   "cell_type": "code",
   "execution_count": null,
   "metadata": {},
   "outputs": [],
   "source": [
    "ksfs_dict = {}\n",
    "for pop in pops:\n",
    "    ksfs_dict[pop] = pickle.load(open(f'1KG/scons_output/{pop}/mushi.pkl', 'rb'))"
   ]
  },
  {
   "cell_type": "markdown",
   "metadata": {},
   "source": [
    "### Mutation type enrichment as a heatmap with correlation clustering"
   ]
  },
  {
   "cell_type": "code",
   "execution_count": null,
   "metadata": {
    "scrolled": true,
    "slideshow": {
     "slide_type": "fragment"
    }
   },
   "outputs": [],
   "source": [
    "for pop in pops:\n",
    "    ksfs_dict[pop].clustermap(figsize=(25, 10))\n",
    "    # plt.savefig('/Users/williamdewitt/Downloads/1KG_heatmap.pdf', transparent=True)\n",
    "    plt.show()"
   ]
  },
  {
   "cell_type": "markdown",
   "metadata": {
    "slideshow": {
     "slide_type": "slide"
    }
   },
   "source": [
    "### TMRCA CDF"
   ]
  },
  {
   "cell_type": "code",
   "execution_count": null,
   "metadata": {},
   "outputs": [],
   "source": [
    "plt.figure(figsize=(3, 3))\n",
    "for pop in pops:\n",
    "    plt.plot(ksfs_dict[pop].η.change_points, ksfs_dict[pop].tmrca_cdf(), label=pop)\n",
    "    plt.xlabel('$t$')\n",
    "    plt.ylabel('TMRCA CDF')\n",
    "    plt.ylim([0, 1])\n",
    "    plt.xscale('symlog')\n",
    "    plt.legend()\n",
    "    plt.tight_layout()\n",
    "plt.show()"
   ]
  },
  {
   "cell_type": "code",
   "execution_count": null,
   "metadata": {
    "scrolled": false,
    "slideshow": {
     "slide_type": "slide"
    }
   },
   "outputs": [],
   "source": [
    "pulse_types = ('TCC>TTC', 'ACC>ATC', 'TCT>TTT', 'CCC>CTC')\n",
    "\n",
    "for pop in pops:\n",
    "    print(pop)\n",
    "    plt.figure(figsize=(6, 2.5))\n",
    "    plt.subplot(121)\n",
    "    ksfs_dict[pop].plot(alpha=0.01, c='k', lw=2, normed=True, zorder=0)\n",
    "    for color_idx, mut_type in enumerate(pulse_types):\n",
    "        zorder = color_idx + 1\n",
    "        alpha = 0.9 * (len(pulse_types) - color_idx) / len(pulse_types)\n",
    "        ksfs_dict[pop].plot(mut_type, alpha=alpha, lw=2, c=f'C{color_idx}', normed=True, label=mut_type, zorder=zorder)\n",
    "    plt.legend(loc=0, prop={'size': 8}, framealpha=0.5, edgecolor='k')\n",
    "    plt.xlim([2, None])\n",
    "\n",
    "    plt.subplot(122)\n",
    "    ksfs_dict[pop].μ.plot(alpha=0.1, lw=1, c='k', normed=False)\n",
    "    for mut_type in pulse_types:\n",
    "        ksfs_dict[pop].μ.plot(types=[mut_type], lw=2, normed=False, label=mut_type)\n",
    "    plt.legend().remove()#loc=2, prop={'size': 7.5})\n",
    "\n",
    "    # plt.savefig('/Users/williamdewitt/Downloads/1KG.pdf', transparent=True)\n",
    "    plt.show()"
   ]
  },
  {
   "cell_type": "markdown",
   "metadata": {
    "slideshow": {
     "slide_type": "slide"
    }
   },
   "source": [
    "### Singular value spectrum of $Z$"
   ]
  },
  {
   "cell_type": "code",
   "execution_count": null,
   "metadata": {},
   "outputs": [],
   "source": [
    "for pop in pops:\n",
    "    plt.figure(figsize=(3, 3))\n",
    "    plt.plot(range(1, 1 + min(ksfs_dict[pop].μ.Z.shape)), np.linalg.svd(ksfs_dict[pop].μ.Z, compute_uv=False), '.')\n",
    "    plt.yscale('log')\n",
    "    plt.title(pop)\n",
    "    plt.tight_layout()\n",
    "    plt.show()"
   ]
  },
  {
   "cell_type": "markdown",
   "metadata": {
    "slideshow": {
     "slide_type": "slide"
    }
   },
   "source": [
    "Heatmap of the inferred mutation spectrum history, plotted as relative mutation intensity as in Harris and Pritchard"
   ]
  },
  {
   "cell_type": "code",
   "execution_count": null,
   "metadata": {},
   "outputs": [],
   "source": [
    "for pop in pops:\n",
    "    ksfs_dict[pop].μ.clustermap(figsize=(25, 10))\n",
    "    plt.title(pop)\n",
    "    # plt.savefig('/Users/williamdewitt/Downloads/cluster.png', transparent=False)\n",
    "    plt.show()"
   ]
  },
  {
   "cell_type": "code",
   "execution_count": null,
   "metadata": {
    "scrolled": true
   },
   "outputs": [],
   "source": [
    "for pop in pops:\n",
    "    n_components = 3\n",
    "    nmf = NMF(alpha=5e-1, n_components=n_components, verbose=False, tol=1e-10, max_iter=10000)\n",
    "    W = nmf.fit_transform(ksfs_dict[pop].μ.Z.T).T\n",
    "\n",
    "    # norms = nmf.components_.T.mean(0, keepdims=True)\n",
    "    H = nmf.components_.T# / norms\n",
    "    # W = norms.T * W\n",
    "\n",
    "    total_weight = W.sum(1, keepdims=True)\n",
    "    W = W / total_weight\n",
    "\n",
    "    plt.figure(figsize=(6, 2.5))          \n",
    "    for i in range(n_components):\n",
    "        plt.plot(np.concatenate(([0], ksfs_dict[pop].μ.change_points)), H[:, i], label=f'component {i + 1}')\n",
    "    plt.xlabel('$t$')\n",
    "    plt.xscale('symlog')\n",
    "    plt.legend(loc='lower left', prop={'size': 7.5}, framealpha=.5)\n",
    "    plt.show()\n",
    "\n",
    "    plt.figure(figsize=(6, 2.5))          \n",
    "    plt.plot(range(1, n_components + 1), total_weight, 'o')\n",
    "    plt.xlabel('component')\n",
    "    plt.xlabel('total weight')\n",
    "    plt.yscale('log')\n",
    "    plt.show()\n",
    "\n",
    "    df = pd.DataFrame(data=W.T,\n",
    "                      index=ksfs_dict[pop].μ.mutation_types,\n",
    "                      columns=range(1, n_components + 1))\n",
    "\n",
    "    df_min = df.values.min()\n",
    "    df_max = df.values.max()\n",
    "\n",
    "    df[\"5'\"] = df.index.str[0]\n",
    "    df['mutation'] = df.index.str[1].str.cat(df.index.str[5], sep='→')\n",
    "    df[\"3'\"] = df.index.str[2]\n",
    "\n",
    "    df = df.melt(id_vars=[\"5'\", 'mutation', \"3'\"], var_name='PC')\n",
    "\n",
    "    g = sns.FacetGrid(df, row='mutation', col='PC',\n",
    "                      row_order=('C→A', 'C→G', 'C→T', 'A→G', 'A→C', 'A→T'),\n",
    "                      margin_titles=True,\n",
    "                      size=1.5\n",
    "                      )\n",
    "\n",
    "    def facet_heatmap(data, color, **kwargs):\n",
    "        data = data.pivot(index=\"5'\", columns=\"3'\", values='value')\n",
    "        sns.heatmap(data, **kwargs)\n",
    "\n",
    "    # colorbar axes\n",
    "    cbar_ax = g.fig.add_axes([1.1, .3, .05, .4])\n",
    "\n",
    "    g = g.map_dataframe(facet_heatmap,\n",
    "                        cbar_ax=cbar_ax,\n",
    "                        cmap='RdBu_r',\n",
    "                        center=0,\n",
    "                        vmin=df_min, vmax=df_max\n",
    "                        )\n",
    "\n",
    "    # so the colorbar doesn't overlap the plot\n",
    "    # g.fig.subplots_adjust(right=.9)\n",
    "#     plt.savefig('/Users/williamdewitt/Downloads/PC_heatmap.pdf')\n",
    "    plt.show()"
   ]
  },
  {
   "cell_type": "code",
   "execution_count": null,
   "metadata": {},
   "outputs": [],
   "source": [
    "animation.writers.list()"
   ]
  },
  {
   "cell_type": "code",
   "execution_count": null,
   "metadata": {},
   "outputs": [],
   "source": [
    "from umap import UMAP\n",
    "import matplotlib.animation as animation\n",
    "# from IPython.display import HTML\n",
    "\n",
    "time = np.concatenate(([0], ksfs_dict[pop].μ.change_points))\n",
    "\n",
    "\n",
    "embedding = UMAP(n_components=2, n_neighbors=15, min_dist=0)\n",
    "# embedding = PCA(n_components=2)\n",
    "embedding.fit(np.concatenate(tuple(ksfs_dict[pop].μ.Z for pop in pops)))\n",
    "Z_transform = embedding.transform(np.concatenate(tuple(ksfs_dict[pop].μ.Z for pop in pops)))\n",
    "\n",
    "Z_transform_dict = {pop:embedding.transform(ksfs_dict[pop].μ.Z) for pop in pops}\n",
    "\n",
    "fig, ax = plt.subplots(figsize=(5, 4))\n",
    "lines = [plt.plot(*Z_transform_dict[pop][0, :],\n",
    "                  '-o', c=f'C{idx}', label=pop, markevery=[0, -1])[0]\n",
    "         for idx, pop in enumerate(pops)]\n",
    "\n",
    "def init():  # only required for blitting to give a clean slate.\n",
    "    ax.set_title(f'$t = {time[0]:.1f}$ generations')\n",
    "    ax.set_xlabel('UMAP 1')\n",
    "    ax.set_ylabel('UMAP 2')\n",
    "#     ax.set_xlabel('PC 1')\n",
    "#     ax.set_ylabel('PC 2')    \n",
    "    ax.set_xlim(1.1 * Z_transform[:, 0].min(), 1.1 * Z_transform[:, 0].max())\n",
    "    ax.set_ylim(1.1 * Z_transform[:, 1].min(), 1.1 * Z_transform[:, 1].max())    \n",
    "    for idx, pop in enumerate(pops):\n",
    "        lines[idx].set_data(*Z_transform_dict[pop][0, :])\n",
    "    ax.legend(loc=(1.04, 0.5), fancybox=True, framealpha=0)\n",
    "    plt.tight_layout()\n",
    "    return lines\n",
    "\n",
    "\n",
    "def animate(i):\n",
    "    ax.set_title(f'$t = {time[i]:.1f}$ generations')\n",
    "    for idx, pop in enumerate(pops):\n",
    "        lines[idx].set_data(*Z_transform_dict[pop][:(i + 1), :].T)    \n",
    "    return lines\n",
    "\n",
    "\n",
    "init()\n",
    "animate(len(time) - 36)\n",
    "plt.savefig(f'foo.TRANSPARENT.pdf', transparent=True)\n",
    "\n",
    "\n",
    "# ani = animation.FuncAnimation(fig, animate, init_func=init, frames=range(len(time)), blit=True)\n",
    "\n",
    "# To save the animation, use e.g.\n",
    "#\n",
    "# ani.save(\"movie.mp4\")\n",
    "#\n",
    "# or\n",
    "#\n",
    "# from matplotlib.animation import FFMpegWriter\n",
    "# writer = FFMpegWriter(fps=15, metadata=dict(artist='Me'), bitrate=1800)\n",
    "# ani.save(\"movie.mp4\", writer=writer)\n",
    "\n",
    "# plt.show()\n",
    "# ani.save('foo.mp4', fps=24,\n",
    "#          savefig_kwargs={'transparent': True, 'facecolor': 'none'}\n",
    "#          )\n",
    "\n",
    "# HTML(ani.to_jshtml())"
   ]
  },
  {
   "cell_type": "code",
   "execution_count": null,
   "metadata": {},
   "outputs": [],
   "source": [
    "%matplotlib inline\n",
    "foo = np.concatenate(tuple((ksfs_dict[pop].μ.Z - ksfs_dict['AFR'].μ.Z) / ksfs_dict['AFR'].μ.Z for pop in pops if pop is not 'AFR')).T\n",
    "vmin = foo.min()\n",
    "vmax = foo.max()\n",
    "for i in range(len(time)):\n",
    "    df = pd.DataFrame(data=np.concatenate(tuple([(ksfs_dict[pop].μ.Z[i, :] - ksfs_dict['AFR'].μ.Z[i, :]) / ksfs_dict['AFR'].μ.Z[i, :]] for pop in pops if pop is not 'AFR')).T,\n",
    "                      index=ksfs_dict[pop].μ.mutation_types,\n",
    "                      columns=[pop for pop in pops if pop is not 'AFR'])\n",
    "\n",
    "    df[\"5'\"] = df.index.str[0]\n",
    "    df['mutation'] = df.index.str[1].str.cat(df.index.str[5], sep='→')\n",
    "    df[\"3'\"] = df.index.str[2]\n",
    "\n",
    "    df = df.melt(id_vars=[\"5'\", 'mutation', \"3'\"], var_name='population')\n",
    "\n",
    "    g = sns.FacetGrid(df, row='mutation', col='population',\n",
    "                      row_order=('C→A', 'C→G', 'C→T', 'A→G', 'A→C', 'A→T'),\n",
    "                      margin_titles=True,\n",
    "                      size=1.5\n",
    "                      )\n",
    "\n",
    "    def facet_heatmap(data, color, **kwargs):\n",
    "        data = data.pivot(index=\"5'\", columns=\"3'\", values='value')\n",
    "        data.sort_index(ascending=False, inplace=True)\n",
    "        ax = sns.heatmap(data, **kwargs, cbar_kws={'label': 'mutation rate enrichment wrt AFR'})\n",
    "\n",
    "    # colorbar axes\n",
    "    cbar_ax = g.fig.add_axes([1.1, .3, .05, .4])\n",
    "    cbar_ax.set_title(f'$t = {time[i]:.1f}$\\n\\n')\n",
    "\n",
    "    g = g.map_dataframe(facet_heatmap,\n",
    "                        cbar_ax=cbar_ax,\n",
    "                        cmap='RdBu_r',\n",
    "                        center=0,\n",
    "                        vmin=vmin, vmax=vmax\n",
    "                        )\n",
    "    for ax in g.axes.flat:\n",
    "        plt.setp(ax.texts, text=\"\")\n",
    "    g.set_titles(row_template = '{row_name}', col_template = '{col_name}')\n",
    "    # so the colorbar doesn't overlap the plot\n",
    "    # g.fig.subplots_adjust(right=.9)\n",
    "\n",
    "#     plt.savefig(f'bar.{i:03d}.png', bbox_extra_artists=(cbar_ax,),  bbox_inches='tight')\n",
    "    plt.show()"
   ]
  },
  {
   "cell_type": "code",
   "execution_count": null,
   "metadata": {},
   "outputs": [],
   "source": [
    "foo = np.concatenate(tuple(ksfs_dict[pop].μ.Z for pop in pops if pop is not 'AFR')).T\n",
    "vmin = foo.min()\n",
    "vmax = foo.max()\n",
    "for i in range(len(time)):\n",
    "    df = pd.DataFrame(data=np.concatenate(tuple([ksfs_dict[pop].μ.Z[i, :]] for pop in pops)).T,\n",
    "                      index=ksfs_dict[pop].μ.mutation_types,\n",
    "                      columns=pops)\n",
    "\n",
    "    df[\"5'\"] = df.index.str[0]\n",
    "    df['mutation'] = df.index.str[1].str.cat(df.index.str[5], sep='→')\n",
    "    df[\"3'\"] = df.index.str[2]\n",
    "\n",
    "    df = df.melt(id_vars=[\"5'\", 'mutation', \"3'\"], var_name='population')\n",
    "\n",
    "    g = sns.FacetGrid(df, row='mutation', col='population',\n",
    "                      row_order=('C→A', 'C→G', 'C→T', 'A→G', 'A→C', 'A→T'),\n",
    "                      margin_titles=True,\n",
    "                      size=1.5\n",
    "                      )\n",
    "\n",
    "    def facet_heatmap(data, color, **kwargs):\n",
    "        data = data.pivot(index=\"5'\", columns=\"3'\", values='value')\n",
    "        data.sort_index(ascending=False, inplace=True)\n",
    "        ax = sns.heatmap(data, **kwargs, cbar_kws={'label': 'mutation rate'})\n",
    "\n",
    "    # colorbar axes\n",
    "    cbar_ax = g.fig.add_axes([1.1, .3, .05, .4])\n",
    "    cbar_ax.set_title(f'$t = {time[i]:.1f}$\\n\\n')\n",
    "\n",
    "    g = g.map_dataframe(facet_heatmap,\n",
    "                        cbar_ax=cbar_ax,\n",
    "                        cmap='RdBu_r',\n",
    "                        center=0,\n",
    "                        vmin=vmin, vmax=vmax\n",
    "                        )\n",
    "    for ax in g.axes.flat:\n",
    "        plt.setp(ax.texts, text=\"\")\n",
    "    g.set_titles(row_template = '{row_name}', col_template = '{col_name}')\n",
    "    # so the colorbar doesn't overlap the plot\n",
    "    # g.fig.subplots_adjust(right=.9)\n",
    "\n",
    "    plt.savefig(f'foobar.{i:03d}.png', bbox_extra_artists=(cbar_ax,),  bbox_inches='tight')\n",
    "    plt.show()"
   ]
  },
  {
   "cell_type": "code",
   "execution_count": null,
   "metadata": {},
   "outputs": [],
   "source": []
  }
 ],
 "metadata": {
  "celltoolbar": "Slideshow",
  "kernelspec": {
   "display_name": "Python 3",
   "language": "python",
   "name": "python3"
  },
  "language_info": {
   "codemirror_mode": {
    "name": "ipython",
    "version": 3
   },
   "file_extension": ".py",
   "mimetype": "text/x-python",
   "name": "python",
   "nbconvert_exporter": "python",
   "pygments_lexer": "ipython3",
   "version": "3.7.4"
  }
 },
 "nbformat": 4,
 "nbformat_minor": 2
}
