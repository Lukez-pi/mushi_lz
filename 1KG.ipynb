{
 "cells": [
  {
   "cell_type": "markdown",
   "metadata": {},
   "source": [
    "1KG\n",
    "==\n",
    "Run mushi on 3-SFS computed from 1000 Genome Project data"
   ]
  },
  {
   "cell_type": "code",
   "execution_count": null,
   "metadata": {
    "slideshow": {
     "slide_type": "slide"
    }
   },
   "outputs": [],
   "source": [
    "%matplotlib inline \n",
    "#%matplotlib notebook\n",
    "import histories\n",
    "import mushi\n",
    "import numpy as np\n",
    "import pandas as pd\n",
    "from matplotlib import pyplot as plt\n",
    "from scipy.special import expit\n",
    "import time\n",
    "import msprime\n",
    "%cd stdpopsim\n",
    "from stdpopsim import homo_sapiens\n",
    "%cd ../"
   ]
  },
  {
   "cell_type": "markdown",
   "metadata": {},
   "source": [
    "### Load 1KG 3-SFS"
   ]
  },
  {
   "cell_type": "code",
   "execution_count": null,
   "metadata": {},
   "outputs": [],
   "source": [
    "ksfs_CEU = pd.read_csv('1KG/scons_output/3-SFS.tsv', sep='\\t', index_col=0)\n",
    "\n",
    "mutation_types = ksfs_CEU.columns\n",
    "ksfs_CEU"
   ]
  },
  {
   "cell_type": "markdown",
   "metadata": {},
   "source": [
    "Rank plot of the number of SNPs of each triplet mutation type"
   ]
  },
  {
   "cell_type": "code",
   "execution_count": null,
   "metadata": {
    "scrolled": true
   },
   "outputs": [],
   "source": [
    "plt.figure(figsize=(15, 3))\n",
    "plt.plot(ksfs_CEU.sum().sort_values(ascending=False).to_frame(), '.')\n",
    "plt.xticks(rotation='vertical', family='monospace')\n",
    "plt.ylabel('number of SNPs')\n",
    "plt.yscale('symlog')\n",
    "plt.tight_layout()\n",
    "plt.savefig('/Users/williamdewitt/Downloads/foo.png')\n",
    "plt.show()"
   ]
  },
  {
   "cell_type": "code",
   "execution_count": null,
   "metadata": {
    "slideshow": {
     "slide_type": "-"
    }
   },
   "outputs": [],
   "source": [
    "# plt.style.use('dark_background')"
   ]
  },
  {
   "cell_type": "markdown",
   "metadata": {
    "slideshow": {
     "slide_type": "slide"
    }
   },
   "source": [
    "### Demographic history $\\eta(t)$ from the European population in Browning et al.\n",
    "Browning, S. R. et al. Ancestry-specific recent effective population size in the Americas. [PLOS Genetics 14, e1007385 (2018)](https://journals.plos.org/plosgenetics/article?id=10.1371/journal.pgen.1007385)."
   ]
  },
  {
   "cell_type": "code",
   "execution_count": null,
   "metadata": {},
   "outputs": [],
   "source": [
    "t = np.logspace(0, np.log10(3e4), 500)"
   ]
  },
  {
   "cell_type": "code",
   "execution_count": null,
   "metadata": {
    "slideshow": {
     "slide_type": "fragment"
    }
   },
   "outputs": [],
   "source": [
    "model = homo_sapiens.BrowningAmerica()\n",
    "dd = msprime.DemographyDebugger(Ne=model.default_population_size,\n",
    "                                population_configurations=model.population_configurations,\n",
    "                                demographic_events=model.demographic_events,\n",
    "                                migration_matrix=model.migration_matrix)\n",
    "y = 2 * dd.population_size_trajectory(np.concatenate(([0], t)))[:, 1]\n",
    "η = histories.η(t, y)\n",
    "\n",
    "plt.figure(figsize=(3, 3))\n",
    "η.plot()\n",
    "plt.show()"
   ]
  },
  {
   "cell_type": "markdown",
   "metadata": {},
   "source": [
    "### Mushi $k$-SFS object conditioned on this demographic history"
   ]
  },
  {
   "cell_type": "code",
   "execution_count": null,
   "metadata": {},
   "outputs": [],
   "source": [
    "ksfs = mushi.kSFS(η, X=ksfs_CEU.values, mutation_types=mutation_types)"
   ]
  },
  {
   "cell_type": "markdown",
   "metadata": {
    "slideshow": {
     "slide_type": "slide"
    }
   },
   "source": [
    "### TMRCA CDF"
   ]
  },
  {
   "cell_type": "code",
   "execution_count": null,
   "metadata": {},
   "outputs": [],
   "source": [
    "plt.figure(figsize=(3, 3))\n",
    "plt.plot(η.change_points, ksfs.tmrca_cdf())\n",
    "plt.xlabel('$t$')\n",
    "plt.ylabel('TMRCA CDF')\n",
    "plt.ylim([0, 1])\n",
    "plt.xscale('symlog')\n",
    "plt.tight_layout()\n",
    "plt.show()"
   ]
  },
  {
   "cell_type": "markdown",
   "metadata": {},
   "source": [
    "### Mutation type enrichment traces, as in Harris and Pritchard"
   ]
  },
  {
   "cell_type": "code",
   "execution_count": null,
   "metadata": {},
   "outputs": [],
   "source": [
    "plt.figure(figsize=(4, 3))\n",
    "foo = ksfs_CEU / ksfs_CEU.values.sum(1, keepdims=True)\n",
    "# foo = foo / foo.mean(0)\n",
    "plt.plot(foo, c='k', lw=1, alpha=0.05)\n",
    "plt.plot(foo['TCC>TTC'], label='TCC>TTC', c='C0', lw=2, alpha=0.8)\n",
    "plt.xlabel('sample frequency')\n",
    "plt.ylabel('mutation type fraction')\n",
    "plt.xscale('log')\n",
    "plt.yscale('log')\n",
    "plt.legend()\n",
    "plt.tight_layout()\n",
    "plt.savefig('/Users/williamdewitt/Downloads/X_twiggle.pdf')\n",
    "plt.show()"
   ]
  },
  {
   "cell_type": "markdown",
   "metadata": {},
   "source": [
    "### Mutation type enrichment again, but as a heatmap with correlation clustering"
   ]
  },
  {
   "cell_type": "code",
   "execution_count": null,
   "metadata": {
    "scrolled": true,
    "slideshow": {
     "slide_type": "fragment"
    }
   },
   "outputs": [],
   "source": [
    "ksfs.clustermap(figsize=(25, 10))\n",
    "plt.show()"
   ]
  },
  {
   "cell_type": "markdown",
   "metadata": {
    "slideshow": {
     "slide_type": "slide"
    }
   },
   "source": [
    "### Invert the $k$-SFS conditioned on $\\eta(t)$ to get $\\boldsymbol\\mu(t)$\n",
    "Accelerated proximal gradient descent"
   ]
  },
  {
   "cell_type": "code",
   "execution_count": null,
   "metadata": {
    "slideshow": {
     "slide_type": "fragment"
    }
   },
   "outputs": [],
   "source": [
    "μ_inferred, f_trajectory = ksfs.infer_μ(# loss function parameters\n",
    "                                        fit='prf',\n",
    "                                        exclude_singletons=False,\n",
    "                                        bins=None,\n",
    "                                        # time derivative regularization parameters\n",
    "                                        λ_tv=1e2,\n",
    "                                        α_tv=0,\n",
    "                                        # spectral regularization parameters\n",
    "                                        λ_r=1e4,\n",
    "                                        α_r=.9/1e4,\n",
    "                                        hard=True,                                        \n",
    "                                        # convergence parameters\n",
    "                                        max_iter=1000,\n",
    "                                        tol=1e-10,\n",
    "                                        γ=0.8)"
   ]
  },
  {
   "cell_type": "markdown",
   "metadata": {},
   "source": [
    "Convergence"
   ]
  },
  {
   "cell_type": "code",
   "execution_count": null,
   "metadata": {},
   "outputs": [],
   "source": [
    "plt.figure(figsize=(4, 2))\n",
    "plt.plot(f_trajectory)\n",
    "plt.xlabel('iterations')\n",
    "plt.ylabel('loss')\n",
    "plt.xscale('symlog')\n",
    "plt.tight_layout()\n",
    "plt.show()"
   ]
  },
  {
   "cell_type": "markdown",
   "metadata": {
    "slideshow": {
     "slide_type": "slide"
    }
   },
   "source": [
    "The inferred histories for each mutation type (raw mutation rate in units of mutations per genome per generation)"
   ]
  },
  {
   "cell_type": "code",
   "execution_count": null,
   "metadata": {},
   "outputs": [],
   "source": [
    "plt.figure(figsize=(6, 3))\n",
    "μ_inferred.plot(alpha=0.1, lw=2)\n",
    "plt.show()"
   ]
  },
  {
   "cell_type": "code",
   "execution_count": null,
   "metadata": {},
   "outputs": [],
   "source": [
    "plt.figure(figsize=(4, 3))\n",
    "foo = μ_inferred.Z / μ_inferred.Z.sum(1, keepdims=True)\n",
    "foo = foo / foo.mean(0)\n",
    "plt.plot(foo, c='k', lw=1, alpha=0.05)\n",
    "plt.plot(foo[:, μ_inferred.mutation_types.get_loc('TCC>TTC')], label='TCC>TTC', c='C0', lw=2, alpha=0.8)\n",
    "plt.xlabel('$t$')\n",
    "plt.ylabel('mutation type enrichment')\n",
    "plt.xscale('log')\n",
    "plt.legend()\n",
    "plt.tight_layout()\n",
    "plt.show()"
   ]
  },
  {
   "cell_type": "markdown",
   "metadata": {
    "slideshow": {
     "slide_type": "slide"
    }
   },
   "source": [
    "Heatmap of the inferred mutation spectrum history, plotted as relative mutation intensity as in Harris and Pritchard"
   ]
  },
  {
   "cell_type": "code",
   "execution_count": null,
   "metadata": {},
   "outputs": [],
   "source": [
    "μ_inferred.clustermap(figsize=(25, 10))\n",
    "plt.show()"
   ]
  },
  {
   "cell_type": "markdown",
   "metadata": {
    "slideshow": {
     "slide_type": "slide"
    }
   },
   "source": [
    "plot $\\chi^2$ goodness of fit for each $k$-SFS matrix element, and compute $\\chi^2$ goodness of fit test for the $k$-SFS matrix as a whole"
   ]
  },
  {
   "cell_type": "code",
   "execution_count": null,
   "metadata": {},
   "outputs": [],
   "source": [
    "ksfs.clustermap(μ_inferred, figsize=(25, 10), cmap='Reds')\n",
    "plt.show()"
   ]
  },
  {
   "cell_type": "markdown",
   "metadata": {},
   "source": [
    "Plot SFS fit for the first 10 mutation types individually"
   ]
  },
  {
   "cell_type": "code",
   "execution_count": null,
   "metadata": {
    "scrolled": true,
    "slideshow": {
     "slide_type": "-"
    }
   },
   "outputs": [],
   "source": [
    "f, axes = plt.subplots(10, 1, sharex=True, figsize=(3, 10))\n",
    "for ct, i in enumerate(range(10)):\n",
    "    plt.sca(axes[ct])\n",
    "    ksfs.plot(i, μ=μ_inferred, prf_quantiles=True)\n",
    "    plt.ylabel(μ_inferred.mutation_types[ct])\n",
    "    if ct < 9:\n",
    "        plt.xlabel(None)\n",
    "plt.tight_layout()\n",
    "plt.show()"
   ]
  },
  {
   "cell_type": "markdown",
   "metadata": {
    "slideshow": {
     "slide_type": "slide"
    }
   },
   "source": [
    "### Singular value spectrum of $Z$"
   ]
  },
  {
   "cell_type": "code",
   "execution_count": null,
   "metadata": {},
   "outputs": [],
   "source": [
    "plt.figure(figsize=(3, 3))\n",
    "plt.bar(range(μ_inferred.Z.shape[1]), np.linalg.svd(μ_inferred.Z, compute_uv=False))\n",
    "plt.yscale('log')\n",
    "plt.tight_layout()\n",
    "plt.show()"
   ]
  },
  {
   "cell_type": "code",
   "execution_count": null,
   "metadata": {},
   "outputs": [],
   "source": []
  }
 ],
 "metadata": {
  "celltoolbar": "Slideshow",
  "kernelspec": {
   "display_name": "Python 3",
   "language": "python",
   "name": "python3"
  },
  "language_info": {
   "codemirror_mode": {
    "name": "ipython",
    "version": 3
   },
   "file_extension": ".py",
   "mimetype": "text/x-python",
   "name": "python",
   "nbconvert_exporter": "python",
   "pygments_lexer": "ipython3",
   "version": "3.7.4"
  }
 },
 "nbformat": 4,
 "nbformat_minor": 2
}
