{
 "cells": [
  {
   "cell_type": "markdown",
   "metadata": {},
   "source": [
    "1KG\n",
    "==\n",
    "Run mushi on 3-SFS computed from 1000 Genome Project data"
   ]
  },
  {
   "cell_type": "code",
   "execution_count": null,
   "metadata": {
    "slideshow": {
     "slide_type": "slide"
    }
   },
   "outputs": [],
   "source": [
    "%matplotlib inline \n",
    "# %matplotlib notebook\n",
    "from mushi import kSFS\n",
    "import numpy as np\n",
    "import matplotlib as mpl\n",
    "from matplotlib import pyplot as plt\n",
    "from mpl_toolkits.mplot3d import Axes3D\n",
    "import pandas as pd\n",
    "import seaborn as sns\n",
    "import pickle\n",
    "import composition as cmp"
   ]
  },
  {
   "cell_type": "code",
   "execution_count": null,
   "metadata": {},
   "outputs": [],
   "source": [
    "# set this to e.g. your Downloads folder path if you want plots saved to pdfs\n",
    "plot_dir = '/Users/williamdewitt/Downloads/'\n",
    "\n",
    "# plt.style.use('dark_background')\n",
    "\n",
    "mpl.rc('text', usetex=True)\n",
    "mpl.rcParams['text.latex.preamble']=[r\"\\usepackage{amsmath}\"]"
   ]
  },
  {
   "cell_type": "markdown",
   "metadata": {},
   "source": [
    "Parse population manifest"
   ]
  },
  {
   "cell_type": "code",
   "execution_count": null,
   "metadata": {},
   "outputs": [],
   "source": [
    "pops = {}\n",
    "with open('example_data/integrated_call_samples_v3.20130502.ALL.panel') as f:\n",
    "    f.readline()\n",
    "    for line in f:\n",
    "        pop, super_pop = line.split('\\t')[1:3]\n",
    "        if super_pop not in pops:\n",
    "            pops[super_pop] = []        \n",
    "        if pop not in pops[super_pop]:\n",
    "            pops[super_pop].append(pop)"
   ]
  },
  {
   "cell_type": "markdown",
   "metadata": {},
   "source": [
    "### Load 1KG 3-SFSs"
   ]
  },
  {
   "cell_type": "code",
   "execution_count": null,
   "metadata": {},
   "outputs": [],
   "source": [
    "sorted_triplets = [f'{a5}{a}{a3}>{a5}{d}{a3}' for a in 'AC' for d in 'ACGT' if d != a for a5 in 'ACGT' for a3 in 'ACGT']\n",
    "\n",
    "\n",
    "ksfs_dict = {}\n",
    "plt.figure(figsize=(8, 8))\n",
    "for super_pop in pops:\n",
    "    for pop in pops[super_pop]:\n",
    "        ksfs_df = pd.read_csv(f'example_data/{pop}/3-SFS.tsv', sep='\\t', index_col=0)\n",
    "        ksfs_dict[pop] = kSFS(X=ksfs_df.values, mutation_types=ksfs_df.columns)\n",
    "        ksfs_dict[pop].plot_total(kwargs=dict(ls='', alpha=0.75, marker='o', ms=5, mfc='none', label=pop))\n",
    "\n",
    "        foo, bar = ksfs_dict[pop].mutation_types.reindex(sorted_triplets)\n",
    "        ksfs_dict[pop].mutation_types = foo\n",
    "        ksfs_dict[pop].X = ksfs_dict[pop].X[:, bar]\n",
    "plt.legend()\n",
    "plt.show()"
   ]
  },
  {
   "cell_type": "markdown",
   "metadata": {},
   "source": [
    "Number of segregating variants in each super population"
   ]
  },
  {
   "cell_type": "code",
   "execution_count": null,
   "metadata": {},
   "outputs": [],
   "source": [
    "for super_pop in pops:\n",
    "    print(super_pop, sum(ksfs_dict[pop].X.sum() for pop in pops[super_pop]))"
   ]
  },
  {
   "cell_type": "markdown",
   "metadata": {},
   "source": [
    "clip high frequencies due to ancestral state misidentification"
   ]
  },
  {
   "cell_type": "code",
   "execution_count": null,
   "metadata": {},
   "outputs": [],
   "source": [
    "clip_low = 0\n",
    "clip_high = 10\n",
    "# we need a different mask vector for each population becuase the number of haplotypes n\n",
    "# (length of SFS vector) varies\n",
    "freq_mask = {}\n",
    "for super_pop in pops:\n",
    "    for pop in pops[super_pop]:\n",
    "        freq_mask[pop] = np.array([True if (clip_low <= i < ksfs_dict[pop].n - clip_high - 1) else False\n",
    "                                   for i in range(ksfs_dict[pop].n - 1)])"
   ]
  },
  {
   "cell_type": "markdown",
   "metadata": {},
   "source": [
    "time grid of epoch boundaries (measured in generations)"
   ]
  },
  {
   "cell_type": "code",
   "execution_count": null,
   "metadata": {},
   "outputs": [],
   "source": [
    "change_points = np.logspace(np.log10(1), np.log10(200000), 200)"
   ]
  },
  {
   "cell_type": "markdown",
   "metadata": {},
   "source": [
    "masked genome size (excluding conserved sites, repeats, 1KG stict mask, and uncertain ancestral states)"
   ]
  },
  {
   "cell_type": "code",
   "execution_count": null,
   "metadata": {},
   "outputs": [],
   "source": [
    "with open('example_data/masked_size.tsv') as f:\n",
    "    masked_genome_size = int(f.read())"
   ]
  },
  {
   "cell_type": "markdown",
   "metadata": {},
   "source": [
    "mutation rate per site per generation"
   ]
  },
  {
   "cell_type": "code",
   "execution_count": null,
   "metadata": {},
   "outputs": [],
   "source": [
    "u = 1.3e-8"
   ]
  },
  {
   "cell_type": "markdown",
   "metadata": {},
   "source": [
    "mutation rate per masked genome per generation"
   ]
  },
  {
   "cell_type": "code",
   "execution_count": null,
   "metadata": {},
   "outputs": [],
   "source": [
    "mu0 = u * masked_genome_size"
   ]
  },
  {
   "cell_type": "markdown",
   "metadata": {},
   "source": [
    "generation time for time calibration"
   ]
  },
  {
   "cell_type": "code",
   "execution_count": null,
   "metadata": {},
   "outputs": [],
   "source": [
    "t_gen = 29"
   ]
  },
  {
   "cell_type": "markdown",
   "metadata": {},
   "source": [
    "# Infer $\\eta(t)$\n",
    "\n",
    "regularization paramaters and convergence criteria"
   ]
  },
  {
   "cell_type": "code",
   "execution_count": null,
   "metadata": {},
   "outputs": [],
   "source": [
    "regularization_eta = dict(alpha_tv=1e2, alpha_spline=1e4, alpha_ridge=1e-3)\n",
    "convergence = dict(tol=1e-10, max_iter=1000)"
   ]
  },
  {
   "cell_type": "code",
   "execution_count": null,
   "metadata": {
    "scrolled": false
   },
   "outputs": [],
   "source": [
    "fig, axes = plt.subplots(1, 2, sharex='col', figsize=(10, 5))\n",
    "for idx_super, super_pop in enumerate(pops):    \n",
    "    for idx, pop in enumerate(pops[super_pop]):\n",
    "        print(pop)\n",
    "        # clear solutions, in case rerunning this cell\n",
    "        ksfs_dict[pop].clear_eta()\n",
    "        ksfs_dict[pop].clear_mu()\n",
    "        ksfs_dict[pop].infer_history(change_points, mu0, infer_mu=False,\n",
    "                                     loss='prf', **regularization_eta,\n",
    "                                     **convergence, mask=freq_mask[pop])\n",
    "        plt.sca(axes[0])\n",
    "        ksfs_dict[pop].plot_total(kwargs=dict(ls='', alpha=0.5, marker='o', ms=5, mfc='none', c=f'C{idx_super}', label=super_pop if idx == 0 else None),\n",
    "                                  line_kwargs=dict(c=f'C{idx_super}', ls=':', marker='.', ms=3, alpha=0.5, lw=1),\n",
    "                                  fill_kwargs=dict(color=f'C{idx_super}', alpha=0))\n",
    "        plt.legend(fontsize=6)\n",
    "        if idx_super < len(pops) - 1:\n",
    "            plt.xlabel(None)\n",
    "        plt.sca(axes[1])\n",
    "        ksfs_dict[pop].eta.plot(t_gen=t_gen, lw=2, label=super_pop if idx == 0 else None, alpha=0.5, c=f'C{idx_super}')\n",
    "        plt.xlim([1e3, 1e6])\n",
    "        plt.legend(fontsize=6)\n",
    "        if idx_super < len(pops) - 1:\n",
    "            plt.xlabel(None)\n",
    "        break\n",
    "plt.tight_layout()\n",
    "if plot_dir:\n",
    "    plt.savefig(f'{plot_dir}/1KG.eta.pdf')\n",
    "plt.show()"
   ]
  },
  {
   "cell_type": "code",
   "execution_count": null,
   "metadata": {},
   "outputs": [],
   "source": [
    "regularization_mu = dict(beta_tv=7e1, beta_ridge=1e-10)\n",
    "\n",
    "fig, axes = plt.subplots(nrows=1, ncols=2, figsize=(5.8, 2.5))\n",
    "\n",
    "for idx, pop in enumerate(pops['EUR']):\n",
    "    print(pop)\n",
    "    ksfs_dict[pop].clear_mu()\n",
    "    ksfs_dict[pop].infer_history(change_points, mu0, infer_eta=False,\n",
    "                                 loss='prf', **regularization_mu,\n",
    "                                 **convergence, mask=freq_mask[pop])\n",
    "    plt.sca(axes[0])\n",
    "    ksfs_dict[pop].plot(('TCC>TTC',), clr=True,\n",
    "                        kwargs=dict(ls='', c=f'C{idx}', marker='o', ms=5, mfc='none', alpha=0.5, label=pop),\n",
    "                        line_kwargs=dict(c=f'C{idx}', ls=':', marker='.', ms=3, alpha=0.5, lw=1))\n",
    "    plt.ylabel('TCC$\\\\to$TTC component of\\nvariant count composition')\n",
    "    plt.legend(fontsize=6)\n",
    "\n",
    "    plt.sca(axes[1])\n",
    "    plt.gca().set_prop_cycle(None)\n",
    "    ksfs_dict[pop].mu.plot(('TCC>TTC',), t_gen=t_gen, clr=False, c=f'C{idx}', alpha=0.75, lw=2, label=pop)\n",
    "    plt.ylabel(r'TCC$\\to$TTC mutation intensity')\n",
    "    plt.xlim([1e3, 1e6])\n",
    "    plt.legend(fontsize=6)\n",
    "\n",
    "plt.tight_layout()\n",
    "if plot_dir:\n",
    "    plt.savefig(f'{plot_dir}/europulse.pdf', dpi=300)\n",
    "plt.show()"
   ]
  },
  {
   "cell_type": "markdown",
   "metadata": {},
   "source": [
    "# Infer $\\boldsymbol\\mu(t)$"
   ]
  },
  {
   "cell_type": "code",
   "execution_count": null,
   "metadata": {},
   "outputs": [],
   "source": [
    "regularization_mu = dict(hard=True, beta_rank=1e2, beta_tv=0, beta_spline=1e4, beta_ridge=1e-10)"
   ]
  },
  {
   "cell_type": "markdown",
   "metadata": {},
   "source": [
    "Fit all populations and plot heatmaps of $k$-SFS and mush"
   ]
  },
  {
   "cell_type": "code",
   "execution_count": null,
   "metadata": {
    "scrolled": false,
    "slideshow": {
     "slide_type": "fragment"
    }
   },
   "outputs": [],
   "source": [
    "with mpl.rc_context(rc={'text.usetex': False}):\n",
    "\n",
    "    center = 1 / len(sorted_triplets) # for vmin/vmax\n",
    "\n",
    "    for idx_super, super_pop in enumerate(pops):    \n",
    "        for idx, pop in enumerate(pops[super_pop]):\n",
    "            print(pop)\n",
    "\n",
    "            ksfs_dict[pop].clear_mu()\n",
    "            ksfs_dict[pop].infer_history(change_points, mu0, infer_eta=False,\n",
    "                                         loss='prf', **regularization_mu,\n",
    "                                         **convergence, mask=freq_mask[pop])\n",
    "\n",
    "            plt.figure(figsize=(8, 10))\n",
    "            plt.subplot(131)            \n",
    "            ksfs_dict[pop].plot(clr=True, kwargs=dict(alpha=0.25, ls='', marker='o',\n",
    "                                                      ms=3, mfc='none', rasterized=True),\n",
    "                                line_kwargs=dict(ls=':', marker='.', ms=2, alpha=0.25,\n",
    "                                                 lw=1, rasterized=True))            \n",
    "            plt.subplot(132)\n",
    "            ksfs_dict[pop].μ.plot(t_gen=t_gen, clr=True, alpha=0.5, lw=2)\n",
    "            plt.xscale('log')\n",
    "\n",
    "            plt.subplot(133)\n",
    "            σ = np.linalg.svd(cmp.ilr(ksfs_dict[pop].mu.Z), compute_uv=False)\n",
    "            x = np.arange(1, len(σ) + 1)\n",
    "            plt.scatter(x, σ)\n",
    "            plt.plot(x, σ, 'ko', ms=5, mfc='none', mew=.1)\n",
    "            plt.xscale('log')\n",
    "            plt.yscale('log')\n",
    "            plt.xlabel('singular value rank')\n",
    "            plt.ylabel('singular value')\n",
    "            plt.tight_layout()\n",
    "            plt.show()            \n",
    "            \n",
    "            singlets = ksfs_dict[pop].mutation_types.str[1].str.cat(ksfs_dict[pop].mutation_types.str[5], sep='>')\n",
    "        #     a5 = ksfs_dict[pop].mutation_types.str[0]\n",
    "        #     a3 = ksfs_dict[pop].mutation_types.str[2]\n",
    "\n",
    "            col_map = {'A>C':'C0', 'A>G':'C1', 'A>T':'C2', 'C>A':'C3', 'C>G':'C4', 'C>T':'C5'}\n",
    "            col_colors = [col_map[singlet] for singlet in singlets]\n",
    "\n",
    "            g = ksfs_dict[pop].clustermap(figsize=(20, 7), col_cluster=False,\n",
    "                                          xticklabels=True, rasterized=True,\n",
    "                                          vmin=center / 1.7, vmax=1.7 * center,\n",
    "                                          cmap='RdBu_r',\n",
    "                                          col_colors=col_colors)\n",
    "            g.ax_heatmap.set_xticklabels(g.ax_heatmap.get_xmajorticklabels(), fontsize = 9, family='monospace')\n",
    "        #     g.ax_col_dendrogram.set_visible(False)\n",
    "            if plot_dir:\n",
    "                g.savefig(f'{plot_dir}/heatmap.{pop}.X.pdf')\n",
    "            plt.show()\n",
    "\n",
    "            g = ksfs_dict[pop].μ.clustermap(t_gen=t_gen,\n",
    "                                            figsize=(20, 7), col_cluster=False, xticklabels=True, rasterized=True,\n",
    "                                            vmin=center / 1.5, vmax=1.5 * center,\n",
    "                                            cmap='RdBu_r',\n",
    "                                            col_colors=col_colors)\n",
    "            g.ax_heatmap.set_xticklabels(g.ax_heatmap.get_xmajorticklabels(), fontsize = 9, family='monospace')\n",
    "        #     g.ax_col_dendrogram.set_visible(False) \n",
    "            if plot_dir:\n",
    "                g.savefig(f'{plot_dir}/heatmap.{pop}.mu.pdf')\n",
    "            plt.show()"
   ]
  },
  {
   "cell_type": "markdown",
   "metadata": {
    "slideshow": {
     "slide_type": "slide"
    }
   },
   "source": [
    "### TMRCA CDF"
   ]
  },
  {
   "cell_type": "code",
   "execution_count": null,
   "metadata": {
    "scrolled": false
   },
   "outputs": [],
   "source": [
    "fig, axes = plt.subplots(1, 5, sharey=True, figsize=(18, 4))\n",
    "for idx, super_pop in enumerate(pops):\n",
    "    plt.sca(axes[idx])\n",
    "    plt.title(super_pop)\n",
    "    for idx2, pop in enumerate(pops[super_pop]):\n",
    "        plt.plot(ksfs_dict[pop].η.change_points, ksfs_dict[pop].tmrca_cdf(ksfs_dict[pop].eta), label=pop)\n",
    "        plt.xlabel('$t$')\n",
    "        plt.ylabel('TMRCA CDF')\n",
    "        plt.ylim([0, 1])\n",
    "        plt.xscale('log')\n",
    "    plt.legend()\n",
    "plt.tight_layout()\n",
    "plt.show()"
   ]
  },
  {
   "cell_type": "code",
   "execution_count": null,
   "metadata": {
    "scrolled": false
   },
   "outputs": [],
   "source": [
    "# from sklearn.cluster import MeanShift\n",
    "\n",
    "# time = t_gen * np.concatenate(([0], ksfs_dict[pop].μ.change_points))\n",
    "\n",
    "# Z_dict = {}\n",
    "# for pop in ksfs_dict:\n",
    "#     Z_dict[pop] = cmp.ilr(ksfs_dict[pop].μ.Z)\n",
    "\n",
    "# clusterer = MeanShift(bandwidth=.1)\n",
    "# for row in range(len(time)):\n",
    "#     Z = np.concatenate(tuple(Z_dict[pop][np.newaxis, row, :] for pop in ksfs_dict))\n",
    "#     labels = clusterer.fit_predict(Z)\n",
    "#     print(max(labels))"
   ]
  },
  {
   "cell_type": "code",
   "execution_count": null,
   "metadata": {},
   "outputs": [],
   "source": [
    "t_gen * np.concatenate(([0], ksfs_dict[pop].μ.change_points))[[58, -30]]\n",
    "\n",
    "start = 58\n",
    "end = -30\n",
    "\n",
    "len(np.concatenate(([0], ksfs_dict[pop].μ.change_points))[58:-30])"
   ]
  },
  {
   "cell_type": "code",
   "execution_count": null,
   "metadata": {
    "scrolled": false
   },
   "outputs": [],
   "source": [
    "from sklearn.decomposition import PCA, KernelPCA\n",
    "from umap import UMAP\n",
    "\n",
    "time = np.concatenate(([0], ksfs_dict[pop].μ.change_points))[start:end]\n",
    "\n",
    "Z_dict = {}\n",
    "for pop in ksfs_dict:\n",
    "    Z_dict[pop] = cmp.ilr(ksfs_dict[pop].μ.Z[start:end])\n",
    "    \n",
    "Z = np.concatenate(tuple(Z_dict[pop] for pop in ksfs_dict))\n",
    "\n",
    "# from jax import jit\n",
    "# @jit\n",
    "# def kernel(x, y):\n",
    "#     return cmp.inner(x, y)\n",
    "\n",
    "np.random.seed(1)\n",
    "\n",
    "# use one of these, or the one above learned on the expected segregating sites\n",
    "embedding = UMAP(n_components=2,\n",
    "                 n_neighbors=30,\n",
    "                 min_dist=0,\n",
    "#                  metric='cosine',\n",
    "                 local_connectivity=.01,\n",
    "                 n_epochs=1000\n",
    "                )\n",
    "# embedding = KernelPCA(n_components=2, kernel='sigmoid', gamma=1e-3)\n",
    "\n",
    "# embedding = PCA(n_components=2)\n",
    "\n",
    "\n",
    "embedding.fit(Z)\n",
    "\n",
    "# each\n",
    "Z_transform_dict = {pop:embedding.transform(Z_dict[pop]) for pop in ksfs_dict}\n",
    "\n",
    "\n",
    "\n",
    "with mpl.rc_context(rc={'text.usetex': False}):\n",
    "\n",
    "    plt.figure(figsize=(4, 4))\n",
    "    # plt.subplot(311)\n",
    "    for idx, super_pop in enumerate(pops):\n",
    "        for idx2, pop in enumerate(pops[super_pop]):\n",
    "            plt.plot(*Z_transform_dict[pop].T,\n",
    "                     '-', lw=3, alpha=.5,\n",
    "                     c=f'C{idx}',\n",
    "                     label=super_pop if idx2 == 0 else None)\n",
    "            plt.annotate(pop, Z_transform_dict[pop][0, :],\n",
    "                         ha='center', va='center', c='w',\n",
    "                         family='monospace' if pop is not 'Batwa' else None,\n",
    "                         bbox=dict(boxstyle='circle', fc=f'C{idx}', ec=f'C{idx}', lw=2),\n",
    "                         size=6)\n",
    "    plt.xlabel('UMAP 1')\n",
    "    plt.ylabel('UMAP 2')\n",
    "    plt.legend()\n",
    "    plt.tight_layout()\n",
    "    if plot_dir:\n",
    "        plt.savefig(f'{plot_dir}/1KG.umap.pdf')\n",
    "    plt.show()\n",
    "\n",
    "    fig = plt.figure(figsize=(5, 5))\n",
    "    ax = fig.gca(projection='3d')\n",
    "    ax.view_init(20, -105)\n",
    "    # plt.subplot(311)\n",
    "    for idx, super_pop in enumerate(pops):\n",
    "        for idx2, pop in enumerate(pops[super_pop]):\n",
    "            ax.plot(*Z_transform_dict[pop].T, np.log10(t_gen * time),\n",
    "                    '-', lw=3, alpha=.5,\n",
    "                    c=f'C{idx}',\n",
    "                    label=super_pop if idx2 == 0 else None)\n",
    "            ax.scatter(*Z_transform_dict[pop][None, 0, :].T, np.log10(t_gen * time[1]), s=50,\n",
    "                       c=f'C{idx}', alpha=.5)\n",
    "    ax.set_xlabel('UMAP 1')\n",
    "    ax.set_ylabel('UMAP 2')\n",
    "    ax.set_zlabel('$\\log_{10}(t)$')\n",
    "#     ax.set_zlim([3, 6])\n",
    "    # ax.zaxis._set_scale('log')\n",
    "    # ax.legend()\n",
    "    plt.tight_layout()\n",
    "    if plot_dir:\n",
    "        plt.savefig(f'{plot_dir}/1KG.umap.3D.pdf')\n",
    "    plt.show()\n",
    "\n",
    "    fig, axes = plt.subplots(2, 1, sharex='col', figsize=(5,5))\n",
    "    for umap_comp in (0, 1):\n",
    "        for idx, super_pop in enumerate(pops):\n",
    "            for pop in pops[super_pop]:\n",
    "                axes[umap_comp].plot(t_gen * time, Z_transform_dict[pop][:, umap_comp],\n",
    "                         '-', lw=3, alpha=.75,\n",
    "                         c=f'C{idx}',\n",
    "                         label=pop)\n",
    "                axes[umap_comp].annotate(pop, (time[0], Z_transform_dict[pop][0, umap_comp]),\n",
    "                             ha='center', va='center', c='w',\n",
    "                             family='monospace' if pop is not 'Batwa' else None,\n",
    "                             bbox=dict(boxstyle='circle', fc=f'C{idx}', ec=f'C{idx}', lw=2),\n",
    "                             size=6)            \n",
    "        axes[umap_comp].set_ylabel(f'UMAP {umap_comp + 1}')\n",
    "    plt.xlabel('time (years ago)')\n",
    "    plt.xscale('symlog')\n",
    "    # plt.legend(loc=(1.04, -1), fancybox=True, framealpha=0)\n",
    "    plt.tight_layout()\n",
    "    plt.show()"
   ]
  },
  {
   "cell_type": "code",
   "execution_count": null,
   "metadata": {},
   "outputs": [],
   "source": [
    "fig, axes = plt.subplots(len(pops), sharex='col', figsize=(4, 12))\n",
    "for idx, super_pop in enumerate(pops):\n",
    "    plt.sca(axes[idx])\n",
    "    for idx2, pop in enumerate(pops[super_pop]):\n",
    "        t, Z = ksfs_dict[pop].mu.arrays()\n",
    "        delta = np.array([cmp.perturb_inv(Z[i, :], Z[i + 1, :]) for i in range(Z.shape[0] - 1)])\n",
    "        dmush = [np.sqrt(cmp.inner(delta[i], delta[i])) for i in range(len(delta))]\n",
    "        dt = np.diff(t[:-1])\n",
    "        dmushdt = dmush / (t_gen * dt)\n",
    "        plt.plot(t_gen * t[1:-1], dmushdt, label=pop)\n",
    "    plt.legend()\n",
    "plt.xscale('log')\n",
    "plt.xlabel(r'$t$ (years ago)')\n",
    "plt.ylabel(r'$\\frac{d\\text{mush}}{dt}$')\n",
    "plt.xlim([1e3, 1e6])\n",
    "plt.tight_layout()\n",
    "if plot_dir:\n",
    "    plt.savefig(f'{plot_dir}/1KG.drift.pdf')\n",
    "plt.show()     \n",
    "#     break"
   ]
  },
  {
   "cell_type": "code",
   "execution_count": null,
   "metadata": {},
   "outputs": [],
   "source": [
    "time = np.concatenate(([0], ksfs_dict[pop].μ.change_points))\n",
    "\n",
    "embedding = NMF(alpha=1.5e0, n_components=10)#, verbose=False, tol=1e-10, max_iter=10000)\n",
    "# embedding = PCA(n_components=3)\n",
    "embedding.fit(np.concatenate(tuple(ksfs_dict[pop].μ.Z.T for pop in ksfs_dict)))\n",
    "\n",
    "Z_transform_dict = {pop:embedding.transform(ksfs_dict[pop].μ.Z.T) for pop in ksfs_dict}\n",
    "\n",
    "plt.figure(figsize=(4, 2))\n",
    "for i in range(embedding.n_components):\n",
    "    plt.plot(time, embedding.components_[i], label=f'latent history {i + 1}')\n",
    "plt.xlabel('$t$')\n",
    "plt.xscale('symlog')\n",
    "plt.legend(loc='center left', prop={'size': 7.5}, framealpha=.5)\n",
    "plt.show()"
   ]
  },
  {
   "cell_type": "code",
   "execution_count": null,
   "metadata": {
    "scrolled": false
   },
   "outputs": [],
   "source": [
    "for pop in ksfs_dict:\n",
    "    print(pop)\n",
    "    W = embedding.transform(ksfs_dict[pop].μ.Z.T).T\n",
    "\n",
    "#     # norms = nmf.components_.T.mean(0, keepdims=True)\n",
    "#     H = nmf.components_.T# / norms\n",
    "#     # W = norms.T * W\n",
    "\n",
    "    total_weight = W.sum(1, keepdims=True)\n",
    "    W = W / total_weight\n",
    "\n",
    "    df = pd.DataFrame(data=W.T,\n",
    "                      index=ksfs_dict[pop].μ.mutation_types,\n",
    "                      columns=range(1, n_components + 1))\n",
    "\n",
    "    df_min = df.values.min()\n",
    "    df_max = df.values.max()\n",
    "\n",
    "    df[\"5'\"] = df.index.str[0]\n",
    "    df['mutation'] = df.index.str[1].str.cat(df.index.str[5], sep='→')\n",
    "    df[\"3'\"] = df.index.str[2]\n",
    "\n",
    "    df = df.melt(id_vars=[\"5'\", 'mutation', \"3'\"], var_name='latent history')\n",
    "\n",
    "    g = sns.FacetGrid(df, row='mutation', col='latent history',\n",
    "                      row_order=('C→A', 'C→G', 'C→T', 'A→G', 'A→C', 'A→T'),\n",
    "                      margin_titles=True,\n",
    "                      size=1.5\n",
    "                      )\n",
    "\n",
    "    def facet_heatmap(data, color, **kwargs):\n",
    "        data = data.pivot(index=\"5'\", columns=\"3'\", values='value')\n",
    "        sns.heatmap(data, **kwargs).invert_yaxis()n\n",
    "\n",
    "    # colorbar axes\n",
    "    cbar_ax = g.fig.add_axes([1.1, .3, .05, .4])\n",
    "\n",
    "    g = g.map_dataframe(facet_heatmap,\n",
    "                        cbar_ax=cbar_ax,\n",
    "                        cmap='RdBu_r',\n",
    "                        center=0,\n",
    "                        vmin=df_min, vmax=df_max\n",
    "                        )\n",
    "\n",
    "    # so the colorbar doesn't overlap the plot\n",
    "    # g.fig.subplots_adjust(right=.9)\n",
    "#     plt.savefig('/Users/williamdewitt/Downloads/PC_heatmap.pdf')\n",
    "    plt.show()"
   ]
  },
  {
   "cell_type": "code",
   "execution_count": null,
   "metadata": {
    "scrolled": false
   },
   "outputs": [],
   "source": [
    "plt.figure()\n",
    "for pop in ksfs_dict:\n",
    "    plt.scatter(*Z_transform_dict[pop][:, 1:].T, alpha=0.8)\n",
    "plt.show()"
   ]
  },
  {
   "cell_type": "code",
   "execution_count": null,
   "metadata": {},
   "outputs": [],
   "source": [
    "x = []\n",
    "y = []\n",
    "derived = []\n",
    "context = []\n",
    "pops = []\n",
    "\n",
    "for i, triplet in enumerate(sorted_triplets):\n",
    "    for pop in ksfs_dict:\n",
    "        xy = Z_transform_dict[pop][i, 1:]\n",
    "        x.append(xy[0])\n",
    "        y.append(xy[1])\n",
    "        pops.append(pop)\n",
    "        context.append(triplet[:3])\n",
    "        derived.append(triplet[5])\n",
    "        \n",
    "df = pd.DataFrame({'population':pops, 'context':context, 'derived':derived, 'latent history 2':x, 'latent history 3':y})"
   ]
  },
  {
   "cell_type": "code",
   "execution_count": null,
   "metadata": {},
   "outputs": [],
   "source": [
    "g = sns.relplot(x='latent history 2', y='latent history 3', row='derived', col='context', data=df, hue='population',\n",
    "           height=2, aspect=1, alpha=.8).set_titles(\"{col_name}>{row_name}\")\n",
    "g.savefig('/Users/williamdewitt/Downloads/AFR.signatures.pdf')\n",
    "plt.show()"
   ]
  },
  {
   "cell_type": "code",
   "execution_count": null,
   "metadata": {},
   "outputs": [],
   "source": [
    "sns.catplot(y='latent history 3', x='singlet', row='context', data=df, hue='population')\n",
    "plt.show()"
   ]
  },
  {
   "cell_type": "code",
   "execution_count": null,
   "metadata": {},
   "outputs": [],
   "source": []
  }
 ],
 "metadata": {
  "celltoolbar": "Slideshow",
  "kernelspec": {
   "display_name": "Python 3",
   "language": "python",
   "name": "python3"
  },
  "language_info": {
   "codemirror_mode": {
    "name": "ipython",
    "version": 3
   },
   "file_extension": ".py",
   "mimetype": "text/x-python",
   "name": "python",
   "nbconvert_exporter": "python",
   "pygments_lexer": "ipython3",
   "version": "3.7.6"
  }
 },
 "nbformat": 4,
 "nbformat_minor": 2
}
