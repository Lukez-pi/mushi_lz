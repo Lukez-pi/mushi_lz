{
 "cells": [
  {
   "cell_type": "markdown",
   "metadata": {},
   "source": [
    "1KG\n",
    "==\n",
    "Run mushi on 3-SFS computed from 1000 Genome Project data"
   ]
  },
  {
   "cell_type": "code",
   "execution_count": null,
   "metadata": {
    "slideshow": {
     "slide_type": "slide"
    }
   },
   "outputs": [],
   "source": [
    "%matplotlib inline \n",
    "# %matplotlib notebook\n",
    "from mushi import kSFS\n",
    "import numpy as np\n",
    "from matplotlib import pyplot as plt\n",
    "import pandas as pd\n",
    "import seaborn as sns\n",
    "from sklearn.decomposition import PCA, NMF\n",
    "from umap import UMAP\n",
    "import pickle\n",
    "from skbio.stats.composition import ilr, clr, closure, inner"
   ]
  },
  {
   "cell_type": "code",
   "execution_count": null,
   "metadata": {},
   "outputs": [],
   "source": [
    "# plt.style.use('dark_background')"
   ]
  },
  {
   "cell_type": "code",
   "execution_count": null,
   "metadata": {},
   "outputs": [],
   "source": [
    "pops = {}\n",
    "with open('data/phase3_1000genomes/integrated_call_samples_v3.20130502.ALL.panel') as f:\n",
    "    f.readline()\n",
    "    for line in f:\n",
    "        pop, super_pop = line.split('\\t')[1:3]\n",
    "        if super_pop not in pops:\n",
    "            pops[super_pop] = []        \n",
    "        if pop not in pops[super_pop]:\n",
    "            pops[super_pop].append(pop)\n",
    "# pops['AFR'].append('Batwa')"
   ]
  },
  {
   "cell_type": "code",
   "execution_count": null,
   "metadata": {},
   "outputs": [],
   "source": [
    "pops"
   ]
  },
  {
   "cell_type": "markdown",
   "metadata": {},
   "source": [
    "### Load 1KG AFR and Batwa 3-SFSs"
   ]
  },
  {
   "cell_type": "code",
   "execution_count": null,
   "metadata": {},
   "outputs": [],
   "source": [
    "sorted_triplets = [f'{a5}{a}{a3}>{a5}{d}{a3}' for a in 'AC' for d in 'ACGT' if d != a for a5 in 'ACGT' for a3 in 'ACGT']\n",
    "\n",
    "ksfs_dict = {}\n",
    "for super_pop in pops:\n",
    "    for pop in pops[super_pop]:\n",
    "        ksfs_dict[pop] = pickle.load(open(f'1KG/scons_output/{pop}/mushi.pkl', 'rb'))\n",
    "    \n",
    "for pop in ksfs_dict:   \n",
    "    foo, bar = ksfs_dict[pop].mutation_types.reindex(sorted_triplets)\n",
    "    \n",
    "    ksfs_dict[pop].mutation_types = foo\n",
    "    ksfs_dict[pop].X = ksfs_dict[pop].X[:, bar]\n",
    "    ksfs_dict[pop].μ.mutation_types = foo\n",
    "    ksfs_dict[pop].μ.Z = ksfs_dict[pop].μ.Z[:, bar]    "
   ]
  },
  {
   "cell_type": "markdown",
   "metadata": {},
   "source": [
    "### Mutation type enrichment as a heatmap"
   ]
  },
  {
   "cell_type": "code",
   "execution_count": null,
   "metadata": {
    "scrolled": false,
    "slideshow": {
     "slide_type": "fragment"
    }
   },
   "outputs": [],
   "source": [
    "for pop in ksfs_dict:\n",
    "    print(pop)\n",
    "    \n",
    "    singlets = ksfs_dict[pop].mutation_types.str[1].str.cat(ksfs_dict[pop].mutation_types.str[5], sep='>')\n",
    "#     a5 = ksfs_dict[pop].mutation_types.str[0]\n",
    "#     a3 = ksfs_dict[pop].mutation_types.str[2]\n",
    "\n",
    "    col_map = {'A>C':'C0', 'A>G':'C1', 'A>T':'C2', 'C>A':'C3', 'C>G':'C4', 'C>T':'C5'}\n",
    "    col_colors = [col_map[singlet] for singlet in singlets]\n",
    "    \n",
    "    g = ksfs_dict[pop].clustermap(figsize=(20, 7), col_cluster=False, xticklabels=True, rasterized=True,\n",
    "                                  vmin=0.75, vmax=1.25, center=1, col_colors=col_colors, cmap='RdBu_r')\n",
    "    g.ax_heatmap.set_xticklabels(g.ax_heatmap.get_xmajorticklabels(), fontsize = 9, family='monospace')\n",
    "#     g.ax_col_dendrogram.set_visible(False)\n",
    "    g.savefig(f'/Users/williamdewitt/Downloads/heatmap.{pop}.pdf', transparent=True)\n",
    "    plt.show()\n",
    "    \n",
    "    g = ksfs_dict[pop].μ.clustermap(figsize=(20, 7), col_cluster=False, xticklabels=True, rasterized=True,\n",
    "                                    vmin=0.5, vmax=1.5,\n",
    "                                    col_colors=col_colors, cmap='RdBu_r')\n",
    "    g.ax_heatmap.set_xticklabels(g.ax_heatmap.get_xmajorticklabels(), fontsize = 9, family='monospace',)\n",
    "#     g.ax_col_dendrogram.set_visible(False)\n",
    "    g.savefig(f'/Users/williamdewitt/Downloads/heatmap.{pop}.mu.pdf', transparent=True)\n",
    "    plt.show()    "
   ]
  },
  {
   "cell_type": "code",
   "execution_count": null,
   "metadata": {},
   "outputs": [],
   "source": [
    "g = ksfs_dict['Batwa'].μ.clustermap(figsize=(20, 7), col_cluster=True, xticklabels=True, rasterized=True,\n",
    "                                    vmin=0.5, vmax=1.5,\n",
    "                                    col_colors=col_colors, cmap='RdBu_r')\n",
    "g.ax_heatmap.set_xticklabels(g.ax_heatmap.get_xmajorticklabels(), fontsize = 9, family='monospace',)\n",
    "#     g.ax_col_dendrogram.set_visible(False)\n",
    "g.savefig(f'/Users/williamdewitt/Downloads/heatmap.Batwa.mu.clustered.pdf', transparent=True)\n",
    "plt.show()    "
   ]
  },
  {
   "cell_type": "markdown",
   "metadata": {
    "slideshow": {
     "slide_type": "slide"
    }
   },
   "source": [
    "### TMRCA CDF"
   ]
  },
  {
   "cell_type": "code",
   "execution_count": null,
   "metadata": {},
   "outputs": [],
   "source": [
    "for super_pop in pops:\n",
    "    print(super_pop)\n",
    "    plt.figure(figsize=(3, 3))\n",
    "    for pop in pops[super_pop]:\n",
    "        plt.plot(ksfs_dict[pop].η.change_points, ksfs_dict[pop].tmrca_cdf(), label=pop)\n",
    "        plt.xlabel('$t$')\n",
    "        plt.ylabel('TMRCA CDF')\n",
    "        plt.ylim([0, 1])\n",
    "        plt.xscale('symlog')\n",
    "        plt.legend()\n",
    "        plt.tight_layout()\n",
    "    plt.show()"
   ]
  },
  {
   "cell_type": "code",
   "execution_count": null,
   "metadata": {},
   "outputs": [],
   "source": [
    "for super_pop in pops:\n",
    "    print(super_pop)\n",
    "    plt.figure(figsize=(3, 3))\n",
    "    for pop in pops[super_pop]:\n",
    "        ksfs_dict[pop].η.plot(label=pop, lw=3, alpha=0.8, zorder=-1)\n",
    "    # plt.legend(loc=(1.04,0))\n",
    "    plt.tight_layout()\n",
    "    plt.savefig(f'/Users/williamdewitt/Downloads/{super_pop}.N.pdf', transparent=True)\n",
    "    plt.show()"
   ]
  },
  {
   "cell_type": "markdown",
   "metadata": {},
   "source": [
    "Expectation of emprical spectra from counting variants, doing compositional data transformation, then pca\n",
    "\n",
    "cite: https://link.springer.com/article/10.1023/A:1023818214614 and Aitchison\n",
    "\n",
    "and see: https://stats.stackexchange.com/questions/305965/can-i-use-the-clr-centered-log-ratio-transformation-to-prepare-data-for-pca"
   ]
  },
  {
   "cell_type": "code",
   "execution_count": null,
   "metadata": {},
   "outputs": [],
   "source": [
    "# PCA of integrated signal (expected seg sites)\n",
    "\n",
    "import matplotlib.animation as animation\n",
    "# from IPython.display import HTML\n",
    "\n",
    "time = np.concatenate(([0], ksfs_dict[pop].μ.change_points))\n",
    "\n",
    "# embedding = UMAP(n_components=2,\n",
    "# #                  min_dist=0,\n",
    "#                  n_neighbors=10,\n",
    "#                 )\n",
    "embedding = PCA(n_components=2)#, whiten=True)\n",
    "Z_dict = {}\n",
    "for pop in ksfs_dict:\n",
    "    Z_dict[pop] = np.array([ilr(closure(ksfs_dict[pop].L @ ksfs_dict[pop].μ.Z).sum(0, keepdims=True))])\n",
    "    \n",
    "Z = np.concatenate(tuple(Z_dict[pop] for pop in ksfs_dict))\n",
    "    \n",
    "embedding.fit(Z)\n",
    "\n",
    "# each\n",
    "Z_transform_dict = {pop:embedding.transform(Z_dict[pop]) for pop in ksfs_dict}\n",
    "\n",
    "fig, ax = plt.subplots(figsize=(5, 3))\n",
    "for idx, super_pop in enumerate(pops):\n",
    "    for pop in pops[super_pop]:\n",
    "        plt.plot(*Z_transform_dict[pop][0, :],\n",
    "                 'o',\n",
    "                 markersize=5,\n",
    "                 c=f'C{idx}',\n",
    "                 label=pop)    \n",
    "    #     ax.set_xlabel('UMAP 1')\n",
    "    #     ax.set_ylabel('UMAP 2')\n",
    "ax.set_xlabel('PC 1')\n",
    "ax.set_ylabel('PC 2')    \n",
    "ax.legend(loc=(1.04, -0.15), fancybox=True, framealpha=0, ncol=2)\n",
    "plt.tight_layout()\n",
    "plt.savefig(f'/Users/williamdewitt/Downloads/X_pca.pdf', transparent=True)"
   ]
  },
  {
   "cell_type": "code",
   "execution_count": null,
   "metadata": {
    "scrolled": false
   },
   "outputs": [],
   "source": [
    "# sns.barplot(ksfs_dict[pop].mutation_types, embedding.components_[0,:])\n",
    "# plt.show()"
   ]
  },
  {
   "cell_type": "code",
   "execution_count": null,
   "metadata": {
    "scrolled": true
   },
   "outputs": [],
   "source": [
    "Z_dict = {}\n",
    "for pop in pops['AFR']:\n",
    "    Z_dict[pop] = closure(ksfs_dict[pop].X.sum(0, keepdims=True))\n",
    "\n",
    "df = pd.DataFrame(index=ksfs_dict[pop].μ.mutation_types)\n",
    "\n",
    "df[\"5'\"] = df.index.str[0]\n",
    "df['mutation'] = df.index.str[1].str.cat(df.index.str[5], sep='→')\n",
    "df[\"3'\"] = df.index.str[2]\n",
    "\n",
    "df['LWK Vs MSL'] = Z_dict['LWK'] / Z_dict['MSL']\n",
    "df['YRI Vs MSL'] = Z_dict['YRI'] / Z_dict['MSL']\n",
    "df['GWD Vs MSL'] = Z_dict['GWD'] / Z_dict['MSL']\n",
    "df['ESN Vs MSL'] = Z_dict['ESN'] / Z_dict['MSL']\n",
    "\n",
    "df = df.melt(id_vars=[\"5'\", 'mutation', \"3'\"], var_name='comparison')\n",
    "\n",
    "g = sns.FacetGrid(df, row='mutation', col='comparison',\n",
    "                  row_order=('C→A', 'C→G', 'C→T', 'A→G', 'A→C', 'A→T'),\n",
    "                  margin_titles=True,\n",
    "                  height=1.5\n",
    "                  )\n",
    "\n",
    "def facet_heatmap(data, color, **kwargs):\n",
    "    data = data.pivot(index=\"5'\", columns=\"3'\", values='value')\n",
    "    sns.heatmap(data, **kwargs).invert_yaxis()\n",
    "\n",
    "# colorbar axes\n",
    "cbar_ax = g.fig.add_axes([1.1, .3, .05, .4])\n",
    "\n",
    "g = g.map_dataframe(facet_heatmap,\n",
    "                    cbar_ax=cbar_ax,\n",
    "                    cmap='RdBu_r',\n",
    "                    center=1,\n",
    "                    vmin=0.84, vmax=1.16\n",
    "                    )\n",
    "for ax in g.axes.flat:\n",
    "    plt.setp(ax.texts, text=\"\") \n",
    "g.set_titles(row_template = '{row_name}', col_template = '{col_name}')\n",
    "\n",
    "g.fig.tight_layout()\n",
    "plt.tight_layout()\n",
    "# so the colorbar doesn't overlap the plot\n",
    "# g.fig.subplots_adjust(right=.9)\n",
    "g.savefig('/Users/williamdewitt/Downloads/AFR_heatmap.pdf')\n",
    "plt.show()"
   ]
  },
  {
   "cell_type": "code",
   "execution_count": null,
   "metadata": {
    "scrolled": false
   },
   "outputs": [],
   "source": [
    "import matplotlib.animation as animation\n",
    "# from IPython.display import HTML\n",
    "\n",
    "time = np.concatenate(([0], ksfs_dict[pop].μ.change_points))\n",
    "\n",
    "Z_dict = {}\n",
    "for pop in ksfs_dict:\n",
    "    Z_dict[pop] = ilr(closure(ksfs_dict[pop].μ.Z))\n",
    "    \n",
    "Z = np.concatenate(tuple(Z_dict[pop] for pop in ksfs_dict))\n",
    "\n",
    "# use one of these, or the one above learned on the expected segregating sites\n",
    "embedding = UMAP(n_components=2,\n",
    "                 n_neighbors=100,\n",
    "                 min_dist=0,\n",
    "#                  metric='cosine',\n",
    "#                  local_connectivity=2,\n",
    "#                  n_epochs=500\n",
    "                )\n",
    "# embedding = PCA(n_components=2)#, whiten=True)\n",
    "embedding.fit(Z)\n",
    "\n",
    "# each\n",
    "Z_transform_dict = {pop:embedding.transform(Z_dict[pop]) for pop in ksfs_dict}\n",
    "\n",
    "plt.figure(figsize=(5, 3))\n",
    "# plt.subplot(311)\n",
    "for idx, super_pop in enumerate(pops):\n",
    "    for pop in pops[super_pop]:\n",
    "        plt.plot(*Z_transform_dict[pop].T,\n",
    "                 '-o',\n",
    "                 c=f'C{idx}',\n",
    "                 label=pop, markevery=[0])\n",
    "plt.xlabel('UMAP 1')\n",
    "plt.ylabel('UMAP 2')\n",
    "plt.legend(loc=(1.04, -0.15), fancybox=True, framealpha=0, ncol=2)\n",
    "plt.tight_layout()\n",
    "\n",
    "# plt.subplot(312)\n",
    "# for idx, super_pop in enumerate(pops):\n",
    "#     for pop in pops[super_pop]:\n",
    "#         plt.plot(time, Z_transform_dict[pop][:, 0],\n",
    "#                  '-o',\n",
    "#                  c=f'C{idx}',\n",
    "#                  label=pop, markevery=[0])\n",
    "# plt.xlabel('time (generations)')\n",
    "# plt.ylabel('UMAP 1')\n",
    "# plt.xscale('symlog')\n",
    "# # plt.legend(loc=(1.04, -1), fancybox=True, framealpha=0)\n",
    "# plt.subplot(313)\n",
    "# for idx, super_pop in enumerate(pops):\n",
    "#     for pop in pops[super_pop]:\n",
    "#         plt.plot(time, Z_transform_dict[pop][:, 1],\n",
    "#                  '-o',\n",
    "#                  c=f'C{idx}',\n",
    "#                  label=pop, markevery=[0])\n",
    "# plt.xlabel('time (generations)')\n",
    "# plt.ylabel('UMAP 2')\n",
    "# plt.xscale('symlog')\n",
    "# plt.tight_layout()\n",
    "\n",
    "plt.savefig(f'/Users/williamdewitt/Downloads/Z_embed.pdf', transparent=True)\n",
    "plt.show()"
   ]
  },
  {
   "cell_type": "code",
   "execution_count": null,
   "metadata": {},
   "outputs": [],
   "source": [
    "time = np.concatenate(([0], ksfs_dict[pop].μ.change_points))\n",
    "\n",
    "embedding = NMF(alpha=1.5e0, n_components=10)#, verbose=False, tol=1e-10, max_iter=10000)\n",
    "# embedding = PCA(n_components=3)\n",
    "embedding.fit(np.concatenate(tuple(ksfs_dict[pop].μ.Z.T for pop in ksfs_dict)))\n",
    "\n",
    "Z_transform_dict = {pop:embedding.transform(ksfs_dict[pop].μ.Z.T) for pop in ksfs_dict}\n",
    "\n",
    "plt.figure(figsize=(4, 2))\n",
    "for i in range(embedding.n_components):\n",
    "    plt.plot(time, embedding.components_[i], label=f'latent history {i + 1}')\n",
    "plt.xlabel('$t$')\n",
    "plt.xscale('symlog')\n",
    "plt.legend(loc='center left', prop={'size': 7.5}, framealpha=.5)\n",
    "plt.show()"
   ]
  },
  {
   "cell_type": "code",
   "execution_count": null,
   "metadata": {
    "scrolled": false
   },
   "outputs": [],
   "source": [
    "for pop in ksfs_dict:\n",
    "    print(pop)\n",
    "    W = embedding.transform(ksfs_dict[pop].μ.Z.T).T\n",
    "\n",
    "#     # norms = nmf.components_.T.mean(0, keepdims=True)\n",
    "#     H = nmf.components_.T# / norms\n",
    "#     # W = norms.T * W\n",
    "\n",
    "    total_weight = W.sum(1, keepdims=True)\n",
    "    W = W / total_weight\n",
    "\n",
    "    df = pd.DataFrame(data=W.T,\n",
    "                      index=ksfs_dict[pop].μ.mutation_types,\n",
    "                      columns=range(1, n_components + 1))\n",
    "\n",
    "    df_min = df.values.min()\n",
    "    df_max = df.values.max()\n",
    "\n",
    "    df[\"5'\"] = df.index.str[0]\n",
    "    df['mutation'] = df.index.str[1].str.cat(df.index.str[5], sep='→')\n",
    "    df[\"3'\"] = df.index.str[2]\n",
    "\n",
    "    df = df.melt(id_vars=[\"5'\", 'mutation', \"3'\"], var_name='latent history')\n",
    "\n",
    "    g = sns.FacetGrid(df, row='mutation', col='latent history',\n",
    "                      row_order=('C→A', 'C→G', 'C→T', 'A→G', 'A→C', 'A→T'),\n",
    "                      margin_titles=True,\n",
    "                      size=1.5\n",
    "                      )\n",
    "\n",
    "    def facet_heatmap(data, color, **kwargs):\n",
    "        data = data.pivot(index=\"5'\", columns=\"3'\", values='value')\n",
    "        sns.heatmap(data, **kwargs).invert_yaxis()n\n",
    "\n",
    "    # colorbar axes\n",
    "    cbar_ax = g.fig.add_axes([1.1, .3, .05, .4])\n",
    "\n",
    "    g = g.map_dataframe(facet_heatmap,\n",
    "                        cbar_ax=cbar_ax,\n",
    "                        cmap='RdBu_r',\n",
    "                        center=0,\n",
    "                        vmin=df_min, vmax=df_max\n",
    "                        )\n",
    "\n",
    "    # so the colorbar doesn't overlap the plot\n",
    "    # g.fig.subplots_adjust(right=.9)\n",
    "#     plt.savefig('/Users/williamdewitt/Downloads/PC_heatmap.pdf')\n",
    "    plt.show()"
   ]
  },
  {
   "cell_type": "code",
   "execution_count": null,
   "metadata": {
    "scrolled": false
   },
   "outputs": [],
   "source": [
    "plt.figure()\n",
    "for pop in ksfs_dict:\n",
    "    plt.scatter(*Z_transform_dict[pop][:, 1:].T, alpha=0.8)\n",
    "plt.show()"
   ]
  },
  {
   "cell_type": "code",
   "execution_count": null,
   "metadata": {},
   "outputs": [],
   "source": [
    "x = []\n",
    "y = []\n",
    "derived = []\n",
    "context = []\n",
    "pops = []\n",
    "\n",
    "for i, triplet in enumerate(sorted_triplets):\n",
    "    for pop in ksfs_dict:\n",
    "        xy = Z_transform_dict[pop][i, 1:]\n",
    "        x.append(xy[0])\n",
    "        y.append(xy[1])\n",
    "        pops.append(pop)\n",
    "        context.append(triplet[:3])\n",
    "        derived.append(triplet[5])\n",
    "        \n",
    "df = pd.DataFrame({'population':pops, 'context':context, 'derived':derived, 'latent history 2':x, 'latent history 3':y})"
   ]
  },
  {
   "cell_type": "code",
   "execution_count": null,
   "metadata": {},
   "outputs": [],
   "source": [
    "g = sns.relplot(x='latent history 2', y='latent history 3', row='derived', col='context', data=df, hue='population',\n",
    "           height=2, aspect=1, alpha=.8).set_titles(\"{col_name}>{row_name}\")\n",
    "g.savefig('/Users/williamdewitt/Downloads/AFR.signatures.pdf')\n",
    "plt.show()"
   ]
  },
  {
   "cell_type": "code",
   "execution_count": null,
   "metadata": {},
   "outputs": [],
   "source": [
    "sns.catplot(y='latent history 3', x='singlet', row='context', data=df, hue='population')\n",
    "plt.show()"
   ]
  },
  {
   "cell_type": "code",
   "execution_count": null,
   "metadata": {},
   "outputs": [],
   "source": []
  }
 ],
 "metadata": {
  "celltoolbar": "Slideshow",
  "kernelspec": {
   "display_name": "Python 3",
   "language": "python",
   "name": "python3"
  },
  "language_info": {
   "codemirror_mode": {
    "name": "ipython",
    "version": 3
   },
   "file_extension": ".py",
   "mimetype": "text/x-python",
   "name": "python",
   "nbconvert_exporter": "python",
   "pygments_lexer": "ipython3",
   "version": "3.7.3"
  }
 },
 "nbformat": 4,
 "nbformat_minor": 2
}
