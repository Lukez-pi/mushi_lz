{
 "cells": [
  {
   "cell_type": "markdown",
   "metadata": {
    "slideshow": {
     "slide_type": "slide"
    }
   },
   "source": [
    "Testing `mushi` with `msprime` simulations\n",
    "=="
   ]
  },
  {
   "cell_type": "code",
   "execution_count": null,
   "metadata": {
    "slideshow": {
     "slide_type": "slide"
    }
   },
   "outputs": [],
   "source": [
    "%matplotlib notebook\n",
    "import histories\n",
    "import mushi\n",
    "import msprime\n",
    "%cd stdpopsim\n",
    "from stdpopsim import homo_sapiens\n",
    "%cd ../\n",
    "from IPython.display import display, SVG\n",
    "import numpy as np\n",
    "from matplotlib import pyplot as plt\n",
    "from scipy.special import expit\n",
    "import time"
   ]
  },
  {
   "cell_type": "markdown",
   "metadata": {
    "slideshow": {
     "slide_type": "slide"
    }
   },
   "source": [
    "## `msprime` simulation"
   ]
  },
  {
   "cell_type": "markdown",
   "metadata": {
    "slideshow": {
     "slide_type": "fragment"
    }
   },
   "source": [
    "### Download human recombination maps"
   ]
  },
  {
   "cell_type": "code",
   "execution_count": null,
   "metadata": {
    "slideshow": {
     "slide_type": "-"
    }
   },
   "outputs": [],
   "source": [
    "print(homo_sapiens.genome.default_genetic_map)\n",
    "gmap = homo_sapiens.HapmapII_GRCh37()\n",
    "gmap.download()"
   ]
  },
  {
   "cell_type": "markdown",
   "metadata": {
    "slideshow": {
     "slide_type": "slide"
    }
   },
   "source": [
    "### Define true demographic history $\\eta(t)$ based on the Tennessen et al. `TwoPopOutOfAfrica` model in `stdpopsim`"
   ]
  },
  {
   "cell_type": "code",
   "execution_count": null,
   "metadata": {
    "slideshow": {
     "slide_type": "-"
    }
   },
   "outputs": [],
   "source": [
    "chrom = homo_sapiens.genome.chromosomes[\"chr22\"]\n",
    "model = homo_sapiens.TennessenTwoPopOutOfAfrica()\n",
    "# model = homo_sapiens.TennessenOnePopAfrica()"
   ]
  },
  {
   "cell_type": "markdown",
   "metadata": {
    "slideshow": {
     "slide_type": "fragment"
    }
   },
   "source": [
    "Simulate a tree sequence for 200 haplotypes"
   ]
  },
  {
   "cell_type": "code",
   "execution_count": null,
   "metadata": {
    "slideshow": {
     "slide_type": "-"
    }
   },
   "outputs": [],
   "source": [
    "n = 200\n",
    "population_idx = 1 # 0 for AFR, 1 for EUR\n",
    "samples = [msprime.Sample(population=population_idx, time=0) for j in range(n)]\n",
    "seed = time.time()\n",
    "tree_sequence = msprime.simulate(random_seed=seed,\n",
    "                                 samples=samples,\n",
    "                                 recombination_map=chrom.recombination_map(),\n",
    "                                 **model.asdict())\n",
    "print(f\"{len(tree_sequence.breakpoints(as_array=True))} trees\")"
   ]
  },
  {
   "cell_type": "markdown",
   "metadata": {
    "slideshow": {
     "slide_type": "slide"
    }
   },
   "source": [
    "### First tree in the sequence"
   ]
  },
  {
   "cell_type": "code",
   "execution_count": null,
   "metadata": {
    "slideshow": {
     "slide_type": "-"
    }
   },
   "outputs": [],
   "source": [
    "display(SVG(tree_sequence.first().draw(format='svg', width=500, height=200, node_labels={},\n",
    "                                       mutation_labels={})))#, max_tree_height='ts')))"
   ]
  },
  {
   "cell_type": "markdown",
   "metadata": {
    "slideshow": {
     "slide_type": "slide"
    }
   },
   "source": [
    "The `msprime.DemographyDebugger` lets us extract demographic history info"
   ]
  },
  {
   "cell_type": "code",
   "execution_count": null,
   "metadata": {
    "slideshow": {
     "slide_type": "fragment"
    }
   },
   "outputs": [],
   "source": [
    "dd = msprime.DemographyDebugger(Ne=model.default_population_size,\n",
    "                                population_configurations=model.population_configurations,\n",
    "                                demographic_events=model.demographic_events,\n",
    "                                migration_matrix=model.migration_matrix)"
   ]
  },
  {
   "cell_type": "markdown",
   "metadata": {
    "slideshow": {
     "slide_type": "fragment"
    }
   },
   "source": [
    "Define the time grid"
   ]
  },
  {
   "cell_type": "code",
   "execution_count": null,
   "metadata": {
    "slideshow": {
     "slide_type": "-"
    }
   },
   "outputs": [],
   "source": [
    "t = np.logspace(0, 5, 200)"
   ]
  },
  {
   "cell_type": "markdown",
   "metadata": {
    "slideshow": {
     "slide_type": "slide"
    }
   },
   "source": [
    "Extract effective population size history $\\eta(t)$ for `mushi`"
   ]
  },
  {
   "cell_type": "code",
   "execution_count": null,
   "metadata": {
    "slideshow": {
     "slide_type": "-"
    }
   },
   "outputs": [],
   "source": [
    "# note: the factor of 2 accounts for diploidy\n",
    "y = 2 * dd.population_size_trajectory(np.concatenate(([0], t)))[:, population_idx]\n",
    "η = histories.η(t, y)\n",
    "\n",
    "plt.figure(figsize=(3, 3))\n",
    "η.plot()\n",
    "for tt in dd.epoch_times[1:]: plt.axvline(tt, c='k', ls=':')\n",
    "plt.xlabel('$t$'); plt.ylabel('$η(t)$')\n",
    "plt.xscale('symlog'); plt.yscale('log')\n",
    "plt.tight_layout()\n",
    "plt.show()"
   ]
  },
  {
   "cell_type": "markdown",
   "metadata": {
    "slideshow": {
     "slide_type": "slide"
    }
   },
   "source": [
    "Define mutation intensity history $\\mu(t)$"
   ]
  },
  {
   "cell_type": "code",
   "execution_count": null,
   "metadata": {
    "slideshow": {
     "slide_type": "-"
    }
   },
   "outputs": [],
   "source": [
    "z = np.ones(len(t) + 1)\n",
    "z[1:] += expit(.1 * (t - 80)) - 1.5 * expit(.1 * (t - 600))\n",
    "z *= chrom.length * chrom.default_mutation_rate\n",
    "μ = histories.μ(t, z)\n",
    "\n",
    "plt.figure(figsize=(3, 3))\n",
    "μ.plot()\n",
    "plt.xlabel('$t$')\n",
    "plt.ylabel('$μ(t)$')\n",
    "plt.xscale('symlog')\n",
    "plt.tight_layout()\n",
    "plt.show()"
   ]
  },
  {
   "cell_type": "markdown",
   "metadata": {
    "slideshow": {
     "slide_type": "slide"
    }
   },
   "source": [
    "### TMRCA CDF"
   ]
  },
  {
   "cell_type": "code",
   "execution_count": null,
   "metadata": {
    "scrolled": true,
    "slideshow": {
     "slide_type": "-"
    }
   },
   "outputs": [],
   "source": [
    "plt.figure(figsize=(3, 3))\n",
    "plt.plot(η.change_points, mushi.kSFS(η, n=n).tmrca_cdf())\n",
    "plt.xlabel('$t$'); plt.ylabel('TMRCA CDF'); plt.ylim([0, 1]); plt.xscale('symlog')\n",
    "plt.tight_layout()\n",
    "plt.show()"
   ]
  },
  {
   "cell_type": "markdown",
   "metadata": {
    "slideshow": {
     "slide_type": "slide"
    }
   },
   "source": [
    "### place mutations on simulated tree sequence according to $\\mu(t)$\n",
    "We iterate over the epochs in our dense time grid"
   ]
  },
  {
   "cell_type": "code",
   "execution_count": null,
   "metadata": {
    "slideshow": {
     "slide_type": "-"
    }
   },
   "outputs": [],
   "source": [
    "for start_time, end_time, mutation_rate in μ.epochs():\n",
    "    print(f'epoch boundaries: ({start_time:.2f}, {end_time:.2f}), μ: {mutation_rate[0]:.2f}', flush=True, end='     \\r')\n",
    "    # note: the factor of 1 / chrom.length is needed to scale the mutation rate from sites to genomes\n",
    "    tree_sequence = msprime.mutate(tree_sequence,\n",
    "                                   rate=mutation_rate / chrom.length,                                   \n",
    "                                   start_time=start_time,\n",
    "                                   end_time=end_time,\n",
    "                                   random_seed=seed,\n",
    "                                   keep=True)"
   ]
  },
  {
   "cell_type": "markdown",
   "metadata": {
    "slideshow": {
     "slide_type": "slide"
    }
   },
   "source": [
    "### compute and plot the SFS"
   ]
  },
  {
   "cell_type": "code",
   "execution_count": null,
   "metadata": {
    "slideshow": {
     "slide_type": "-"
    }
   },
   "outputs": [],
   "source": [
    "X = np.array([tree_sequence.allele_frequency_spectrum(polarised=True, span_normalise=False)[1:-1]]).T\n",
    "ksfs = mushi.kSFS(η, X=X)\n",
    "\n",
    "plt.figure(figsize=(3, 3))\n",
    "sfs.plot(0)\n",
    "plt.tight_layout()\n",
    "plt.show()"
   ]
  },
  {
   "cell_type": "markdown",
   "metadata": {
    "slideshow": {
     "slide_type": "slide"
    }
   },
   "source": [
    "## Inferring $\\mu(t)$ from the SFS with `mushi`"
   ]
  },
  {
   "cell_type": "markdown",
   "metadata": {
    "slideshow": {
     "slide_type": "fragment"
    }
   },
   "source": [
    "Proximal gradient descent"
   ]
  },
  {
   "cell_type": "code",
   "execution_count": null,
   "metadata": {},
   "outputs": [],
   "source": [
    "μ_inferred, f_trajectory = ksfs.infer_μ(# loss function parameters\n",
    "                                        fit='prf',\n",
    "                                        exclude_singletons=False,\n",
    "                                        bins=None,\n",
    "                                        # time derivative regularization parameters\n",
    "                                        λ_tv=1e2,\n",
    "                                        α_tv=0,\n",
    "                                        # spectral regularization parameters\n",
    "                                        λ_r=0,\n",
    "                                        α_r=1,\n",
    "                                        hard=True,                                        \n",
    "                                        # convergence parameters\n",
    "                                        max_iter=10000,\n",
    "                                        tol=1e-10,\n",
    "                                        γ=0.8)"
   ]
  },
  {
   "cell_type": "code",
   "execution_count": null,
   "metadata": {},
   "outputs": [],
   "source": [
    "plt.figure(figsize=(4, 2))\n",
    "plt.plot(f_trajectory)\n",
    "plt.xlabel('iterations')\n",
    "plt.ylabel('loss')\n",
    "plt.xscale('symlog')\n",
    "plt.tight_layout()\n",
    "plt.show()"
   ]
  },
  {
   "cell_type": "code",
   "execution_count": null,
   "metadata": {
    "slideshow": {
     "slide_type": "slide"
    }
   },
   "outputs": [],
   "source": [
    "plt.figure(figsize=(6, 3))\n",
    "ksfs.plot(μ=μ_inferred, prf_quantiles=True)\n",
    "plt.show()"
   ]
  }
 ],
 "metadata": {
  "celltoolbar": "Slideshow",
  "kernelspec": {
   "display_name": "Python 3",
   "language": "python",
   "name": "python3"
  },
  "language_info": {
   "codemirror_mode": {
    "name": "ipython",
    "version": 3
   },
   "file_extension": ".py",
   "mimetype": "text/x-python",
   "name": "python",
   "nbconvert_exporter": "python",
   "pygments_lexer": "ipython3",
   "version": "3.7.4"
  }
 },
 "nbformat": 4,
 "nbformat_minor": 2
}
