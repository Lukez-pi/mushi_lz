{
 "cells": [
  {
   "cell_type": "markdown",
   "metadata": {},
   "source": [
    "1KG\n",
    "==\n",
    "Run mushi on 3-SFS computed from 1000 Genome Project data"
   ]
  },
  {
   "cell_type": "code",
   "execution_count": null,
   "metadata": {
    "slideshow": {
     "slide_type": "slide"
    }
   },
   "outputs": [],
   "source": [
    "%matplotlib inline \n",
    "# %matplotlib notebook\n",
    "\n",
    "from mushi.ksfs import kSFS\n",
    "import mushi.histories as hst\n",
    "import mushi.composition as cmp\n",
    "\n",
    "import numpy as np\n",
    "import matplotlib as mpl\n",
    "from collections import OrderedDict\n",
    "from matplotlib import pyplot as plt\n",
    "from mpl_toolkits.mplot3d import Axes3D\n",
    "import pandas as pd\n",
    "import seaborn as sns\n",
    "import pickle\n",
    "import copy\n",
    "import glob\n",
    "import os"
   ]
  },
  {
   "cell_type": "code",
   "execution_count": null,
   "metadata": {},
   "outputs": [],
   "source": [
    "# set this to e.g. your Downloads folder path if you want plots saved to pdfs\n",
    "plot_dir = None\n",
    "# plot_dir = '/Users/williamdewitt/Downloads/'\n",
    "\n",
    "# data_dir = 'example_data'\n",
    "data_dir = '../1KG/scons_output/'\n",
    "\n",
    "# plt.style.use('dark_background')\n",
    "\n",
    "mpl.rc('text', usetex=True)\n",
    "mpl.rcParams['text.latex.preamble']=[r\"\\usepackage{amsmath}\"]"
   ]
  },
  {
   "cell_type": "markdown",
   "metadata": {},
   "source": [
    "Parse population manifest"
   ]
  },
  {
   "cell_type": "code",
   "execution_count": null,
   "metadata": {},
   "outputs": [],
   "source": [
    "pops = {}\n",
    "for ksfs_file in glob.glob(f'{data_dir}/3-SFS.*.tsv'):\n",
    "    super_pop, pop = os.path.basename(ksfs_file).split('.')[1:3]\n",
    "    if super_pop not in pops:\n",
    "        pops[super_pop] = []        \n",
    "    if pop not in pops[super_pop]:\n",
    "        pops[super_pop].append(pop)\n",
    "\n",
    "pops = OrderedDict((pop, sorted(pops[pop])) for pop in sorted(pops))\n",
    "pops"
   ]
  },
  {
   "cell_type": "markdown",
   "metadata": {},
   "source": [
    "### Load 1KG 3-SFSs"
   ]
  },
  {
   "cell_type": "code",
   "execution_count": null,
   "metadata": {},
   "outputs": [],
   "source": [
    "# we use this ordering for triplet mutation types\n",
    "sorted_triplets = [f'{a5}{a}{a3}>{a5}{d}{a3}' for a in 'AC' for d in 'ACGT' if d != a for a5 in 'ACGT' for a3 in 'ACGT']\n",
    "\n",
    "ksfs_dict = {}\n",
    "plt.figure(figsize=(8, 8))\n",
    "for idx, super_pop in enumerate(pops):\n",
    "    for pop in pops[super_pop]:\n",
    "        ksfs_dict[pop] = kSFS(file=f'{data_dir}/3-SFS.{super_pop}.{pop}.tsv')\n",
    "        ksfs_dict[pop].plot_total(kwargs=dict(ls='', alpha=0.75, marker='o', ms=5, mfc='none', label=pop, c=f'C{idx}'))\n",
    "\n",
    "        # this sorts the columns of the ksfs according to sorted_triplets\n",
    "        foo, bar = ksfs_dict[pop].mutation_types.reindex(sorted_triplets)\n",
    "        ksfs_dict[pop].mutation_types = foo\n",
    "        ksfs_dict[pop].X = ksfs_dict[pop].X[:, bar]\n",
    "plt.legend()\n",
    "plt.show()"
   ]
  },
  {
   "cell_type": "markdown",
   "metadata": {},
   "source": [
    "Number of segregating variants in each population"
   ]
  },
  {
   "cell_type": "code",
   "execution_count": null,
   "metadata": {},
   "outputs": [],
   "source": [
    "df = pd.DataFrame([(super_pop, pop, ksfs_dict[pop].X.sum()) for super_pop in pops for pop in pops[super_pop]], columns=('superpop', 'pop', 'segregating sites'))\n",
    "plt.figure(figsize=(12, 5))\n",
    "sns.barplot(x='pop', y='segregating sites', hue='superpop', data=df, dodge=False)\n",
    "plt.show()"
   ]
  },
  {
   "cell_type": "markdown",
   "metadata": {},
   "source": [
    "clip high frequencies due to ancestral state misidentification"
   ]
  },
  {
   "cell_type": "code",
   "execution_count": null,
   "metadata": {},
   "outputs": [],
   "source": [
    "clip_low = 0\n",
    "clip_high = 20\n",
    "# we need a different mask vector for each population because the number of haplotypes n\n",
    "# (length of SFS vector) varies\n",
    "freq_mask = {}\n",
    "for super_pop in pops:\n",
    "    for pop in pops[super_pop]:\n",
    "        freq_mask[pop] = np.array([True if (clip_low <= i < ksfs_dict[pop].n - clip_high - 1) else False\n",
    "                                   for i in range(ksfs_dict[pop].n - 1)])"
   ]
  },
  {
   "cell_type": "markdown",
   "metadata": {},
   "source": [
    "time grid of epoch boundaries (measured in generations)"
   ]
  },
  {
   "cell_type": "code",
   "execution_count": null,
   "metadata": {},
   "outputs": [],
   "source": [
    "change_points = np.logspace(np.log10(1), np.log10(200000), 200)"
   ]
  },
  {
   "cell_type": "markdown",
   "metadata": {},
   "source": [
    "masked genome size (excluding conserved sites, repeats, 1KG stict mask, and uncertain ancestral states)"
   ]
  },
  {
   "cell_type": "code",
   "execution_count": null,
   "metadata": {},
   "outputs": [],
   "source": [
    "masked_genome_size = pd.read_csv(f'{data_dir}/masked_size.tsv', sep='\\t', header=None, names=('context', 'count'))\n",
    "\n",
    "plt.figure(figsize=(6, 3))\n",
    "sns.barplot(x='context', y='count', data=masked_genome_size)\n",
    "plt.xticks(rotation=90)\n",
    "plt.show()"
   ]
  },
  {
   "cell_type": "markdown",
   "metadata": {},
   "source": [
    "mutation rate per site per generation"
   ]
  },
  {
   "cell_type": "code",
   "execution_count": null,
   "metadata": {},
   "outputs": [],
   "source": [
    "u = 1.25e-8"
   ]
  },
  {
   "cell_type": "markdown",
   "metadata": {},
   "source": [
    "mutation rate per masked genome per generation"
   ]
  },
  {
   "cell_type": "code",
   "execution_count": null,
   "metadata": {},
   "outputs": [],
   "source": [
    "mu0 = u * masked_genome_size['count'].sum()\n",
    "mu0"
   ]
  },
  {
   "cell_type": "markdown",
   "metadata": {},
   "source": [
    "generation time for time calibration"
   ]
  },
  {
   "cell_type": "code",
   "execution_count": null,
   "metadata": {},
   "outputs": [],
   "source": [
    "t_gen = 29"
   ]
  },
  {
   "cell_type": "markdown",
   "metadata": {},
   "source": [
    "# Infer $\\eta(t)$\n",
    "\n",
    "regularization paramaters and convergence criteria"
   ]
  },
  {
   "cell_type": "code",
   "execution_count": null,
   "metadata": {
    "scrolled": false
   },
   "outputs": [],
   "source": [
    "regularization_eta = dict(alpha_tv=1e2, alpha_spline=3e3)\n",
    "convergence = dict(tol=1e-12, max_iter=2000)\n",
    "\n",
    "eta_ref = None\n",
    "\n",
    "for idx_super, super_pop in enumerate(sorted(pops)):\n",
    "    for idx, pop in enumerate(reversed(pops[super_pop])):\n",
    "        print(super_pop, pop)\n",
    "        # clear solutions, in case rerunning this cell\n",
    "        ksfs_dict[pop].clear_eta()\n",
    "        ksfs_dict[pop].clear_mu()\n",
    "        if idx_super == idx == 0:\n",
    "            alpha_ridge = 1e-10\n",
    "        else:\n",
    "            alpha_ridge = 1e4\n",
    "        ksfs_dict[pop].infer_history(change_points, mu0, eta_ref=eta_ref, alpha_ridge=alpha_ridge,\n",
    "                                     infer_mu=False,\n",
    "                                     loss='prf', **regularization_eta,\n",
    "                                     **convergence, mask=freq_mask[pop])\n",
    "        if idx_super == idx == 0:\n",
    "            eta_ref = ksfs_dict[pop].eta"
   ]
  },
  {
   "cell_type": "markdown",
   "metadata": {},
   "source": [
    "Plot results separately for each superpopulation"
   ]
  },
  {
   "cell_type": "code",
   "execution_count": null,
   "metadata": {},
   "outputs": [],
   "source": [
    "fig, axes = plt.subplots(len(pops), 2, sharex='col', figsize=(6, 1.7 * len(pops)), squeeze=False)\n",
    "for idx_super, super_pop in enumerate(pops):\n",
    "    for idx, pop in enumerate(pops[super_pop]):\n",
    "        plt.sca(axes[idx_super, 0])\n",
    "        ksfs_dict[pop].plot_total(kwargs=dict(ls='', alpha=0.5, marker='o', ms=5, mfc='none', c=f'C{idx}', label=pop, rasterized=True),\n",
    "                                  line_kwargs=dict(c=f'C{idx}', ls=':', marker='.', ms=3, alpha=0.5, lw=1, rasterized=True),\n",
    "                                  fill_kwargs=dict(color=f'C{idx}', alpha=0))\n",
    "        plt.legend(fontsize=6, loc='upper right')\n",
    "        if idx_super < len(pops) - 1:\n",
    "            plt.xlabel(None)\n",
    "        plt.sca(axes[idx_super, 1])\n",
    "        ksfs_dict[pop].eta.plot(t_gen=t_gen, lw=2, label=pop, alpha=0.75, c=f'C{idx}')\n",
    "        plt.xlim([1e3, 1e6])\n",
    "        plt.legend(fontsize=6, loc='upper right')\n",
    "        if idx_super < len(pops) - 1:\n",
    "            plt.xlabel(None)\n",
    "plt.tight_layout()\n",
    "if plot_dir:\n",
    "    plt.savefig(f'{plot_dir}/1KG.eta.pdf', dpi=400)\n",
    "plt.show()"
   ]
  },
  {
   "cell_type": "markdown",
   "metadata": {},
   "source": [
    "Plot all demographies on the same axes"
   ]
  },
  {
   "cell_type": "code",
   "execution_count": null,
   "metadata": {
    "scrolled": false
   },
   "outputs": [],
   "source": [
    "fig = plt.figure(figsize=(6, 1.7 * len(pops)))\n",
    "for idx_super, super_pop in enumerate(pops):\n",
    "    for idx, pop in enumerate(pops[super_pop]):\n",
    "        ksfs_dict[pop].eta.plot(t_gen=t_gen, lw=3, label=super_pop if idx == 0 else None, alpha=0.3, c=f'C{idx_super}')\n",
    "        plt.xlim([1e3, 1e6])\n",
    "plt.legend()\n",
    "plt.tight_layout()\n",
    "if plot_dir:\n",
    "    plt.savefig(f'{plot_dir}/1KG.eta.all.pdf')\n",
    "plt.show()"
   ]
  },
  {
   "cell_type": "markdown",
   "metadata": {},
   "source": [
    "# Infer $\\boldsymbol\\mu(t)$\n",
    "First we'll focus on sharply timing the Europulse"
   ]
  },
  {
   "cell_type": "code",
   "execution_count": null,
   "metadata": {
    "scrolled": false
   },
   "outputs": [],
   "source": [
    "import msprime\n",
    "import stdpopsim\n",
    "from scipy.interpolate import interp1d\n",
    "\n",
    "regularization_mu = dict(beta_tv=7e1, beta_ridge=1e-10)\n",
    "\n",
    "fig, axes = plt.subplots(nrows=3, ncols=4, figsize=(17.4, 7.5))\n",
    "\n",
    "species = stdpopsim.get_species(\"HomSap\")\n",
    "model = species.get_demographic_model(\"OutOfAfrica_2T12\")\n",
    "ddb = model.get_demography_debugger()\n",
    "steps = np.concatenate((np.array([0]), change_points))\n",
    "eta_Tennessen = hst.eta(change_points,\n",
    "                        1 / ddb.coalescence_rate_trajectory(steps=steps,\n",
    "                                                            num_samples=[0, 2],\n",
    "                                                            double_step_validation=False)[0])\n",
    "\n",
    "for idx, pop in enumerate(pops['EUR']):\n",
    "    print(pop)\n",
    "    eta_mushi = ksfs_dict[pop].eta\n",
    "\n",
    "    with open(f'Relate_histories/relate_{pop}.coal') as f:\n",
    "        f.readline()\n",
    "        t = np.fromstring(f.readline(), sep=' ')\n",
    "        y = 1 / np.fromstring(f.readline(), sep=' ')[2:]\n",
    "    t2 = eta_mushi.arrays()[0]\n",
    "    eta_relate = hst.eta(t2[1:-1], interp1d(t, y, kind='nearest')(t2[:-1]))\n",
    "    for row_idx, eta in enumerate((eta_Tennessen, eta_relate, eta_mushi)):\n",
    "        ksfs_dict[pop].clear_mu()\n",
    "        ksfs_dict[pop].infer_history(change_points, mu0, eta=eta, infer_eta=False,\n",
    "                                     loss='prf', **regularization_mu,\n",
    "                                     **convergence, mask=freq_mask[pop])\n",
    "        plt.sca(axes[row_idx, 0])\n",
    "        ksfs_dict[pop].plot_total(kwargs=dict(ls='', alpha=0.5, marker='o', ms=5, mfc='none', c=f'C{idx}', label=pop, rasterized=True),\n",
    "                                  line_kwargs=dict(c=f'C{idx}', ls=':', marker='.', ms=3, alpha=0.5, lw=1, rasterized=True),\n",
    "                                  fill_kwargs=dict(color=f'C{idx}', alpha=0))\n",
    "        plt.legend(fontsize=6, loc='upper right')\n",
    "        if idx_super < len(pops) - 1:\n",
    "            plt.xlabel(None)\n",
    "\n",
    "        plt.sca(axes[row_idx, 1])\n",
    "        ksfs_dict[pop].eta.plot(t_gen=t_gen, lw=2, label=pop, alpha=0.75, c=f'C{idx}')\n",
    "        plt.xlim([1e3, 1e6])\n",
    "        plt.legend(fontsize=6, loc='upper right')\n",
    "        if idx_super < len(pops) - 1:\n",
    "            plt.xlabel(None)\n",
    "            \n",
    "        plt.sca(axes[row_idx, 2])\n",
    "        ksfs_dict[pop].plot(('TCC>TTC',), clr=True,\n",
    "                            kwargs=dict(ls='', c=f'C{idx}', marker='o', ms=5, mfc='none', alpha=0.5, label=pop, rasterized=True),\n",
    "                            line_kwargs=dict(c=f'C{idx}', ls=':', marker='.', ms=3, alpha=0.5, lw=1, rasterized=True))\n",
    "        plt.ylabel('TCC$\\\\to$TTC component of\\nvariant count composition')\n",
    "        plt.legend(fontsize=6)\n",
    "\n",
    "        plt.sca(axes[row_idx, 3])\n",
    "        plt.gca().set_prop_cycle(None)\n",
    "        ksfs_dict[pop].mu.plot(('TCC>TTC',), t_gen=t_gen, clr=False, c=f'C{idx}', alpha=0.75, lw=2, label=pop)\n",
    "        plt.ylabel(r'TCC$\\to$TTC mutation intensity')\n",
    "        plt.xlim([1e3, 1e6])\n",
    "        plt.legend(fontsize=6)\n",
    "\n",
    "plt.tight_layout()\n",
    "if plot_dir:\n",
    "    plt.savefig(f'{plot_dir}/europulse.pdf', dpi=400)\n",
    "plt.show()"
   ]
  },
  {
   "cell_type": "markdown",
   "metadata": {},
   "source": [
    "Now we'll aim for smoother histories that capture all components well"
   ]
  },
  {
   "cell_type": "code",
   "execution_count": null,
   "metadata": {
    "scrolled": false
   },
   "outputs": [],
   "source": [
    "regularization_mu = dict(hard=True, beta_rank=2e2, beta_tv=0, beta_spline=1e5)\n",
    "mu_ref = None\n",
    "for idx_super, super_pop in enumerate(sorted(pops)):    \n",
    "    for idx, pop in enumerate(reversed(pops[super_pop])):\n",
    "        print(super_pop, pop)\n",
    "        ksfs_dict[pop].clear_mu()\n",
    "        if idx_super == idx == 0:\n",
    "            beta_ridge = 1e-10\n",
    "        else:\n",
    "            beta_ridge = 1e4\n",
    "        ksfs_dict[pop].infer_history(change_points, mu0, infer_eta=False, mu_ref=mu_ref, beta_ridge=beta_ridge,\n",
    "                                     loss='prf', **regularization_mu,\n",
    "                                     **convergence, mask=freq_mask[pop])\n",
    "        if idx_super == idx == 0:\n",
    "            mu_ref = ksfs_dict[pop].mu"
   ]
  },
  {
   "cell_type": "markdown",
   "metadata": {},
   "source": [
    "plot heatmaps of 3-SFS and inferred mush"
   ]
  },
  {
   "cell_type": "code",
   "execution_count": null,
   "metadata": {
    "scrolled": false,
    "slideshow": {
     "slide_type": "fragment"
    }
   },
   "outputs": [],
   "source": [
    "with mpl.rc_context(rc={'text.usetex': False}):\n",
    "\n",
    "    center = 1 / len(sorted_triplets) # for vmin/vmax\n",
    "\n",
    "    for idx_super, super_pop in enumerate(sorted(pops)):    \n",
    "        for idx, pop in enumerate(reversed(pops[super_pop])):\n",
    "            print(pop)\n",
    "            \n",
    "            plt.figure(figsize=(8, 10))\n",
    "            plt.subplot(131)            \n",
    "            ksfs_dict[pop].plot(clr=True, kwargs=dict(alpha=0.25, ls='', marker='o',\n",
    "                                                      ms=3, mfc='none', rasterized=True),\n",
    "                                line_kwargs=dict(ls=':', marker='.', ms=2, alpha=0.25,\n",
    "                                                 lw=1, rasterized=True))            \n",
    "            plt.subplot(132)\n",
    "            ksfs_dict[pop].μ.plot(t_gen=t_gen, clr=True, alpha=0.5, lw=2)\n",
    "            plt.xscale('log')\n",
    "            plt.xlim([1e3, 1e6])\n",
    "\n",
    "            plt.subplot(133)\n",
    "            σ = np.linalg.svd(cmp.ilr(ksfs_dict[pop].mu.Z), compute_uv=False)\n",
    "            x = np.arange(1, len(σ) + 1)\n",
    "            plt.scatter(x, σ)\n",
    "            plt.plot(x, σ, 'ko', ms=5, mfc='none', mew=.1)\n",
    "            plt.xscale('log')\n",
    "            plt.yscale('log')\n",
    "            plt.xlabel('singular value rank')\n",
    "            plt.ylabel('singular value')\n",
    "            plt.tight_layout()\n",
    "            plt.show()            \n",
    "            \n",
    "            singlets = [f'{anc}>{der}' for anc, der in zip(ksfs_dict[pop].mutation_types.str[1],\n",
    "                                                           ksfs_dict[pop].mutation_types.str[5])]\n",
    "            \n",
    "            ksfs_dict[pop].mutation_types.str[1].str.cat(ksfs_dict[pop].mutation_types.str[5], sep='>')\n",
    "        #     a5 = ksfs_dict[pop].mutation_types.str[0]\n",
    "        #     a3 = ksfs_dict[pop].mutation_types.str[2]\n",
    "\n",
    "            col_map = {'A>C':'C0', 'A>G':'C1', 'A>T':'C2', 'C>A':'C3', 'C>G':'C4', 'C>T':'C5'}\n",
    "            col_colors = [col_map[singlet] for singlet in singlets]\n",
    "\n",
    "            g = ksfs_dict[pop].clustermap(figsize=(20, 7), col_cluster=False,\n",
    "                                          xticklabels=True, rasterized=True,\n",
    "                                          vmin=center / 1.7, vmax=1.7 * center,\n",
    "                                          cmap='RdBu_r',\n",
    "                                          col_colors=col_colors)\n",
    "            g.ax_heatmap.set_xticklabels(g.ax_heatmap.get_xmajorticklabels(), fontsize = 9, family='monospace')\n",
    "        #     g.ax_col_dendrogram.set_visible(False)\n",
    "            if plot_dir:\n",
    "                g.savefig(f'{plot_dir}/heatmap.{pop}.X.pdf')\n",
    "            plt.show()\n",
    "\n",
    "            g = ksfs_dict[pop].μ.clustermap(t_gen=t_gen,\n",
    "                                            figsize=(20, 7), col_cluster=False, xticklabels=True, rasterized=True,\n",
    "                                            vmin=center / 1.2, vmax=1.2 * center,\n",
    "                                            cmap='RdBu_r',\n",
    "                                            col_colors=col_colors)\n",
    "            g.ax_heatmap.set_xticklabels(g.ax_heatmap.get_xmajorticklabels(), fontsize = 9, family='monospace')\n",
    "            g.ax_heatmap.set_ylim([172, 58])\n",
    "        #     g.ax_col_dendrogram.set_visible(False) \n",
    "            if plot_dir:\n",
    "                g.savefig(f'{plot_dir}/heatmap.{pop}.mu.pdf')\n",
    "            plt.show()"
   ]
  },
  {
   "cell_type": "markdown",
   "metadata": {
    "slideshow": {
     "slide_type": "slide"
    }
   },
   "source": [
    "# TMRCA CDF"
   ]
  },
  {
   "cell_type": "code",
   "execution_count": null,
   "metadata": {
    "scrolled": false
   },
   "outputs": [],
   "source": [
    "fig, axes = plt.subplots(1, len(pops), sharey=True, figsize=(18, 4))\n",
    "for idx, super_pop in enumerate(pops):\n",
    "    plt.sca(axes[idx])\n",
    "    plt.title(super_pop)\n",
    "    for idx2, pop in enumerate(pops[super_pop]):\n",
    "        plt.plot(t_gen * ksfs_dict[pop].η.change_points, ksfs_dict[pop].tmrca_cdf(ksfs_dict[pop].eta), label=pop)\n",
    "        plt.xlabel('$t$')\n",
    "        plt.ylabel('TMRCA CDF')\n",
    "        plt.ylim([0, 1])\n",
    "        plt.xscale('log')\n",
    "    plt.legend()\n",
    "plt.tight_layout()\n",
    "plt.show()"
   ]
  },
  {
   "cell_type": "code",
   "execution_count": null,
   "metadata": {},
   "outputs": [],
   "source": [
    "# truncate to the time range we want to plot\n",
    "\n",
    "t_gen * np.concatenate(([0], ksfs_dict[pop].μ.change_points))[[58, -30]]\n",
    "\n",
    "start = 58\n",
    "end = -30\n",
    "\n",
    "len(np.concatenate(([0], ksfs_dict[pop].μ.change_points))[58:-30])"
   ]
  },
  {
   "cell_type": "code",
   "execution_count": null,
   "metadata": {
    "scrolled": false
   },
   "outputs": [],
   "source": [
    "from sklearn.decomposition import PCA\n",
    "from umap import UMAP\n",
    "\n",
    "time = np.concatenate(([0], ksfs_dict[pop].μ.change_points))[start:end]\n",
    "\n",
    "Z_dict = {}\n",
    "for pop in ksfs_dict:\n",
    "    Z_dict[pop] = cmp.ilr(ksfs_dict[pop].μ.Z[start:end])\n",
    "    \n",
    "Z = np.concatenate(tuple(Z_dict[pop] for pop in ksfs_dict))\n",
    "\n",
    "np.random.seed(1)\n",
    "\n",
    "embedding = UMAP(n_components=2,\n",
    "#                  n_neighbors=50,\n",
    "#                  min_dist=0,\n",
    "#                  local_connectivity=1,\n",
    "#                  n_epochs=1000\n",
    "                )\n",
    "# embedding = PCA(n_components=2)\n",
    "\n",
    "embedding.fit(Z)\n",
    "\n",
    "# each\n",
    "Z_transform_dict = {pop:embedding.transform(Z_dict[pop]) for pop in ksfs_dict}\n",
    "\n",
    "\n",
    "with mpl.rc_context(rc={'text.usetex': False}):\n",
    "\n",
    "    plt.figure(figsize=(4, 4))\n",
    "    # plt.subplot(311)\n",
    "    for idx, super_pop in enumerate(pops):\n",
    "        for idx2, pop in enumerate(pops[super_pop]):\n",
    "            plt.plot(*Z_transform_dict[pop].T,\n",
    "                     '-', lw=3, alpha=.5,\n",
    "                     c=f'C{idx}',\n",
    "                     label=super_pop if idx2 == 0 else None)\n",
    "            plt.annotate(pop, Z_transform_dict[pop][0, :],\n",
    "                         ha='center', va='center', c='w',\n",
    "                         family='monospace',\n",
    "                         bbox=dict(boxstyle='circle', fc=f'C{idx}', ec=f'C{idx}', lw=2),\n",
    "                         size=6)\n",
    "    plt.xlabel('UMAP 1')\n",
    "    plt.ylabel('UMAP 2')\n",
    "    plt.legend()\n",
    "    plt.tight_layout()\n",
    "    if plot_dir:\n",
    "        plt.savefig(f'{plot_dir}/1KG.umap.pdf')\n",
    "    plt.show()\n",
    "\n",
    "    fig = plt.figure(figsize=(5, 5))\n",
    "    ax = fig.gca(projection='3d')\n",
    "    ax.view_init(20, 70)\n",
    "    # plt.subplot(311)\n",
    "    for idx, super_pop in enumerate(pops):\n",
    "        for idx2, pop in enumerate(pops[super_pop]):\n",
    "            ax.plot(*Z_transform_dict[pop].T, np.log10(t_gen * time),\n",
    "                    '-', lw=3, alpha=1,\n",
    "                    c=f'C{idx}'\n",
    "                    label=super_pop if idx2 == 0 else None)\n",
    "#             ax.scatter(*Z_transform_dict[pop][None, 0, :].T, np.log10(t_gen * time[1]), s=50,\n",
    "#                        c=f'C{idx}', alpha=1)\n",
    "    ax.set_xlabel('UMAP 1')\n",
    "    ax.set_ylabel('UMAP 2')\n",
    "    ax.set_zlabel('$\\log_{10}(t)$')\n",
    "    ax.set_zticks([3, 4, 5, 6])\n",
    "    ax.set_zlim([3, 6])\n",
    "    # ax.zaxis._set_scale('log')\n",
    "    # ax.legend()\n",
    "    plt.tight_layout()\n",
    "    if plot_dir:\n",
    "        plt.savefig(f'{plot_dir}/1KG.umap.3D.pdf')\n",
    "    plt.show()\n",
    "\n",
    "    fig, axes = plt.subplots(1, 2, sharex='row', figsize=(8,4))\n",
    "    for umap_comp in (0, 1):\n",
    "        for idx, super_pop in enumerate(pops):\n",
    "            for pop in pops[super_pop]:\n",
    "                axes[umap_comp].plot(Z_transform_dict[pop][:, umap_comp], t_gen * time, \n",
    "                         '-', lw=3, alpha=.75,\n",
    "                         c=f'C{idx}',\n",
    "                         label=pop)\n",
    "                axes[umap_comp].annotate(pop, (Z_transform_dict[pop][0, umap_comp], t_gen * time[0]),\n",
    "                             ha='center', va='center', c='w',\n",
    "                             family='monospace',\n",
    "                             bbox=dict(boxstyle='circle', fc=f'C{idx}', ec=f'C{idx}', lw=2),\n",
    "                             size=6)            \n",
    "        axes[umap_comp].set_yscale('log')\n",
    "        axes[umap_comp].set_xlabel(f'UMAP {umap_comp + 1}')\n",
    "        axes[umap_comp].set_ylabel('$t$ (years ago)')\n",
    "    # plt.legend(loc=(1.04, -1), fancybox=True, framealpha=0)\n",
    "    plt.tight_layout()\n",
    "    if plot_dir:\n",
    "        plt.savefig(f'{plot_dir}/1KG.umap.comps.pdf')\n",
    "    plt.show()    "
   ]
  },
  {
   "cell_type": "code",
   "execution_count": null,
   "metadata": {},
   "outputs": [],
   "source": [
    "dmushdt = {}\n",
    "for idx, super_pop in enumerate(pops):\n",
    "    for idx2, pop in enumerate(pops[super_pop]):\n",
    "        t, Z = ksfs_dict[pop].mu.arrays()\n",
    "        Z = cmp.ilr(Z)\n",
    "        delta = np.array([Z[i + 1, :] - Z[i, :] for i in range(Z.shape[0] - 1)])\n",
    "        dmush = np.sqrt((delta ** 2).sum(1))\n",
    "        dt = np.diff(t[:-1])\n",
    "        dmushdt[pop] = dmush / (t_gen * dt)\n",
    "\n",
    "plt.figure(figsize=(2.7, 2))\n",
    "for idx, super_pop in enumerate(pops):\n",
    "    for idx2, pop in enumerate(pops[super_pop]):\n",
    "        plt.plot(t_gen * t[1:-1], (dmushdt[pop] - dmushdt['YRI']) / dmushdt['YRI'],\n",
    "                 label=super_pop if idx2 == 0 else None, c=f'C{idx}', alpha=0.5, lw=1)\n",
    "# plt.legend(fontsize=6)\n",
    "plt.xscale('log')\n",
    "plt.xlabel(r'$t$ (years ago)')\n",
    "plt.ylabel(r\"$\\frac{\\|\\boldsymbol z'(t)\\|_2 - \\|\\boldsymbol z_0'(t)\\|_2}{\\|\\boldsymbol z_0'(t)\\|_2}$\")\n",
    "plt.xlim([1e3, 1e6])\n",
    "plt.ylim([None, 8])\n",
    "plt.tight_layout()\n",
    "if plot_dir:\n",
    "    plt.savefig(f'{plot_dir}/1KG.drift.pdf')\n",
    "plt.show()     "
   ]
  }
 ],
 "metadata": {
  "celltoolbar": "Slideshow",
  "kernelspec": {
   "display_name": "Python 3",
   "language": "python",
   "name": "python3"
  },
  "language_info": {
   "codemirror_mode": {
    "name": "ipython",
    "version": 3
   },
   "file_extension": ".py",
   "mimetype": "text/x-python",
   "name": "python",
   "nbconvert_exporter": "python",
   "pygments_lexer": "ipython3",
   "version": "3.7.6"
  }
 },
 "nbformat": 4,
 "nbformat_minor": 2
}
