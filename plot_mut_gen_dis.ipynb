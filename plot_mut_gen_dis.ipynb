{
 "cells": [
  {
   "cell_type": "code",
   "execution_count": 2,
   "metadata": {},
   "outputs": [
    {
     "name": "stdout",
     "output_type": "stream",
     "text": [
      "column headers in the txt files are: \n",
      "['ind1', 'ind2', 'euclidean', 'dxy', 'dxy_bp\\n']\n",
      "\n",
      "Here is some sample data: \n",
      "['HG00096', 'HG00097', '0.000491881029589382', '2409825', '0.00118147026499175\\n']\n",
      "\n",
      "\n",
      "column headers in the tsv files are: \n",
      "['Sample name', 'Sex', 'Biosample ID', 'Population code', 'Population name', 'Superpopulation code', 'Superpopulation name', 'Population elastic ID', 'Data collections\\n']\n",
      "\n",
      "Here is some sample data: \n",
      "['HG00174', 'female', 'SAME124958', 'FIN', 'Finnish,Finnish', 'EUR', 'European Ancestry,West Eurasia (SGDP)', 'FIN,FinnishSGDP', '1000 Genomes on GRCh38,Simons Genome Diversity Project,1000 Genomes 30x on GRCh38,1000 Genomes phase 3 release,1000 Genomes phase 1 release,Geuvadis\\n']\n"
     ]
    }
   ],
   "source": [
    "f = open(\"../mut_R/data/Hsap_indi_mut_eu_dxy_single.txt\")\n",
    "col_header = f.readline().split(\"\\t\")\n",
    "sample_data = f.readline().split(\"\\t\")\n",
    "print(\"column headers in the txt files are: \\n{}\\n\".format(col_header))\n",
    "print(\"Here is some sample data: \\n{}\\n\\n\".format(sample_data))\n",
    "f.close()\n",
    "\n",
    "tsv_reader = open(\"../mut_R/data/1000g_phase3_sample.tsv\")\n",
    "tsv_col_header = tsv_reader.readline().split(\"\\t\")\n",
    "tsv_sample_data = tsv_reader.readline().split(\"\\t\")\n",
    "print(\"column headers in the tsv files are: \\n{}\\n\".format(tsv_col_header))\n",
    "print(\"Here is some sample data: \\n{}\".format(tsv_sample_data))\n",
    "tsv_reader.close()"
   ]
  },
  {
   "cell_type": "code",
   "execution_count": 4,
   "metadata": {},
   "outputs": [],
   "source": [
    "import gzip\n",
    "import vcf\n",
    "vcf_reader = vcf.Reader(open('../mut_R/data/chr1.wmask.bi.vcf'))"
   ]
  },
  {
   "cell_type": "code",
   "execution_count": null,
   "metadata": {},
   "outputs": [],
   "source": [
    "# dir(vcf_reader)\n",
    "multiple_alt_count = 0\n",
    "total_count = 0\n",
    "# print(vcf_reader.__next__().ALT)\n",
    "for record in vcf_reader:\n",
    "    if len(record.ALT) > 1:\n",
    "        multiple_alt_count = multiple_alt_count + 1 \n",
    "    total_count = total_count + 1\n",
    "\n",
    "print(total_count)\n",
    "print(multiple_alt_count)\n",
    "#vcf_reader.alts"
   ]
  },
  {
   "cell_type": "code",
   "execution_count": 3,
   "metadata": {},
   "outputs": [
    {
     "name": "stdout",
     "output_type": "stream",
     "text": [
      "[('NA19677', 'AMR'), ('HG02237', 'EUR'), ('HG04018', 'SAS'), ('NA10852', 'EUR'), ('HG03705', 'SAS')]\n",
      "There are 3115 samples in the tsv file\n"
     ]
    }
   ],
   "source": [
    "tsv_reader = open(\"../mut_R/data/1000g_phase3_sample.tsv\")\n",
    "tsv_reader.readline() # skip past the first line with the column headers\n",
    "id_super_pop = dict()\n",
    "for line in tsv_reader:\n",
    "    temp_arr = line.split(\"\\t\")\n",
    "    id_name = temp_arr[0]\n",
    "    super_pop_code = temp_arr[5]\n",
    "    id_super_pop[id_name] = super_pop_code\n",
    "tsv_reader.close()\n",
    "import random\n",
    "print(random.sample(id_super_pop.items(), 5))\n",
    "print(\"There are {} samples in the tsv file\".format(len(id_super_pop)))"
   ]
  },
  {
   "cell_type": "code",
   "execution_count": 4,
   "metadata": {},
   "outputs": [
    {
     "name": "stdout",
     "output_type": "stream",
     "text": [
      "      ind1     ind2  euclidean      dxy    dxy_bp\n",
      "0  HG00096  HG00097   0.000492  2409825  0.001181\n",
      "1  HG00096  HG00099   0.001151  2390315  0.001172\n",
      "2  HG00096  HG00100   0.000674  2419069  0.001186\n",
      "3  HG00096  HG00101   0.000768  2405440  0.001179\n",
      "4  HG00096  HG00102   0.000793  2405205  0.001179\n",
      "The number of elements in the dataframe: 3133756\n"
     ]
    }
   ],
   "source": [
    "import pandas as pd\n",
    "data = pd.read_csv(\"../mut_R/data/Hsap_indi_mut_eu_dxy_single.txt\", delimiter = \"\\t\")\n",
    "print(data.head())\n",
    "print(\"The number of elements in the dataframe: {}\".format(len(data)))"
   ]
  },
  {
   "cell_type": "code",
   "execution_count": 9,
   "metadata": {},
   "outputs": [],
   "source": [
    "def assign_super_grp(row):\n",
    "    ind1 = row[\"ind1\"]\n",
    "    ind2 = row[\"ind2\"]\n",
    "    if ind1 in id_super_pop and ind2 in id_super_pop:\n",
    "        super_pop_ind1 = id_super_pop[ind1]\n",
    "        super_pop_ind2 = id_super_pop[ind2]\n",
    "        if super_pop_ind1 <= super_pop_ind2:\n",
    "            super_pop_pair = super_pop_ind1 + \"_\" + super_pop_ind2\n",
    "        else:\n",
    "            super_pop_pair = super_pop_ind2 + \"_\" + super_pop_ind1\n",
    "    else:\n",
    "        super_pop_pair = None\n",
    "    return super_pop_pair "
   ]
  },
  {
   "cell_type": "code",
   "execution_count": 24,
   "metadata": {},
   "outputs": [
    {
     "name": "stdout",
     "output_type": "stream",
     "text": [
      "assigning super groups tooks: 11.182490110397339\n",
      "            ind1     ind2  euclidean      dxy    dxy_bp super_pop_pair\n",
      "1536223  HG01967  HG02052   0.006641  3552227  0.001742        AFR_AMR\n",
      "3055922  NA19338  NA21118   0.005417  3484232  0.001708        AFR_SAS\n",
      "1312956  HG01757  HG02558   0.005778  3453836  0.001693        AFR_EUR\n",
      "1926463  HG02470  NA18879   0.000985  3334112  0.001635        AFR_AFR\n",
      "2439678  HG03517  NA11894   0.005208  3572198  0.001751        AFR_EUR\n"
     ]
    }
   ],
   "source": [
    "import time\n",
    "start_time = time.time()\n",
    "data_sample = data.sample(n=10000)\n",
    "data_sample[\"super_pop_pair\"] = data_sample.apply(assign_super_grp, axis=1)\n",
    "print(\"assigning super groups tooks: {}\".format(time.time() - start_time))\n",
    "print(data_sample.head())"
   ]
  },
  {
   "cell_type": "code",
   "execution_count": 15,
   "metadata": {},
   "outputs": [
    {
     "data": {
      "text/plain": [
       "2359912    0.004415\n",
       "416485     0.001226\n",
       "2604133    0.001415\n",
       "2161537    0.000579\n",
       "2347561    0.005080\n",
       "Name: euclidean, dtype: float64"
      ]
     },
     "execution_count": 15,
     "metadata": {},
     "output_type": "execute_result"
    }
   ],
   "source": [
    "from matplotlib import pyplot as plt\n",
    "dxy = \n",
    "data_sample[\"dxy_bp\"].head()\n",
    "data_sample[\"euclidean\"].head()"
   ]
  },
  {
   "cell_type": "code",
   "execution_count": 23,
   "metadata": {},
   "outputs": [
    {
     "data": {
      "text/plain": [
       "[1900000, 3750000, 0, 0.009]"
      ]
     },
     "execution_count": 23,
     "metadata": {},
     "output_type": "execute_result"
    },
    {
     "data": {
      "image/png": "[encoded data removed]",
      "text/plain": [
       "<Figure size 432x288 with 1 Axes>"
      ]
     },
     "metadata": {
      "needs_background": "light"
     },
     "output_type": "display_data"
    }
   ],
   "source": [
    "dxy = data_sample[\"dxy\"]\n",
    "# dxy_max = dxy.max()\n",
    "# dxy_min = dxy.min()\n",
    "euclidean = data_sample[\"euclidean\"]\n",
    "# euclidean_max = euclidean.max()\n",
    "# euclidean_min = euclidean.min()\n",
    "plt.scatter(data_sample[\"dxy\"], data_sample[\"euclidean\"], c=\"grey\")\n",
    "plt.axis([1900000, 3750000, 0, 0.009])"
   ]
  },
  {
   "cell_type": "code",
   "execution_count": null,
   "metadata": {},
   "outputs": [],
   "source": []
  }
 ],
 "metadata": {
  "kernelspec": {
   "display_name": "Python 3",
   "language": "python",
   "name": "python3"
  },
  "language_info": {
   "codemirror_mode": {
    "name": "ipython",
    "version": 3
   },
   "file_extension": ".py",
   "mimetype": "text/x-python",
   "name": "python",
   "nbconvert_exporter": "python",
   "pygments_lexer": "ipython3",
   "version": "3.8.2"
  }
 },
 "nbformat": 4,
 "nbformat_minor": 4
}
