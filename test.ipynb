{
 "cells": [
  {
   "cell_type": "markdown",
   "metadata": {},
   "source": [
    "Mushi\n",
    "==\n",
    "_All that the rain promises and more..._"
   ]
  },
  {
   "cell_type": "markdown",
   "metadata": {
    "slideshow": {
     "slide_type": "fragment"
    }
   },
   "source": [
    "A notebook for testing `mushi`'s ability to invert data simulated under the forward model\n",
    "\n",
    "API documentation can be viewed with\n",
    "```python\n",
    "help(mushi.η)\n",
    "help(mushi.𝜇)\n",
    "help(mushi.kSFS)\n",
    "```"
   ]
  },
  {
   "cell_type": "code",
   "execution_count": null,
   "metadata": {
    "slideshow": {
     "slide_type": "slide"
    }
   },
   "outputs": [],
   "source": [
    "%matplotlib inline \n",
    "#%matplotlib notebook\n",
    "import mushi\n",
    "import histories\n",
    "import numpy as np\n",
    "from matplotlib import pyplot as plt\n",
    "from scipy.special import expit\n",
    "import time\n",
    "import msprime\n",
    "%cd stdpopsim\n",
    "from stdpopsim import homo_sapiens\n",
    "%cd ../"
   ]
  },
  {
   "cell_type": "code",
   "execution_count": null,
   "metadata": {
    "slideshow": {
     "slide_type": "-"
    }
   },
   "outputs": [],
   "source": [
    "# plt.style.use('dark_background')"
   ]
  },
  {
   "cell_type": "markdown",
   "metadata": {
    "slideshow": {
     "slide_type": "slide"
    }
   },
   "source": [
    "### Time grid"
   ]
  },
  {
   "cell_type": "code",
   "execution_count": null,
   "metadata": {},
   "outputs": [],
   "source": [
    "t = np.logspace(0, np.log10(3e4), 300)"
   ]
  },
  {
   "cell_type": "markdown",
   "metadata": {
    "slideshow": {
     "slide_type": "slide"
    }
   },
   "source": [
    "### Demographic history $\\eta(t)$ from the European population in Tennessen et al."
   ]
  },
  {
   "cell_type": "code",
   "execution_count": null,
   "metadata": {
    "slideshow": {
     "slide_type": "fragment"
    }
   },
   "outputs": [],
   "source": [
    "model = homo_sapiens.TennessenTwoPopOutOfAfrica()\n",
    "dd = msprime.DemographyDebugger(Ne=model.default_population_size,\n",
    "                                population_configurations=model.population_configurations,\n",
    "                                demographic_events=model.demographic_events,\n",
    "                                migration_matrix=model.migration_matrix)\n",
    "y = 2 * dd.population_size_trajectory(np.concatenate(([0], t)))[:, 1]\n",
    "η_Tennessen = histories.η(t, y)"
   ]
  },
  {
   "cell_type": "markdown",
   "metadata": {},
   "source": [
    "### Demographic history $\\eta(t)$ from the European population in Browning et al."
   ]
  },
  {
   "cell_type": "code",
   "execution_count": null,
   "metadata": {},
   "outputs": [],
   "source": [
    "model = homo_sapiens.BrowningAmerica()\n",
    "dd = msprime.DemographyDebugger(Ne=model.default_population_size,\n",
    "                                population_configurations=model.population_configurations,\n",
    "                                demographic_events=model.demographic_events,\n",
    "                                migration_matrix=model.migration_matrix)\n",
    "y = 2 * dd.population_size_trajectory(np.concatenate(([0], t)))[:, 1]\n",
    "η_Browning = histories.η(t, y)"
   ]
  },
  {
   "cell_type": "code",
   "execution_count": null,
   "metadata": {},
   "outputs": [],
   "source": [
    "plt.figure(figsize=(3, 3))\n",
    "η_Tennessen.plot(label='Tennessen')\n",
    "η_Browning.plot(label='Browning')\n",
    "plt.show()"
   ]
  },
  {
   "cell_type": "markdown",
   "metadata": {
    "slideshow": {
     "slide_type": "slide"
    }
   },
   "source": [
    "### Mutation rate history $\\mu(t)$\n",
    "A 10 dimensional history with each mutation type a random mixture of 2 latent signatures:\n",
    "- constant\n",
    "- pulse\n",
    "We will make the mutation rate low, so that the $k$-SFS is noisy and reconstruction of each of the 10 independently is difficult"
   ]
  },
  {
   "cell_type": "code",
   "execution_count": null,
   "metadata": {
    "slideshow": {
     "slide_type": "fragment"
    }
   },
   "outputs": [],
   "source": [
    "tt = np.concatenate(([0], t))\n",
    "flat = np.ones_like(tt)\n",
    "# ramp = expit(-.01 * (tt - 50))\n",
    "pulse = expit(0.03 * (tt - 100)) - expit(0.03 * (tt - 1000))\n",
    "cols = 96\n",
    "Z = np.zeros((len(t) + 1, cols))\n",
    "μ0 = 10\n",
    "np.random.seed(1)\n",
    "for col in range(cols):\n",
    "    constant_weight = np.random.lognormal(0, 0.1)\n",
    "    pulse_weight = np.random.exponential(.2)\n",
    "    Z[:, col] = μ0 * (constant_weight * flat + pulse_weight * pulse)\n",
    "μ = histories.μ(t, Z)"
   ]
  },
  {
   "cell_type": "code",
   "execution_count": null,
   "metadata": {
    "slideshow": {
     "slide_type": "slide"
    }
   },
   "outputs": [],
   "source": [
    "plt.figure(figsize=(6, 3))\n",
    "μ.plot(alpha=0.1, lw=2)\n",
    "plt.show()"
   ]
  },
  {
   "cell_type": "code",
   "execution_count": null,
   "metadata": {
    "slideshow": {
     "slide_type": "slide"
    }
   },
   "outputs": [],
   "source": [
    "μ.clustermap(figsize=(25, 10))\n",
    "plt.show()"
   ]
  },
  {
   "cell_type": "markdown",
   "metadata": {
    "slideshow": {
     "slide_type": "slide"
    }
   },
   "source": [
    "### Simulate a $k$-SFS under this history using Tennessen demography\n",
    "- We'll sample 200 haplotypes\n",
    "- We simulate $\\eta(t)$ misspecification by simulating from Tennessen, but inferring with Browning"
   ]
  },
  {
   "cell_type": "code",
   "execution_count": null,
   "metadata": {
    "slideshow": {
     "slide_type": "fragment"
    }
   },
   "outputs": [],
   "source": [
    "n = 100\n",
    "ksfs_Tennessen = mushi.kSFS(η_Tennessen, n=n)\n",
    "ksfs_Tennessen.simulate(μ, seed=1)\n",
    "\n",
    "ksfs_Browning = mushi.kSFS(η_Browning, X=ksfs_Tennessen.X)\n",
    "\n",
    "ksfs_Browning.clustermap(figsize=(10, 5))\n",
    "plt.show()\n",
    "# plt.savefig('/Users/williamdewitt/Downloads/sfs.pdf', transparent=True)"
   ]
  },
  {
   "cell_type": "markdown",
   "metadata": {
    "slideshow": {
     "slide_type": "slide"
    }
   },
   "source": [
    "### TMRCA CDF"
   ]
  },
  {
   "cell_type": "code",
   "execution_count": null,
   "metadata": {},
   "outputs": [],
   "source": [
    "plt.figure(figsize=(3, 3))\n",
    "plt.plot(η_Browning.change_points, ksfs_Browning.tmrca_cdf())\n",
    "plt.xlabel('$t$')\n",
    "plt.ylabel('TMRCA CDF')\n",
    "plt.ylim([0, 1])\n",
    "plt.xscale('symlog')\n",
    "plt.tight_layout()\n",
    "plt.show()"
   ]
  },
  {
   "cell_type": "markdown",
   "metadata": {
    "slideshow": {
     "slide_type": "slide"
    }
   },
   "source": [
    "### Invert the $k$-SFS conditioned on $\\eta(t)$ to get $\\boldsymbol\\mu(t)$\n",
    "Accelerated proximal gradient descent"
   ]
  },
  {
   "cell_type": "code",
   "execution_count": null,
   "metadata": {
    "slideshow": {
     "slide_type": "fragment"
    }
   },
   "outputs": [],
   "source": [
    "μ_inferred, f_trajectory = ksfs_Browning.infer_μ(# loss function parameters\n",
    "                                                 fit='prf',\n",
    "                                                 exclude_singletons=False,\n",
    "                                                 bins=None,\n",
    "                                                 # time derivative regularization parameters\n",
    "                                                 λ_tv=1e2,\n",
    "                                                 α_tv=0,\n",
    "                                                 # spectral regularization parameters\n",
    "                                                 λ_r=0,\n",
    "                                                 α_r=1,\n",
    "                                                 hard=True,                                        \n",
    "                                                 # convergence parameters\n",
    "                                                 max_iter=10000,\n",
    "                                                 tol=1e-10,\n",
    "                                                 γ=0.8)"
   ]
  },
  {
   "cell_type": "code",
   "execution_count": null,
   "metadata": {},
   "outputs": [],
   "source": [
    "plt.figure(figsize=(4, 2))\n",
    "plt.plot(f_trajectory)\n",
    "plt.xlabel('iterations')\n",
    "plt.ylabel('loss')\n",
    "plt.xscale('symlog')\n",
    "plt.tight_layout()\n",
    "plt.show()"
   ]
  },
  {
   "cell_type": "markdown",
   "metadata": {
    "slideshow": {
     "slide_type": "slide"
    }
   },
   "source": [
    "The inferred histories for each mutation type superimposed on the 3 underlying signatures"
   ]
  },
  {
   "cell_type": "code",
   "execution_count": null,
   "metadata": {},
   "outputs": [],
   "source": [
    "plt.figure(figsize=(6, 3))\n",
    "μ.plot(ls='--', alpha=1, lw=2)\n",
    "μ_inferred.plot(alpha=0.5, lw=2)\n",
    "plt.ylabel('$μ(t)$')\n",
    "plt.xscale('log')\n",
    "plt.tight_layout()\n",
    "# plt.savefig('/Users/williamdewitt/Downloads/mu.pdf', transparent=True)\n",
    "plt.show()"
   ]
  },
  {
   "cell_type": "markdown",
   "metadata": {
    "slideshow": {
     "slide_type": "slide"
    }
   },
   "source": [
    "Heatmap of the inferred mutation spectrum history"
   ]
  },
  {
   "cell_type": "code",
   "execution_count": null,
   "metadata": {},
   "outputs": [],
   "source": [
    "μ_inferred.clustermap(figsize=(10, 5))\n",
    "plt.show()"
   ]
  },
  {
   "cell_type": "markdown",
   "metadata": {
    "slideshow": {
     "slide_type": "slide"
    }
   },
   "source": [
    "plot $\\chi^2$ goodness of fit for each $k$-SFS matrix element, and compute $\\chi^2$ goodness of fit test for the $k$-SFS matrix as a whole"
   ]
  },
  {
   "cell_type": "code",
   "execution_count": null,
   "metadata": {},
   "outputs": [],
   "source": [
    "ksfs_Browning.clustermap(μ_inferred, figsize=(10, 5), cmap='Reds')\n",
    "plt.show()"
   ]
  },
  {
   "cell_type": "markdown",
   "metadata": {
    "slideshow": {
     "slide_type": "slide"
    }
   },
   "source": [
    "An example column from each of the three signatures"
   ]
  },
  {
   "cell_type": "code",
   "execution_count": null,
   "metadata": {
    "scrolled": true,
    "slideshow": {
     "slide_type": "-"
    }
   },
   "outputs": [],
   "source": [
    "plt.figure(figsize=(9, 3))\n",
    "for ct, i in enumerate((0, 10), 1):\n",
    "    plt.subplot(1, 3, ct)\n",
    "    ksfs_Browning.plot(i, μ=μ_inferred, prf_quantiles=True)\n",
    "plt.tight_layout()\n",
    "plt.show()"
   ]
  },
  {
   "cell_type": "markdown",
   "metadata": {
    "slideshow": {
     "slide_type": "slide"
    }
   },
   "source": [
    "### Singular value spectrum of $Z$"
   ]
  },
  {
   "cell_type": "code",
   "execution_count": null,
   "metadata": {},
   "outputs": [],
   "source": [
    "plt.figure(figsize=(3, 3))\n",
    "plt.bar(range(μ_inferred.Z.shape[1]), np.linalg.svd(Z, compute_uv=False))\n",
    "plt.yscale('log')\n",
    "plt.tight_layout()\n",
    "plt.show()"
   ]
  },
  {
   "cell_type": "code",
   "execution_count": null,
   "metadata": {},
   "outputs": [],
   "source": []
  }
 ],
 "metadata": {
  "celltoolbar": "Slideshow",
  "kernelspec": {
   "display_name": "Python 3",
   "language": "python",
   "name": "python3"
  },
  "language_info": {
   "codemirror_mode": {
    "name": "ipython",
    "version": 3
   },
   "file_extension": ".py",
   "mimetype": "text/x-python",
   "name": "python",
   "nbconvert_exporter": "python",
   "pygments_lexer": "ipython3",
   "version": "3.7.4"
  }
 },
 "nbformat": 4,
 "nbformat_minor": 2
}
