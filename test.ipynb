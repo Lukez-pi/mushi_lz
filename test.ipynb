{
 "cells": [
  {
   "cell_type": "markdown",
   "metadata": {},
   "source": [
    "Mushi\n",
    "==\n",
    "_All that the rain promises and more..._"
   ]
  },
  {
   "cell_type": "markdown",
   "metadata": {
    "slideshow": {
     "slide_type": "fragment"
    }
   },
   "source": [
    "A notebook for testing `mushi`'s ability to invert data simulated under the forward model\n",
    "\n",
    "API documentation can be viewed with\n",
    "```python\n",
    "help(mushi.η)\n",
    "help(mushi.𝜇)\n",
    "help(mushi.kSFS)\n",
    "```"
   ]
  },
  {
   "cell_type": "code",
   "execution_count": null,
   "metadata": {
    "slideshow": {
     "slide_type": "slide"
    }
   },
   "outputs": [],
   "source": [
    "# %matplotlib inline \n",
    "%matplotlib notebook\n",
    "import mushi\n",
    "import histories\n",
    "import numpy as np\n",
    "from matplotlib import pyplot as plt\n",
    "from scipy.special import expit\n",
    "import time\n",
    "import msprime\n",
    "%cd stdpopsim\n",
    "from stdpopsim import homo_sapiens\n",
    "%cd ../"
   ]
  },
  {
   "cell_type": "code",
   "execution_count": null,
   "metadata": {
    "slideshow": {
     "slide_type": "-"
    }
   },
   "outputs": [],
   "source": [
    "# plt.style.use('dark_background')"
   ]
  },
  {
   "cell_type": "markdown",
   "metadata": {
    "slideshow": {
     "slide_type": "slide"
    }
   },
   "source": [
    "### Time grid"
   ]
  },
  {
   "cell_type": "code",
   "execution_count": null,
   "metadata": {},
   "outputs": [],
   "source": [
    "t = np.logspace(0, np.log10(3e4), 300)"
   ]
  },
  {
   "cell_type": "markdown",
   "metadata": {
    "slideshow": {
     "slide_type": "slide"
    }
   },
   "source": [
    "### Demographic history $\\eta(t)$ from the European population in Tennessen et al."
   ]
  },
  {
   "cell_type": "code",
   "execution_count": null,
   "metadata": {
    "slideshow": {
     "slide_type": "fragment"
    }
   },
   "outputs": [],
   "source": [
    "model = homo_sapiens.TennessenTwoPopOutOfAfrica()\n",
    "dd = msprime.DemographyDebugger(Ne=model.default_population_size,\n",
    "                                population_configurations=model.population_configurations,\n",
    "                                demographic_events=model.demographic_events,\n",
    "                                migration_matrix=model.migration_matrix)\n",
    "y = 2 * dd.population_size_trajectory(np.concatenate(([0], t)))[:, 1]\n",
    "η_Tennessen = histories.η(t, y)"
   ]
  },
  {
   "cell_type": "markdown",
   "metadata": {},
   "source": [
    "### Demographic history $\\eta(t)$ from the European population in Browning et al."
   ]
  },
  {
   "cell_type": "code",
   "execution_count": null,
   "metadata": {},
   "outputs": [],
   "source": [
    "model = homo_sapiens.BrowningAmerica()\n",
    "dd = msprime.DemographyDebugger(Ne=model.default_population_size,\n",
    "                                population_configurations=model.population_configurations,\n",
    "                                demographic_events=model.demographic_events,\n",
    "                                migration_matrix=model.migration_matrix)\n",
    "y = 2 * dd.population_size_trajectory(np.concatenate(([0], t)))[:, 1]\n",
    "η_Browning = histories.η(t, y)"
   ]
  },
  {
   "cell_type": "code",
   "execution_count": null,
   "metadata": {},
   "outputs": [],
   "source": [
    "plt.figure(figsize=(3, 3))\n",
    "η_Tennessen.plot(label='Tennessen')\n",
    "η_Browning.plot(label='Browning')\n",
    "plt.show()"
   ]
  },
  {
   "cell_type": "markdown",
   "metadata": {
    "slideshow": {
     "slide_type": "slide"
    }
   },
   "source": [
    "### Mutation rate history $\\mu(t)$\n",
    "A 10 dimensional history with each mutation type a random mixture of 2 latent signatures:\n",
    "- constant\n",
    "- pulse\n",
    "We will make the mutation rate low, so that the $k$-SFS is noisy and reconstruction of each of the 10 independently is difficult"
   ]
  },
  {
   "cell_type": "code",
   "execution_count": null,
   "metadata": {
    "slideshow": {
     "slide_type": "fragment"
    }
   },
   "outputs": [],
   "source": [
    "tt = np.concatenate(([0], t))\n",
    "flat = np.ones_like(tt)\n",
    "# ramp = expit(-.01 * (tt - 50))\n",
    "pulse = expit(.01 * (tt - 100)) - expit(.01 * (tt - 1000))\n",
    "cols = 96\n",
    "Z = np.zeros((len(t) + 1, cols))\n",
    "μ0 = 10\n",
    "np.random.seed(0)\n",
    "pulse_idxs = []\n",
    "flat_idxs = []\n",
    "for col in range(cols):\n",
    "    scale = np.random.lognormal(0, 0.2)\n",
    "    pulse_weight = np.random.lognormal(-0.5, .5) if col < 5 else 0\n",
    "    Z[:, col] = μ0 * (scale * (flat + pulse_weight * pulse))\n",
    "    if pulse_weight:\n",
    "        pulse_idxs.append(col)\n",
    "    else:\n",
    "        flat_idxs.append(col)\n",
    "\n",
    "# # add a tiny bit of random diffusion to each column to give scale to the pulse after standardization\n",
    "# Z_noise = np.ones_like(Z)\n",
    "# for row in range(1, Z.shape[0]):\n",
    "#     Z_noise[row, :] = Z_noise[row - 1, :] + np.random.randn(Z.shape[1])\n",
    "# Z += .01 * Z_noise\n",
    "    \n",
    "    \n",
    "μ = histories.μ(t, Z)\n"
   ]
  },
  {
   "cell_type": "code",
   "execution_count": null,
   "metadata": {
    "slideshow": {
     "slide_type": "slide"
    }
   },
   "outputs": [],
   "source": [
    "plt.figure(figsize=(6, 3))\n",
    "μ.plot(flat_idxs, alpha=0.1, lw=2, c='C0', normed=False)\n",
    "μ.plot(pulse_idxs, alpha=0.5, lw=2, c='C1', normed=False)\n",
    "plt.show()"
   ]
  },
  {
   "cell_type": "code",
   "execution_count": null,
   "metadata": {
    "slideshow": {
     "slide_type": "slide"
    }
   },
   "outputs": [],
   "source": [
    "μ.clustermap(figsize=(10, 5), col_cluster=False)\n",
    "plt.show()"
   ]
  },
  {
   "cell_type": "markdown",
   "metadata": {
    "slideshow": {
     "slide_type": "slide"
    }
   },
   "source": [
    "### Simulate a $k$-SFS under this history using Tennessen demography\n",
    "- We'll sample 200 haplotypes\n",
    "- We simulate $\\eta(t)$ misspecification by simulating from Tennessen, but inferring with Browning"
   ]
  },
  {
   "cell_type": "code",
   "execution_count": null,
   "metadata": {
    "slideshow": {
     "slide_type": "fragment"
    }
   },
   "outputs": [],
   "source": [
    "n = 198\n",
    "ksfs_Tennessen = mushi.kSFS(η_Tennessen, n=n)\n",
    "ksfs_Tennessen.simulate(μ, seed=1)\n",
    "\n",
    "# # misspecification\n",
    "# ksfs = mushi.kSFS(η_Browning, X=ksfs_Tennessen.X)\n",
    "ksfs = ksfs_Tennessen\n",
    "\n",
    "plt.figure(figsize=(6, 3))\n",
    "ksfs.plot(flat_idxs, alpha=0.1, lw=2, c='C0', normed=True)\n",
    "ksfs.plot(pulse_idxs, alpha=0.5, lw=2, c='C1', normed=True)\n",
    "plt.show()"
   ]
  },
  {
   "cell_type": "code",
   "execution_count": null,
   "metadata": {},
   "outputs": [],
   "source": [
    "ksfs.clustermap(figsize=(10, 5), col_cluster=False)\n",
    "plt.show()\n",
    "# plt.savefig('/Users/williamdewitt/Downloads/sfs.pdf', transparent=True)"
   ]
  },
  {
   "cell_type": "markdown",
   "metadata": {
    "slideshow": {
     "slide_type": "slide"
    }
   },
   "source": [
    "### TMRCA CDF"
   ]
  },
  {
   "cell_type": "code",
   "execution_count": null,
   "metadata": {},
   "outputs": [],
   "source": [
    "plt.figure(figsize=(3, 3))\n",
    "plt.plot(η_Browning.change_points, ksfs.tmrca_cdf())\n",
    "plt.xlabel('$t$')\n",
    "plt.ylabel('TMRCA CDF')\n",
    "plt.ylim([0, 1])\n",
    "plt.xscale('symlog')\n",
    "plt.tight_layout()\n",
    "plt.show()"
   ]
  },
  {
   "cell_type": "markdown",
   "metadata": {
    "slideshow": {
     "slide_type": "slide"
    }
   },
   "source": [
    "### Invert the $k$-SFS conditioned on $\\eta(t)$ to get $\\boldsymbol\\mu(t)$\n",
    "Accelerated proximal gradient descent"
   ]
  },
  {
   "cell_type": "code",
   "execution_count": null,
   "metadata": {
    "slideshow": {
     "slide_type": "fragment"
    }
   },
   "outputs": [],
   "source": [
    "μ_inferred, f_trajectory = ksfs.infer_μ(# loss function parameters\n",
    "                                        fit='prf',\n",
    "                                        exclude_singletons=False,\n",
    "                                        bins=None,\n",
    "                                        # time derivative regularization parameters\n",
    "                                        λ_tv=1e1,\n",
    "                                        α_tv=0,#.999,\n",
    "                                        # spectral regularization parameters\n",
    "                                        λ_r=1e-1,\n",
    "                                        α_r=.999,\n",
    "                                        hard=True,                                        \n",
    "                                        # convergence parameters\n",
    "                                        max_iter=1000,\n",
    "                                        tol=1e-10,\n",
    "                                        γ=0.8)"
   ]
  },
  {
   "cell_type": "code",
   "execution_count": null,
   "metadata": {},
   "outputs": [],
   "source": [
    "plt.figure(figsize=(4, 2))\n",
    "plt.plot(f_trajectory)\n",
    "plt.xlabel('iterations')\n",
    "plt.ylabel('cost')\n",
    "plt.xscale('symlog')\n",
    "plt.tight_layout()\n",
    "plt.show()"
   ]
  },
  {
   "cell_type": "markdown",
   "metadata": {
    "slideshow": {
     "slide_type": "slide"
    }
   },
   "source": [
    "The inferred histories for each mutation type superimposed on the 3 underlying signatures"
   ]
  },
  {
   "cell_type": "code",
   "execution_count": null,
   "metadata": {},
   "outputs": [],
   "source": [
    "plt.figure(figsize=(6, 3))\n",
    "ksfs.plot(flat_idxs, μ=μ_inferred, alpha=0.1, lw=2, c='C0', normed=True)\n",
    "ksfs.plot(pulse_idxs, μ=μ_inferred, alpha=0.5, lw=2, c='C1', normed=True)\n",
    "plt.savefig('/Users/williamdewitt/Downloads/fit.pdf', transparent=True)\n",
    "plt.show()"
   ]
  },
  {
   "cell_type": "code",
   "execution_count": null,
   "metadata": {},
   "outputs": [],
   "source": [
    "plt.figure(figsize=(6, 3))\n",
    "μ.plot(flat_idxs, alpha=0.1, lw=2, c='C0', normed=False, ls='--')\n",
    "μ.plot(pulse_idxs, alpha=0.5, lw=2, c='C1', normed=False, ls='--')\n",
    "μ_inferred.plot(flat_idxs, alpha=0.1, lw=2, c='C0', normed=False)\n",
    "μ_inferred.plot(pulse_idxs, alpha=0.5, lw=2, c='C1', normed=False)\n",
    "plt.savefig('/Users/williamdewitt/Downloads/inferred.pdf', transparent=True)\n",
    "plt.show()"
   ]
  },
  {
   "cell_type": "markdown",
   "metadata": {
    "slideshow": {
     "slide_type": "slide"
    }
   },
   "source": [
    "Heatmap of the inferred mutation spectrum history"
   ]
  },
  {
   "cell_type": "code",
   "execution_count": null,
   "metadata": {},
   "outputs": [],
   "source": [
    "μ_inferred.clustermap(figsize=(10, 5), col_cluster=False)\n",
    "plt.show()"
   ]
  },
  {
   "cell_type": "markdown",
   "metadata": {
    "slideshow": {
     "slide_type": "slide"
    }
   },
   "source": [
    "plot $\\chi^2$ goodness of fit for each $k$-SFS matrix element, and compute $\\chi^2$ goodness of fit test for the $k$-SFS matrix as a whole"
   ]
  },
  {
   "cell_type": "code",
   "execution_count": null,
   "metadata": {},
   "outputs": [],
   "source": [
    "ksfs.clustermap(μ_inferred, figsize=(10, 5), cmap='Reds')\n",
    "plt.show()"
   ]
  },
  {
   "cell_type": "markdown",
   "metadata": {
    "slideshow": {
     "slide_type": "slide"
    }
   },
   "source": [
    "An example column from each of the three signatures"
   ]
  },
  {
   "cell_type": "code",
   "execution_count": null,
   "metadata": {
    "scrolled": false,
    "slideshow": {
     "slide_type": "-"
    }
   },
   "outputs": [],
   "source": [
    "plt.figure(figsize=(3, 20))\n",
    "for i in range(1, 11):\n",
    "    plt.subplot(10, 1, i)\n",
    "    ksfs.plot1(i, μ=μ_inferred, prf_quantiles=True)\n",
    "plt.tight_layout()\n",
    "plt.show()"
   ]
  },
  {
   "cell_type": "markdown",
   "metadata": {
    "slideshow": {
     "slide_type": "slide"
    }
   },
   "source": [
    "### Singular value spectrum of $Z$"
   ]
  },
  {
   "cell_type": "code",
   "execution_count": null,
   "metadata": {},
   "outputs": [],
   "source": [
    "plt.figure(figsize=(3, 3))\n",
    "plt.bar(range(μ_inferred.Z.shape[1]), np.linalg.svd(Z, compute_uv=False))\n",
    "plt.yscale('log')\n",
    "plt.tight_layout()\n",
    "plt.show()"
   ]
  },
  {
   "cell_type": "code",
   "execution_count": null,
   "metadata": {},
   "outputs": [],
   "source": []
  }
 ],
 "metadata": {
  "celltoolbar": "Slideshow",
  "kernelspec": {
   "display_name": "Python 3",
   "language": "python",
   "name": "python3"
  },
  "language_info": {
   "codemirror_mode": {
    "name": "ipython",
    "version": 3
   },
   "file_extension": ".py",
   "mimetype": "text/x-python",
   "name": "python",
   "nbconvert_exporter": "python",
   "pygments_lexer": "ipython3",
   "version": "3.7.4"
  }
 },
 "nbformat": 4,
 "nbformat_minor": 2
}
