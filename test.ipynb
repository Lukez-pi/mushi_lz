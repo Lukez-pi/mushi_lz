{
 "cells": [
  {
   "cell_type": "markdown",
   "metadata": {},
   "source": [
    "Mushi\n",
    "==\n",
    "_All that the rain promises and more..._"
   ]
  },
  {
   "cell_type": "markdown",
   "metadata": {
    "slideshow": {
     "slide_type": "-"
    }
   },
   "source": [
    "A notebook for testing `mushi`'s ability to invert data simulated under the forward model\n",
    "\n",
    "API documentation can be viewed with\n",
    "```python\n",
    "help(mushi.η)\n",
    "help(mushi.𝜇)\n",
    "help(mushi.kSFS)\n",
    "```"
   ]
  },
  {
   "cell_type": "code",
   "execution_count": null,
   "metadata": {
    "slideshow": {
     "slide_type": "slide"
    }
   },
   "outputs": [],
   "source": [
    "%matplotlib inline \n",
    "# %matplotlib notebook\n",
    "import mushi\n",
    "import histories\n",
    "import numpy as np\n",
    "from matplotlib import pyplot as plt\n",
    "from scipy.special import expit\n",
    "import time\n",
    "import msprime\n",
    "%cd stdpopsim\n",
    "from stdpopsim import homo_sapiens\n",
    "%cd ../"
   ]
  },
  {
   "cell_type": "code",
   "execution_count": null,
   "metadata": {
    "slideshow": {
     "slide_type": "-"
    }
   },
   "outputs": [],
   "source": [
    "# plt.style.use('dark_background')"
   ]
  },
  {
   "cell_type": "markdown",
   "metadata": {
    "slideshow": {
     "slide_type": "slide"
    }
   },
   "source": [
    "### Time grid"
   ]
  },
  {
   "cell_type": "code",
   "execution_count": null,
   "metadata": {},
   "outputs": [],
   "source": [
    "t = np.logspace(0, np.log10(3e4), 100)"
   ]
  },
  {
   "cell_type": "markdown",
   "metadata": {
    "slideshow": {
     "slide_type": "slide"
    }
   },
   "source": [
    "### Demographic history $\\eta(t)$ from the European population in Tennessen et al."
   ]
  },
  {
   "cell_type": "code",
   "execution_count": null,
   "metadata": {
    "slideshow": {
     "slide_type": "-"
    }
   },
   "outputs": [],
   "source": [
    "model = homo_sapiens.TennessenTwoPopOutOfAfrica()\n",
    "dd = msprime.DemographyDebugger(Ne=model.default_population_size,\n",
    "                                population_configurations=model.population_configurations,\n",
    "                                demographic_events=model.demographic_events,\n",
    "                                migration_matrix=model.migration_matrix)\n",
    "y = 2 * dd.population_size_trajectory(np.concatenate(([0], t)))[:, 1]\n",
    "η_Tennessen = histories.η(t, y)"
   ]
  },
  {
   "cell_type": "markdown",
   "metadata": {
    "slideshow": {
     "slide_type": "slide"
    }
   },
   "source": [
    "### Demographic history $\\eta(t)$ from the European population in Browning et al."
   ]
  },
  {
   "cell_type": "code",
   "execution_count": null,
   "metadata": {},
   "outputs": [],
   "source": [
    "model = homo_sapiens.BrowningAmerica()\n",
    "dd = msprime.DemographyDebugger(Ne=model.default_population_size,\n",
    "                                population_configurations=model.population_configurations,\n",
    "                                demographic_events=model.demographic_events,\n",
    "                                migration_matrix=model.migration_matrix)\n",
    "y = 2 * dd.population_size_trajectory(np.concatenate(([0], t)))[:, 1]\n",
    "η_Browning = histories.η(t, y)"
   ]
  },
  {
   "cell_type": "code",
   "execution_count": null,
   "metadata": {
    "slideshow": {
     "slide_type": "slide"
    }
   },
   "outputs": [],
   "source": [
    "plt.figure(figsize=(3, 3))\n",
    "η_Tennessen.plot(label='Tennessen')\n",
    "η_Browning.plot(label='Browning')\n",
    "plt.show()"
   ]
  },
  {
   "cell_type": "markdown",
   "metadata": {
    "slideshow": {
     "slide_type": "slide"
    }
   },
   "source": [
    "### Mutation rate history $\\mu(t)$\n",
    "A 96 dimensional history with a mixture of two latent signature: constant and pulse."
   ]
  },
  {
   "cell_type": "code",
   "execution_count": null,
   "metadata": {
    "slideshow": {
     "slide_type": "-"
    }
   },
   "outputs": [],
   "source": [
    "tt = np.concatenate(([0], t))\n",
    "flat = np.ones_like(tt)\n",
    "pulse = expit(.01 * (tt - 100)) - expit(.01 * (tt - 1000))\n",
    "cols = 96\n",
    "Z = np.zeros((len(t) + 1, cols))\n",
    "μ0 = 1\n",
    "np.random.seed(0)\n",
    "pulse_idxs = []\n",
    "flat_idxs = []\n",
    "for col in range(cols):\n",
    "    scale = np.random.lognormal(0, 0.2)\n",
    "    pulse_weight = np.random.lognormal(-0.5, .5) if col < 5 else 0\n",
    "    Z[:, col] = μ0 * (scale * (flat + pulse_weight * pulse))\n",
    "    if pulse_weight:\n",
    "        pulse_idxs.append(col + 1)\n",
    "    else:\n",
    "        flat_idxs.append(col + 1)\n",
    "        \n",
    "μ = histories.μ(t, Z)"
   ]
  },
  {
   "cell_type": "code",
   "execution_count": null,
   "metadata": {
    "slideshow": {
     "slide_type": "slide"
    }
   },
   "outputs": [],
   "source": [
    "plt.figure(figsize=(6, 3))\n",
    "μ.plot(flat_idxs, alpha=0.1, lw=2, c='C0', normed=False)\n",
    "μ.plot(pulse_idxs, alpha=0.5, lw=2, c='C1', normed=False)\n",
    "plt.show()"
   ]
  },
  {
   "cell_type": "code",
   "execution_count": null,
   "metadata": {},
   "outputs": [],
   "source": [
    "μ_0 = μ.Z.sum(1).mean()"
   ]
  },
  {
   "cell_type": "markdown",
   "metadata": {
    "slideshow": {
     "slide_type": "slide"
    }
   },
   "source": [
    "## Simulate a $k$-SFS under this history using Tennessen demography\n",
    "- We'll sample 198 haplotypes\n",
    "- We can simulate $\\eta(t)$ misspecification by simulating from Tennessen, but inferring with Browning"
   ]
  },
  {
   "cell_type": "code",
   "execution_count": null,
   "metadata": {
    "slideshow": {
     "slide_type": "slide"
    }
   },
   "outputs": [],
   "source": [
    "n = 198\n",
    "# η_flat = histories.η(t, 1000 * np.ones(len(t) + 1))\n",
    "# ksfs_flat = mushi.kSFS(η=η_flat, μ=μ, n=n)\n",
    "# ksfs_flat.simulate(seed=1)\n",
    "ksfs_Tennessen = mushi.kSFS(η=η_Tennessen, μ=μ, n=n)\n",
    "ksfs_Tennessen.simulate(seed=1)\n",
    "\n",
    "ksfs = mushi.kSFS(X=ksfs_Tennessen.X)\n",
    "# # flat\n",
    "# ksfs = mushi.kSFS(X=ksfs_flat.X)\n",
    "\n",
    "plt.figure(figsize=(6, 3))\n",
    "ksfs.plot(alpha=0.1, lw=2, c='C0', normed=True)\n",
    "for idx in pulse_idxs:\n",
    "    ksfs.plot(idx, alpha=0.5, lw=2, c='C1', normed=True)\n",
    "plt.show()"
   ]
  },
  {
   "cell_type": "markdown",
   "metadata": {
    "slideshow": {
     "slide_type": "slide"
    }
   },
   "source": [
    "### TMRCA CDF"
   ]
  },
  {
   "cell_type": "code",
   "execution_count": null,
   "metadata": {},
   "outputs": [],
   "source": [
    "plt.figure(figsize=(3, 3))\n",
    "plt.plot(μ.change_points, ksfs_Tennessen.tmrca_cdf())\n",
    "plt.xlabel('$t$')\n",
    "plt.ylabel('TMRCA CDF')\n",
    "plt.ylim([0, 1])\n",
    "plt.xscale('symlog')\n",
    "plt.tight_layout()\n",
    "plt.show()"
   ]
  },
  {
   "cell_type": "markdown",
   "metadata": {
    "slideshow": {
     "slide_type": "slide"
    }
   },
   "source": [
    "### Initialize by fitting constant $\\eta(t)$ and $\\mu(t)$"
   ]
  },
  {
   "cell_type": "code",
   "execution_count": null,
   "metadata": {},
   "outputs": [],
   "source": [
    "mask = np.array([False if (0 <= i <= n - 20) else True for i in range(n - 1)])\n",
    "\n",
    "ksfs.infer_constant(change_points=t, μ_0=μ_0, mask=mask)\n",
    "\n",
    "plt.figure(figsize=(6, 6))\n",
    "plt.subplot(221)\n",
    "ksfs.plot_total()\n",
    "plt.subplot(222)\n",
    "η_Tennessen.plot()\n",
    "ksfs.η.plot(ls='--')\n",
    "plt.subplot(223)\n",
    "ksfs.plot(normed=True, alpha=0.5)\n",
    "plt.subplot(224)\n",
    "μ.plot(normed=True, alpha=0.5)\n",
    "plt.gca().set_prop_cycle(None)\n",
    "ksfs.μ.plot(normed=True, ls='--', alpha=0.5)\n",
    "plt.show()"
   ]
  },
  {
   "cell_type": "markdown",
   "metadata": {},
   "source": [
    "### Infer $\\eta(t)$ and $\\boldsymbol\\mu(t)$"
   ]
  },
  {
   "cell_type": "code",
   "execution_count": null,
   "metadata": {
    "scrolled": false
   },
   "outputs": [],
   "source": [
    "f_trajectory = []\n",
    "\n",
    "sweeps = 20\n",
    "for sweep in range(1, 1 + sweeps):    \n",
    "    print(f'block coordinate descent sweep {sweep:.2g}')\n",
    "    f = ksfs.coord_desc(# loss function parameters\n",
    "                        fit='prf',\n",
    "                        mask=mask,\n",
    "                        # η(t) regularization parameters\n",
    "                        α_tv=0,#1e3,\n",
    "                        α_spline=1e3,\n",
    "                        # μ(t) regularization parameters\n",
    "                        β_tv=0,\n",
    "                        β_spline=1e3,   \n",
    "                        # spectral regularization parameters\n",
    "                        β_rank=0,#5e3,\n",
    "                        β_ridge=1e-4,\n",
    "                        hard=True,                                     \n",
    "                        # convergence parameters\n",
    "                        max_iter=10000,\n",
    "                        tol=1e-10,\n",
    "                        γ=0.8)\n",
    "    print(f'cost: {f}')\n",
    "    if sweep > 1:\n",
    "        relative_change = np.abs((f - f_old) / f_old)\n",
    "        print(f'relative change: {relative_change:.2g}')\n",
    "    print()\n",
    "    f_old = f\n",
    "    f_trajectory.append(f)\n",
    "        \n",
    "    plt.figure(figsize=(6, 6))\n",
    "    plt.subplot(221)\n",
    "    ksfs.plot_total()\n",
    "    plt.subplot(222)\n",
    "    η_Tennessen.plot()\n",
    "    ksfs.η.plot(ls='--')\n",
    "    plt.subplot(223)\n",
    "    ksfs.plot(normed=True, alpha=0.5)\n",
    "    plt.subplot(224)\n",
    "    μ.plot(normed=True, alpha=0.5)\n",
    "    plt.gca().set_prop_cycle(None)\n",
    "    ksfs.μ.plot(normed=True, ls='--', alpha=0.5)\n",
    "    plt.show()\n",
    "\n",
    "\n",
    "plt.figure(figsize=(4, 2))\n",
    "plt.plot(f_trajectory)\n",
    "plt.xlabel('iterations')\n",
    "plt.ylabel('cost')\n",
    "# plt.xscale('symlog')\n",
    "plt.tight_layout()\n",
    "plt.show()\n",
    "\n",
    "plt.figure(figsize=(6, 2.5))\n",
    "plt.subplot(121)\n",
    "ksfs.plot(alpha=0.02, c='k', lw=1, normed=True)\n",
    "for color_idx, mut_type in enumerate(pulse_idxs):\n",
    "    ksfs.plot(mut_type, lw=2, c=f'C{color_idx}', normed=True, label=mut_type)\n",
    "plt.legend().remove()#loc=2, prop={'size': 7.5})\n",
    "plt.xlim([2, None])\n",
    "plt.subplot(122)\n",
    "μ.plot(flat_idxs, ls='dotted', alpha=0.1, lw=1, c='k', normed=True)\n",
    "ksfs.μ.plot(flat_idxs, alpha=0.1, lw=1, c='k', normed=True)\n",
    "for color_idx, mut_type in enumerate(pulse_idxs):\n",
    "    μ.plot(types=[mut_type], lw=2, normed=True, label=mut_type, c=f'C{color_idx}', ls='dotted')\n",
    "    ksfs.μ.plot(types=[mut_type], lw=2, normed=True, label=mut_type, c=f'C{color_idx}')\n",
    "plt.legend().remove()#loc=2, prop={'size': 7.5})\n",
    "\n",
    "# plt.savefig('/Users/williamdewitt/Downloads/sim.pdf', transparent=True)\n",
    "plt.show()\n",
    "\n",
    "# plt.savefig('/Users/williamdewitt/Downloads/1KG.pdf', transparent=True)\n",
    "plt.show()"
   ]
  },
  {
   "cell_type": "markdown",
   "metadata": {
    "slideshow": {
     "slide_type": "slide"
    }
   },
   "source": [
    "Data and forward reconstruction"
   ]
  },
  {
   "cell_type": "code",
   "execution_count": null,
   "metadata": {},
   "outputs": [],
   "source": [
    "np.max(Z)"
   ]
  },
  {
   "cell_type": "markdown",
   "metadata": {
    "slideshow": {
     "slide_type": "slide"
    }
   },
   "source": [
    "plot $\\chi^2$ goodness of fit for each $k$-SFS matrix element, and compute $\\chi^2$ goodness of fit test for the $k$-SFS matrix as a whole"
   ]
  },
  {
   "cell_type": "code",
   "execution_count": null,
   "metadata": {},
   "outputs": [],
   "source": [
    "ksfs.clustermap(ksfs.μ, figsize=(10, 5), cmap='Reds')\n",
    "plt.show()"
   ]
  },
  {
   "cell_type": "markdown",
   "metadata": {
    "slideshow": {
     "slide_type": "slide"
    }
   },
   "source": [
    "### Singular value spectrum of $Z$"
   ]
  },
  {
   "cell_type": "code",
   "execution_count": null,
   "metadata": {},
   "outputs": [],
   "source": [
    "plt.figure(figsize=(3, 3))\n",
    "plt.plot(range(min(ksfs.μ.Z.shape)), np.linalg.svd(Z, compute_uv=False), '.')\n",
    "plt.yscale('log')\n",
    "plt.tight_layout()\n",
    "plt.show()"
   ]
  },
  {
   "cell_type": "code",
   "execution_count": null,
   "metadata": {},
   "outputs": [],
   "source": []
  },
  {
   "cell_type": "code",
   "execution_count": null,
   "metadata": {},
   "outputs": [],
   "source": []
  },
  {
   "cell_type": "code",
   "execution_count": null,
   "metadata": {},
   "outputs": [],
   "source": []
  }
 ],
 "metadata": {
  "celltoolbar": "Slideshow",
  "kernelspec": {
   "display_name": "Python 3",
   "language": "python",
   "name": "python3"
  },
  "language_info": {
   "codemirror_mode": {
    "name": "ipython",
    "version": 3
   },
   "file_extension": ".py",
   "mimetype": "text/x-python",
   "name": "python",
   "nbconvert_exporter": "python",
   "pygments_lexer": "ipython3",
   "version": "3.7.3"
  }
 },
 "nbformat": 4,
 "nbformat_minor": 2
}
