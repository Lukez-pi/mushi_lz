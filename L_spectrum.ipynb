{
 "cells": [
  {
   "cell_type": "markdown",
   "metadata": {
    "slideshow": {
     "slide_type": "-"
    }
   },
   "source": [
    "Investigating the $L_{n,\\boldsymbol y}$ matrix\n",
    "=="
   ]
  },
  {
   "cell_type": "code",
   "execution_count": null,
   "metadata": {
    "slideshow": {
     "slide_type": "slide"
    }
   },
   "outputs": [],
   "source": [
    "%matplotlib notebook\n",
    "import mushi\n",
    "import histories\n",
    "import utils\n",
    "import numpy as np\n",
    "from matplotlib import pyplot as plt\n",
    "import pandas as pd\n",
    "import seaborn as sns\n",
    "from numpy.linalg import cond, svd\n",
    "from matplotlib.colors import LogNorm"
   ]
  },
  {
   "cell_type": "markdown",
   "metadata": {
    "slideshow": {
     "slide_type": "slide"
    }
   },
   "source": [
    "### define a flat $\\eta(t)$"
   ]
  },
  {
   "cell_type": "code",
   "execution_count": null,
   "metadata": {},
   "outputs": [],
   "source": [
    "# time grid\n",
    "t = np.concatenate(([0], np.logspace(-1, 4, 100), [np.inf]))\n",
    "# η(t) values in each epoch\n",
    "y = 100 * np.ones(len(t) - 1)\n",
    "# histories object\n",
    "η = histories.η(t[1:-1], y)"
   ]
  },
  {
   "cell_type": "markdown",
   "metadata": {
    "slideshow": {
     "slide_type": "slide"
    }
   },
   "source": [
    "### The condition numbers of $L_{n,\\mathbf y}$ for several values of $n$\n",
    "Things go to 💩 for $n$ larger than a couple hundred or so. This is a problem. Most of the badness is from $C$."
   ]
  },
  {
   "cell_type": "code",
   "execution_count": null,
   "metadata": {},
   "outputs": [],
   "source": [
    "# vector of different sample sizes n\n",
    "n_array = np.logspace(1, 3, 100, dtype=np.int)\n",
    "\n",
    "def L(n: int):\n",
    "    return (utils.C(n) @ utils.M(n, t, y)).astype('float64')\n",
    "condition_numbers = [cond(L(n)) for n in n_array]"
   ]
  },
  {
   "cell_type": "code",
   "execution_count": null,
   "metadata": {
    "slideshow": {
     "slide_type": "slide"
    }
   },
   "outputs": [],
   "source": [
    "plt.figure(figsize=(5, 3))\n",
    "plt.plot(n_array, condition_numbers)\n",
    "plt.xlabel('$n$')\n",
    "plt.ylabel('condition number')\n",
    "# plt.xscale('log')\n",
    "plt.yscale('log')\n",
    "plt.tight_layout()\n",
    "plt.show()"
   ]
  },
  {
   "cell_type": "markdown",
   "metadata": {
    "slideshow": {
     "slide_type": "slide"
    }
   },
   "source": [
    "### Singular value spectrum of $L_{n,\\mathbf y}$ with $n=100$"
   ]
  },
  {
   "cell_type": "code",
   "execution_count": null,
   "metadata": {
    "slideshow": {
     "slide_type": "fragment"
    }
   },
   "outputs": [],
   "source": [
    "n = 100\n",
    "sfs = mushi.kSFS(η, n=n)\n",
    "U, σ, Vh = svd(sfs.L.astype('float64'), full_matrices=False)\n",
    "plt.figure(figsize=(6, 2))\n",
    "plt.plot(np.arange(1, min(n, η.m + 1)), σ, '.')\n",
    "plt.yscale('log')\n",
    "plt.ylabel('singular value')    \n",
    "plt.show()"
   ]
  },
  {
   "cell_type": "markdown",
   "metadata": {
    "slideshow": {
     "slide_type": "slide"
    }
   },
   "source": [
    "### Top few right singular vectors"
   ]
  },
  {
   "cell_type": "code",
   "execution_count": null,
   "metadata": {
    "slideshow": {
     "slide_type": "-"
    }
   },
   "outputs": [],
   "source": [
    "df = pd.DataFrame(Vh.T, index=pd.Index(t[:-1], name='time'))\n",
    "df = df.melt().set_index('variable')\n",
    "df['singular value'] = σ[df.index]\n",
    "df['time'] = np.tile(t[:-1], df.index[-1] + 1)\n",
    "\n",
    "# filter to top 20 singular values\n",
    "df = df[df.index < 20]"
   ]
  },
  {
   "cell_type": "code",
   "execution_count": null,
   "metadata": {
    "slideshow": {
     "slide_type": "slide"
    }
   },
   "outputs": [],
   "source": [
    "plt.figure(figsize=(10, 3))\n",
    "ax = sns.lineplot(x='time', y='value', hue='singular value', units='singular value',\n",
    "                  data=df, estimator=None,\n",
    "                  palette=sns.color_palette(\"RdBu\", n_colors=df['singular value'].nunique()),\n",
    "                  legend=False)\n",
    "plt.tight_layout()\n",
    "plt.xscale('log')\n",
    "plt.show()"
   ]
  },
  {
   "cell_type": "markdown",
   "metadata": {
    "slideshow": {
     "slide_type": "slide"
    }
   },
   "source": [
    "### TMRCA CDF"
   ]
  },
  {
   "cell_type": "code",
   "execution_count": null,
   "metadata": {
    "slideshow": {
     "slide_type": "fragment"
    }
   },
   "outputs": [],
   "source": [
    "plt.figure(figsize=(3, 2))\n",
    "plt.plot(η.change_points, sfs.tmrca_cdf())\n",
    "plt.xlabel('$t$')\n",
    "plt.xscale('symlog')\n",
    "plt.ylim([0, 1])\n",
    "plt.ylabel('TMRCA CDF')\n",
    "plt.tight_layout()\n",
    "plt.show()"
   ]
  },
  {
   "cell_type": "code",
   "execution_count": null,
   "metadata": {},
   "outputs": [],
   "source": []
  }
 ],
 "metadata": {
  "celltoolbar": "Slideshow",
  "kernelspec": {
   "display_name": "Python 3",
   "language": "python",
   "name": "python3"
  },
  "language_info": {
   "codemirror_mode": {
    "name": "ipython",
    "version": 3
   },
   "file_extension": ".py",
   "mimetype": "text/x-python",
   "name": "python",
   "nbconvert_exporter": "python",
   "pygments_lexer": "ipython3",
   "version": "3.7.4"
  }
 },
 "nbformat": 4,
 "nbformat_minor": 2
}
