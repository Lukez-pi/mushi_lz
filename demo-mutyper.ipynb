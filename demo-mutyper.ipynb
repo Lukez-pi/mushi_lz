{
 "cells": [
  {
   "cell_type": "code",
   "execution_count": null,
   "metadata": {
    "slideshow": {
     "slide_type": "-"
    }
   },
   "outputs": [],
   "source": [
    "from collections import Counter\n",
    "import gzip"
   ]
  },
  {
   "cell_type": "markdown",
   "metadata": {
    "slideshow": {
     "slide_type": "slide"
    }
   },
   "source": [
    "`mutyper` demo\n",
    "==\n",
    "\n",
    "This notebook demonstrates how to use the Python package [`mutyper`](https://github.com/harrispopgen/mushi/tree/master/mutyper): a utility for... "
   ]
  },
  {
   "cell_type": "markdown",
   "metadata": {
    "slideshow": {
     "slide_type": "slide"
    }
   },
   "source": [
    "## Computing mutation type data to VCF/BCF data\n",
    "\n",
    "- Studying mutation spectra usually begins with computing the mutation type for SNPs in a VCF/BCF file\n",
    "- To polarize SNPs from REF/ALT to ancestral/derived and determine their local context, we need an estimate of the ancestral sequence, which usually takes the form of a FASTA file.\n",
    "- `mutyper` is a Python package for doing this\n",
    "- it also has a command-line interface for easily integrating in more complex bioinformatic pipelines."
   ]
  },
  {
   "cell_type": "markdown",
   "metadata": {
    "slideshow": {
     "slide_type": "slide"
    }
   },
   "source": [
    "### Python API demo\n",
    "Path to an ancestral FASTA file for human chromosome 1"
   ]
  },
  {
   "cell_type": "code",
   "execution_count": null,
   "metadata": {
    "slideshow": {
     "slide_type": "-"
    }
   },
   "outputs": [],
   "source": [
    "fasta = 'data/human_ancestor_GRCh37_e59/human_ancestor_1.fa'"
   ]
  },
  {
   "cell_type": "markdown",
   "metadata": {
    "slideshow": {
     "slide_type": "slide"
    }
   },
   "source": [
    "The `mutyper` package has a single module `ancestor` containing a single class `Ancestor`. We now import it and instantiate an `Ancestor` object using our FASTA file, and tell it we're interested in 3-mer context (by default it will be triplet/3-mer)"
   ]
  },
  {
   "cell_type": "code",
   "execution_count": null,
   "metadata": {
    "slideshow": {
     "slide_type": "-"
    }
   },
   "outputs": [],
   "source": [
    "from mutyper.ancestor import Ancestor\n",
    "\n",
    "ancestor = Ancestor(fasta, k=3)"
   ]
  },
  {
   "cell_type": "markdown",
   "metadata": {
    "slideshow": {
     "slide_type": "slide"
    }
   },
   "source": [
    "We can access the `fasta` attribute to inspect FASTA record ids"
   ]
  },
  {
   "cell_type": "code",
   "execution_count": null,
   "metadata": {
    "slideshow": {
     "slide_type": "-"
    }
   },
   "outputs": [],
   "source": [
    "ancestor.fasta.keys()"
   ]
  },
  {
   "cell_type": "code",
   "execution_count": null,
   "metadata": {
    "slideshow": {
     "slide_type": "-"
    }
   },
   "outputs": [],
   "source": [
    "chrom = 'ANCESTOR_for_chromosome:GRCh37:1:1:249250621:1'"
   ]
  },
  {
   "cell_type": "code",
   "execution_count": null,
   "metadata": {
    "slideshow": {
     "slide_type": "-"
    }
   },
   "outputs": [],
   "source": [
    "ancestor.fasta[chrom]"
   ]
  },
  {
   "cell_type": "markdown",
   "metadata": {
    "slideshow": {
     "slide_type": "slide"
    }
   },
   "source": [
    "and we can Pythonically slice sequences via fast random access without loading into memory ([`pyfaidx`](https://pythonhosted.org/pyfaidx/) under the hood):"
   ]
  },
  {
   "cell_type": "code",
   "execution_count": null,
   "metadata": {
    "slideshow": {
     "slide_type": "-"
    }
   },
   "outputs": [],
   "source": [
    "start = 20000000\n",
    "end = 20000100\n",
    "ancestor.fasta[chrom][start:end]"
   ]
  },
  {
   "cell_type": "markdown",
   "metadata": {
    "slideshow": {
     "slide_type": "fragment"
    }
   },
   "source": [
    "We can also access these `FastaRecord` slices as string-like biopython `Seq` objects"
   ]
  },
  {
   "cell_type": "code",
   "execution_count": null,
   "metadata": {
    "slideshow": {
     "slide_type": "-"
    }
   },
   "outputs": [],
   "source": [
    "ancestor.fasta[chrom][start:end].seq"
   ]
  },
  {
   "cell_type": "markdown",
   "metadata": {
    "slideshow": {
     "slide_type": "slide"
    }
   },
   "source": [
    "**The `mutation_type` method** allows us to specify a SNP by the usual CHROM, POS, REF, ALT, and returns the correctly polarized mutation type as a tuple of ancestral kmer and derived kmer."
   ]
  },
  {
   "cell_type": "code",
   "execution_count": null,
   "metadata": {
    "slideshow": {
     "slide_type": "-"
    }
   },
   "outputs": [],
   "source": [
    "ancestor.mutation_type(chrom, 20000000, 'A', 'T')"
   ]
  },
  {
   "cell_type": "code",
   "execution_count": null,
   "metadata": {
    "slideshow": {
     "slide_type": "-"
    }
   },
   "outputs": [],
   "source": [
    "ancestor.mutation_type(chrom, 20000000, 'T', 'A')"
   ]
  },
  {
   "cell_type": "markdown",
   "metadata": {
    "slideshow": {
     "slide_type": "fragment"
    }
   },
   "source": [
    "infinite sites violation (i.e. not biallelic)"
   ]
  },
  {
   "cell_type": "code",
   "execution_count": null,
   "metadata": {},
   "outputs": [],
   "source": [
    "ancestor.mutation_type(chrom, 20000000, 'T', 'C')"
   ]
  },
  {
   "cell_type": "markdown",
   "metadata": {
    "slideshow": {
     "slide_type": "slide"
    }
   },
   "source": [
    "**The `region_context` method** returns a generator of ancestral contexts over the positions in a region specified as in BED file format CHROM, START, END"
   ]
  },
  {
   "cell_type": "code",
   "execution_count": null,
   "metadata": {
    "scrolled": false,
    "slideshow": {
     "slide_type": "-"
    }
   },
   "outputs": [],
   "source": [
    "start = 20000105\n",
    "end = 20000115\n",
    "for context in ancestor.region_context(chrom, start, end):\n",
    "    print(context, end=' ')"
   ]
  },
  {
   "cell_type": "markdown",
   "metadata": {
    "slideshow": {
     "slide_type": "fragment"
    }
   },
   "source": [
    "FASTA sites that are not capital ACGT are ambiguous, so context is `None`. "
   ]
  },
  {
   "cell_type": "markdown",
   "metadata": {
    "slideshow": {
     "slide_type": "slide"
    }
   },
   "source": [
    "We can use this generator method to lazily compute the masked genomic target size for each context (which may be useful for normalizing spectra in different regions, or calibrating mutation rates). As an example here's the path to a BED mask file (based on the 1000 Genomes strict mask)."
   ]
  },
  {
   "cell_type": "code",
   "execution_count": null,
   "metadata": {
    "slideshow": {
     "slide_type": "-"
    }
   },
   "outputs": [],
   "source": [
    "bed = '1KG/scons_output/mask.bed.gz'"
   ]
  },
  {
   "cell_type": "markdown",
   "metadata": {
    "slideshow": {
     "slide_type": "slide"
    }
   },
   "source": [
    "Loop over BED file entries and update a `Counter` object for the different triplets (we'll just do the first 1000 entries)"
   ]
  },
  {
   "cell_type": "code",
   "execution_count": null,
   "metadata": {},
   "outputs": [],
   "source": [
    "target_sizes = Counter()\n",
    "for ct, line in enumerate(gzip.open(bed, 'rt')):\n",
    "    this_chrom, start, end = line.split('\\t')\n",
    "    target_sizes.update(ancestor.region_context(chrom, int(start), int(end)))\n",
    "    if ct > 1000:\n",
    "        break\n",
    "print(target_sizes)"
   ]
  },
  {
   "cell_type": "markdown",
   "metadata": {
    "slideshow": {
     "slide_type": "slide"
    }
   },
   "source": [
    "### Command line interface demo\n",
    "\n",
    "Path to a BCF file for chromosome 22 from the 1000 Genomes Project."
   ]
  },
  {
   "cell_type": "code",
   "execution_count": null,
   "metadata": {},
   "outputs": [],
   "source": [
    "bcf = 'data/phase3_1000genomes/bcfs/ALL.chr1.phase3_shapeit2_mvncall_integrated_v5.20130502.genotypes.bcf'"
   ]
  },
  {
   "cell_type": "markdown",
   "metadata": {
    "slideshow": {
     "slide_type": "slide"
    }
   },
   "source": [
    "Here's a bash cell (not python, due to the `!`) that pipes SNP data filtered with [`bcftools view`](http://samtools.github.io/bcftools/bcftools.html#view) into **the [`mutyper.ancestor`](https://github.com/harrispopgen/mushi/blob/master/mutyper/ancestor.py) program** to add mutation_type to the INFO field. (for speed will just look at a 1kb region). This program takes an optional argument `k` to define kmer size (3 by default). We then pipe to [`bcftools query`](http://samtools.github.io/bcftools/bcftools.html#query) to show that the INFO field now contains mutation_type"
   ]
  },
  {
   "cell_type": "code",
   "execution_count": null,
   "metadata": {},
   "outputs": [],
   "source": [
    "!bcftools view -T {bed} -r1:100000000-101000000 -m2 -M2 -v snps -c 1:minor -Ou -f PASS -U {bcf} \\\n",
    " | python mutyper/ancestor.py {fasta} \\\n",
    " | bcftools query -f '%CHROM\\t%POS\\t%REF\\t%ALT\\t%INFO/mutation_type\\n' | head -5"
   ]
  },
  {
   "cell_type": "markdown",
   "metadata": {
    "slideshow": {
     "slide_type": "slide"
    }
   },
   "source": [
    "We can compute ancestral sequence content in a pipelined fashion too. We use [`tabix`](http://www.htslib.org/doc/tabix.html) to filter the gzipped BED mask file to a region of interest (first 10Mb of chromosome 1), and pipe that to **the [`mutyper.masked_size`](https://github.com/harrispopgen/mushi/blob/master/mutyper/masked_size.py) program** to print the triplet-wise target sizes in tabular format. This program also takes an optional argument `k`."
   ]
  },
  {
   "cell_type": "code",
   "execution_count": null,
   "metadata": {},
   "outputs": [],
   "source": [
    "!tabix -p bed {bed} 1:100000000-101000000 \\\n",
    " | python mutyper/masked_size.py {fasta} | head"
   ]
  },
  {
   "cell_type": "markdown",
   "metadata": {
    "slideshow": {
     "slide_type": "slide"
    }
   },
   "source": [
    "Finally, we can pipe BCF/VCF data containing mutation_type data in the INFO field (see above) to **the program [`mutyper.ksfs`](https://github.com/harrispopgen/mushi/blob/master/mutyper/ksfs.py)** to compute a $k$-SFS in tabular form. The $k$-SFS is a matrix of the count of each mutation type (columns) in the input SNP data at each allele frequency (rows). This can also be used to compute mutation spectra of individuals.\n",
    "\n",
    "**A single individual's mutation spectrum** (filter the BCF to sample HG00096):"
   ]
  },
  {
   "cell_type": "code",
   "execution_count": null,
   "metadata": {},
   "outputs": [],
   "source": [
    "!bcftools view -T {bed} -r1:100000000-101000000 -m2 -M2 -v snps -c 1:minor -Ou -f PASS -U {bcf} \\\n",
    " | bcftools view -s HG00096 -c 1:minor \\\n",
    " | python mutyper/ancestor.py {fasta} | python mutyper/ksfs.py \\\n",
    " | cut -f-10"
   ]
  },
  {
   "cell_type": "markdown",
   "metadata": {
    "slideshow": {
     "slide_type": "slide"
    }
   },
   "source": [
    "**$k$-SFS of all individuals in the BCF**"
   ]
  },
  {
   "cell_type": "code",
   "execution_count": null,
   "metadata": {},
   "outputs": [],
   "source": [
    "!bcftools view -T {bed} -r1:100000000-101000000 -m2 -M2 -v snps -c 1:minor -Ou -f PASS -U {bcf} \\\n",
    " | python mutyper/ancestor.py {fasta} | python mutyper/ksfs.py \\\n",
    " | head -10 | cut -f-10"
   ]
  }
 ],
 "metadata": {
  "celltoolbar": "Slideshow",
  "kernelspec": {
   "display_name": "Python 3",
   "language": "python",
   "name": "python3"
  },
  "language_info": {
   "codemirror_mode": {
    "name": "ipython",
    "version": 3
   },
   "file_extension": ".py",
   "mimetype": "text/x-python",
   "name": "python",
   "nbconvert_exporter": "python",
   "pygments_lexer": "ipython3",
   "version": "3.7.6"
  }
 },
 "nbformat": 4,
 "nbformat_minor": 4
}
