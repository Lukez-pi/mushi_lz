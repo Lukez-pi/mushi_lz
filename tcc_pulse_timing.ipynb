{
 "cells": [
  {
   "cell_type": "markdown",
   "metadata": {},
   "source": [
    "TCC>TTC pulse timing\n",
    "=="
   ]
  },
  {
   "cell_type": "code",
   "execution_count": null,
   "metadata": {
    "slideshow": {
     "slide_type": "slide"
    }
   },
   "outputs": [],
   "source": [
    "%matplotlib inline\n",
    "from mushi import kSFS\n",
    "from histories import eta\n",
    "import numpy as np\n",
    "from matplotlib import pyplot as plt\n",
    "import pandas as pd\n",
    "import msprime\n",
    "import stdpopsim"
   ]
  },
  {
   "cell_type": "code",
   "execution_count": null,
   "metadata": {},
   "outputs": [],
   "source": [
    "# plt.style.use('dark_background')"
   ]
  },
  {
   "cell_type": "code",
   "execution_count": null,
   "metadata": {},
   "outputs": [],
   "source": [
    "# set this to e.g. your Downloads folder path if you want plots saved to pdfs\n",
    "plot_dir = None"
   ]
  },
  {
   "cell_type": "markdown",
   "metadata": {},
   "source": [
    "EUR populations"
   ]
  },
  {
   "cell_type": "code",
   "execution_count": null,
   "metadata": {},
   "outputs": [],
   "source": [
    "pops = {'CEU', 'FIN', 'GBR', 'IBS', 'TSI'}"
   ]
  },
  {
   "cell_type": "markdown",
   "metadata": {},
   "source": [
    "load 3-SFS for each population, and plot the total SFS"
   ]
  },
  {
   "cell_type": "code",
   "execution_count": null,
   "metadata": {},
   "outputs": [],
   "source": [
    "ksfs_dict = {}\n",
    "plt.figure(figsize=(3, 3))\n",
    "for pop in pops:\n",
    "    ksfs_df = pd.read_csv(f'example_data/{pop}/3-SFS.tsv', sep='\\t', index_col=0)\n",
    "    ksfs_dict[pop] = kSFS(X=ksfs_df.values, mutation_types=ksfs_df.columns)\n",
    "    ksfs_dict[pop].plot_total(label=pop)\n",
    "plt.legend()\n",
    "plt.show()"
   ]
  },
  {
   "cell_type": "markdown",
   "metadata": {},
   "source": [
    "clip high frequencies due to ancestral state misidentification"
   ]
  },
  {
   "cell_type": "code",
   "execution_count": null,
   "metadata": {},
   "outputs": [],
   "source": [
    "clip_low = 0\n",
    "clip_high = 10\n",
    "# we need a different mask vector for each population becuase the number of haplotypes n\n",
    "# (length of SFS vector) varies\n",
    "freq_mask = {}\n",
    "for pop in pops:\n",
    "    freq_mask[pop] = np.array([True if (clip_low <= i < ksfs_dict[pop].n - clip_high - 1) else False\n",
    "                               for i in range(ksfs_dict[pop].n - 1)])"
   ]
  },
  {
   "cell_type": "markdown",
   "metadata": {},
   "source": [
    "time grid of epoch boundaries (measured in generations)"
   ]
  },
  {
   "cell_type": "code",
   "execution_count": null,
   "metadata": {},
   "outputs": [],
   "source": [
    "change_points = np.logspace(np.log10(1), np.log10(200000), 200)"
   ]
  },
  {
   "cell_type": "markdown",
   "metadata": {},
   "source": [
    "masked genome size (excluding conserved sites, repeats, 1KG stict mask, and uncertain ancestral states)"
   ]
  },
  {
   "cell_type": "code",
   "execution_count": null,
   "metadata": {},
   "outputs": [],
   "source": [
    "with open('example_data/masked_size.tsv') as f:\n",
    "    masked_genome_size = int(f.read())"
   ]
  },
  {
   "cell_type": "markdown",
   "metadata": {},
   "source": [
    "mutation rate per site per generation"
   ]
  },
  {
   "cell_type": "code",
   "execution_count": null,
   "metadata": {},
   "outputs": [],
   "source": [
    "u = 1.3e-8"
   ]
  },
  {
   "cell_type": "markdown",
   "metadata": {},
   "source": [
    "mutation rate per masked genome per generation"
   ]
  },
  {
   "cell_type": "code",
   "execution_count": null,
   "metadata": {},
   "outputs": [],
   "source": [
    "mu0 = u * masked_genome_size"
   ]
  },
  {
   "cell_type": "markdown",
   "metadata": {},
   "source": [
    "generation time for time calibration"
   ]
  },
  {
   "cell_type": "code",
   "execution_count": null,
   "metadata": {},
   "outputs": [],
   "source": [
    "t_gen = 29"
   ]
  },
  {
   "cell_type": "markdown",
   "metadata": {},
   "source": [
    "regularization paramaters and convergence criteria"
   ]
  },
  {
   "cell_type": "code",
   "execution_count": null,
   "metadata": {},
   "outputs": [],
   "source": [
    "regularization_eta = dict(alpha_tv=1e2, alpha_spline=5e3, alpha_ridge=1e-10)\n",
    "regularization_mu = dict(hard=True, beta_rank=0, beta_tv=7e1, beta_ridge=1e-10)\n",
    "convergence = dict(tol=1e-10, max_iter=1000)"
   ]
  },
  {
   "cell_type": "markdown",
   "metadata": {},
   "source": [
    "fit $\\eta(t)$"
   ]
  },
  {
   "cell_type": "code",
   "execution_count": null,
   "metadata": {},
   "outputs": [],
   "source": [
    "fig, axes = plt.subplots(1, 2, figsize=(8, 4))\n",
    "for idx, pop in enumerate(pops):\n",
    "    print(pop)\n",
    "    # clear solutions, in case rerunning this cell\n",
    "    ksfs_dict[pop].clear_eta()\n",
    "    ksfs_dict[pop].clear_mu()\n",
    "    ksfs_dict[pop].infer_history(change_points, mu0, infer_mu=False,\n",
    "                                 loss='prf', **regularization_eta,\n",
    "                                 **convergence, mask=freq_mask[pop])\n",
    "    plt.sca(axes[0])\n",
    "    ksfs_dict[pop].plot_total(label=pop)\n",
    "    plt.sca(axes[1])\n",
    "    ksfs_dict[pop].eta.plot(lw=3, label=pop, t_gen=t_gen)\n",
    "    plt.xlim([1e3, 1e6])\n",
    "    plt.legend()\n",
    "if plot_dir:\n",
    "    plt.savefig(f'{plot_dir}/europulse.eta.pdf')\n",
    "plt.show()"
   ]
  },
  {
   "cell_type": "markdown",
   "metadata": {},
   "source": [
    "loop over a few values of the `beta_spline` parameter, which controls how much L2 smoothness is imposed on the first derivative, and fit $\\mu(t)$"
   ]
  },
  {
   "cell_type": "code",
   "execution_count": null,
   "metadata": {
    "scrolled": false
   },
   "outputs": [],
   "source": [
    "beta_spline_array = (1e-20, 1e3, 1e4)\n",
    "fig, axes = plt.subplots(len(beta_spline_array), 2,\n",
    "                         sharex='col', figsize=(8, 3 * len(beta_spline_array)))\n",
    "for idx, beta_spline in enumerate(beta_spline_array):\n",
    "    print(f'beta_spline = {beta_spline}')\n",
    "    for idx2, pop in enumerate(pops):\n",
    "        print(pop)\n",
    "        # clear solution, in case rerunning this cell\n",
    "        ksfs_dict[pop].clear_mu()\n",
    "        ksfs_dict[pop].infer_history(change_points, mu0, beta_spline=beta_spline, infer_eta=False,\n",
    "                                     loss='prf', **regularization_mu,\n",
    "                                     **convergence, mask=freq_mask[pop])\n",
    "        plt.sca(axes[idx, 0])\n",
    "        ksfs_dict[pop].plot('TCC>TTC', clr=True,\n",
    "                            label=(pop if idx == 0 else None),\n",
    "                            lw=3, alpha=0.5, c=f'C{idx2}')\n",
    "        plt.xscale('log')\n",
    "        if idx == 0:\n",
    "            plt.legend()\n",
    "        if idx < axes.shape[0] - 1:\n",
    "            plt.xlabel(None)\n",
    "        plt.sca(axes[idx, 1])\n",
    "        ksfs_dict[pop].μ.plot(('TCC>TTC',), t_gen=t_gen, clr=True,\n",
    "                              label=(pop if idx == 0 else None),\n",
    "                              lw=3, alpha=0.5)\n",
    "        plt.xscale('log')\n",
    "        if idx < axes.shape[0] - 1:\n",
    "            plt.xlabel(None)        \n",
    "        plt.xlim([1e3, 1e6])\n",
    "plt.tight_layout()\n",
    "if plot_dir:\n",
    "    plt.savefig(f'{plot_dir}/europulse.mu.pdf', dpi=300)\n",
    "plt.show()"
   ]
  },
  {
   "cell_type": "markdown",
   "metadata": {},
   "source": [
    "Instead of fitting the demography, we can use the demography of Tennessen et al. from `stdpopsim`"
   ]
  },
  {
   "cell_type": "code",
   "execution_count": null,
   "metadata": {},
   "outputs": [],
   "source": [
    "species = stdpopsim.get_species(\"HomSap\")\n",
    "model = species.get_demographic_model(\"OutOfAfrica_2T12\")\n",
    "ddb = model.get_demography_debugger()\n",
    "steps = np.concatenate((np.array([0]), change_points))\n",
    "eta_Tennessen = eta(change_points,\n",
    "                1 / ddb.coalescence_rate_trajectory(steps=steps,\n",
    "                                                    num_samples=[0, 2],\n",
    "                                                    double_step_validation=False)[0])\n",
    "plt.figure(figsize=(4, 4))\n",
    "eta_Tennessen.plot(t_gen=t_gen, label='EUR (Tennessen et al.)')\n",
    "plt.xlim([1e3, 1e6])\n",
    "plt.legend()\n",
    "plt.show()"
   ]
  },
  {
   "cell_type": "code",
   "execution_count": null,
   "metadata": {},
   "outputs": [],
   "source": [
    "fig, axes = plt.subplots(1, 3,\n",
    "                         sharex='col', figsize=(12, 4))\n",
    "for idx, pop in enumerate(pops):\n",
    "    print(pop)\n",
    "    ksfs_dict[pop].infer_history(change_points, mu0, eta=eta_Tennessen, beta_spline=1e-20,\n",
    "                                 loss='prf', **regularization_mu, **convergence,\n",
    "                                 mask=freq_mask[pop])\n",
    "    plt.sca(axes[0])\n",
    "    ksfs_dict[pop].plot_total(c=f'C{idx}', label=pop)\n",
    "    plt.sca(axes[1])\n",
    "    ksfs_dict[pop].plot('TCC>TTC', clr=True, label=pop, lw=3, alpha=0.5, c=f'C{idx}')\n",
    "    plt.sca(axes[2])\n",
    "    ksfs_dict[pop].mu.plot(('TCC>TTC',), t_gen=t_gen, clr=True,\n",
    "                          label=pop,\n",
    "                          lw=3, alpha=0.5)\n",
    "axes[0].legend()\n",
    "axes[2].set_xlim([1e3, 1e6])\n",
    "plt.tight_layout()\n",
    "if plot_dir:\n",
    "    plt.savefig(f'{plot_dir}/europulse.Tennessen.pdf', dpi=300)\n",
    "plt.show()"
   ]
  },
  {
   "cell_type": "markdown",
   "metadata": {},
   "source": [
    "It fits the total SFS quite poorly, and timing of the TCC pulse seems to be incorrectly scaled as a result. The number of segregating variants observed does not match what's expected under this demography:"
   ]
  },
  {
   "cell_type": "code",
   "execution_count": null,
   "metadata": {},
   "outputs": [],
   "source": [
    "plt.figure(figsize=(3, 3))\n",
    "for pop in pops:\n",
    "    plt.plot(ksfs_dict[pop].X[freq_mask[pop], :].sum(),\n",
    "             (ksfs_dict[pop].L @ ksfs_dict['CEU'].mu.Z)[freq_mask[pop], :].sum(),\n",
    "             'o', label=pop)\n",
    "plt.plot([.8e7, 1.05e7], [.8e7, 1.05e7], '--k')\n",
    "plt.xlabel('observed S')\n",
    "plt.ylabel('predicted S')\n",
    "plt.legend()\n",
    "plt.show()"
   ]
  },
  {
   "cell_type": "markdown",
   "metadata": {},
   "source": [
    "We conclude that an older site-wise mutation rate estimate was cryptically modifying the diffusion timescale in Harris and Pritchard (2017) via the assumed demography. Tennessen et al. likely used a phylogenetically-calibrated mutation rate `~2.35e-8` (although no rate is reported), rather than an estimate based on trio sequencing."
   ]
  }
 ],
 "metadata": {
  "kernelspec": {
   "display_name": "Python 3",
   "language": "python",
   "name": "python3"
  },
  "language_info": {
   "codemirror_mode": {
    "name": "ipython",
    "version": 3
   },
   "file_extension": ".py",
   "mimetype": "text/x-python",
   "name": "python",
   "nbconvert_exporter": "python",
   "pygments_lexer": "ipython3",
   "version": "3.7.6"
  }
 },
 "nbformat": 4,
 "nbformat_minor": 2
}
