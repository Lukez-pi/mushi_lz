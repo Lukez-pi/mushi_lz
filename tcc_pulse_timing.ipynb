{
 "cells": [
  {
   "cell_type": "markdown",
   "metadata": {},
   "source": [
    "TCC>TTC pulse timing\n",
    "=="
   ]
  },
  {
   "cell_type": "code",
   "execution_count": null,
   "metadata": {
    "slideshow": {
     "slide_type": "slide"
    }
   },
   "outputs": [],
   "source": [
    "%matplotlib inline\n",
    "from mushi import kSFS\n",
    "import numpy as np\n",
    "from matplotlib import pyplot as plt\n",
    "import pandas as pd"
   ]
  },
  {
   "cell_type": "code",
   "execution_count": null,
   "metadata": {},
   "outputs": [],
   "source": [
    "# plt.style.use('dark_background')"
   ]
  },
  {
   "cell_type": "markdown",
   "metadata": {},
   "source": [
    "EUR populations"
   ]
  },
  {
   "cell_type": "code",
   "execution_count": null,
   "metadata": {},
   "outputs": [],
   "source": [
    "pops = {'CEU', 'FIN', 'GBR', 'IBS', 'TSI'}"
   ]
  },
  {
   "cell_type": "markdown",
   "metadata": {},
   "source": [
    "load 3-SFS for each population"
   ]
  },
  {
   "cell_type": "code",
   "execution_count": null,
   "metadata": {},
   "outputs": [],
   "source": [
    "ksfs_dict = {}\n",
    "for pop in pops:\n",
    "    ksfs_df = pd.read_csv(f'1KG/scons_output/{pop}/3-SFS.tsv', sep='\\t', index_col=0)\n",
    "    ksfs_dict[pop] = kSFS(X=ksfs_df.values, mutation_types=ksfs_df.columns)"
   ]
  },
  {
   "cell_type": "markdown",
   "metadata": {},
   "source": [
    "time grid of epoch boundaries (measured in generations)"
   ]
  },
  {
   "cell_type": "code",
   "execution_count": null,
   "metadata": {},
   "outputs": [],
   "source": [
    "change_points = np.logspace(np.log10(1), np.log10(200000), 200)"
   ]
  },
  {
   "cell_type": "markdown",
   "metadata": {},
   "source": [
    "masked genome size"
   ]
  },
  {
   "cell_type": "code",
   "execution_count": null,
   "metadata": {},
   "outputs": [],
   "source": [
    "with open('1KG/scons_output/masked_size.tsv') as f:\n",
    "    masked_genome_size = int(f.read())"
   ]
  },
  {
   "cell_type": "markdown",
   "metadata": {},
   "source": [
    "mutation rate per site per generation"
   ]
  },
  {
   "cell_type": "code",
   "execution_count": null,
   "metadata": {},
   "outputs": [],
   "source": [
    "u = 1.3e-8"
   ]
  },
  {
   "cell_type": "markdown",
   "metadata": {},
   "source": [
    "mutation rate per masked genome per generation"
   ]
  },
  {
   "cell_type": "code",
   "execution_count": null,
   "metadata": {},
   "outputs": [],
   "source": [
    "μ0 = u * masked_genome_size"
   ]
  },
  {
   "cell_type": "markdown",
   "metadata": {},
   "source": [
    "mask high frequencies due to ancestral state misidentification"
   ]
  },
  {
   "cell_type": "code",
   "execution_count": null,
   "metadata": {},
   "outputs": [],
   "source": [
    "clip_low = 0\n",
    "clip_high = 10\n",
    "# we need a different mask vector for each population becuase the number of haplotypes n (length of the vector) varies\n",
    "freq_mask = {}\n",
    "for pop in pops:\n",
    "    freq_mask[pop] = np.array([True if (clip_low <= i < ksfs_dict[pop].n - clip_high - 1) else False for i in range(ksfs_dict[pop].n - 1)])"
   ]
  },
  {
   "cell_type": "markdown",
   "metadata": {},
   "source": [
    "fit paramaters"
   ]
  },
  {
   "cell_type": "code",
   "execution_count": null,
   "metadata": {},
   "outputs": [],
   "source": [
    "η_regularization = dict(α_tv=3e2, α_spline=1e4, α_ridge=1e-10)\n",
    "μ_regularization = dict(hard=True, β_rank=0, β_tv=3e1, β_ridge=1e-10)\n",
    "convergence = dict(tol=1e-10, max_iter=10000, max_line_iter=300, γ=0.8)"
   ]
  },
  {
   "cell_type": "markdown",
   "metadata": {},
   "source": [
    "generation time for time calibration"
   ]
  },
  {
   "cell_type": "code",
   "execution_count": null,
   "metadata": {},
   "outputs": [],
   "source": [
    "t_gen = 29"
   ]
  },
  {
   "cell_type": "markdown",
   "metadata": {},
   "source": [
    "loop over a few values of the `β_spline` parameter, which controls how much L2 smoothness is imposed on the first derivative, and fit each EUR population using each parameter value"
   ]
  },
  {
   "cell_type": "code",
   "execution_count": null,
   "metadata": {
    "scrolled": false
   },
   "outputs": [],
   "source": [
    "β_spline_array = (1e-20, 1e3, 1e4)\n",
    "fig, axes = plt.subplots(len(β_spline_array), 2,\n",
    "                         sharex='col', figsize=(8, 3 * len(β_spline_array)))\n",
    "for idx, β_spline in enumerate(β_spline_array):\n",
    "    print(f'β_spline = {β_spline}')\n",
    "    for idx2, pop in enumerate(pops):\n",
    "        print(pop)\n",
    "        ksfs_dict[pop].infer_history(change_points, μ0, β_spline=β_spline,\n",
    "                                     loss='prf', **η_regularization, **μ_regularization,\n",
    "                                     **convergence, mask=freq_mask[pop])\n",
    "        plt.sca(axes[idx, 0])\n",
    "        ksfs_dict[pop].plot('TCC>TTC', clr=True,\n",
    "                            label=(pop if idx == 0 else None),\n",
    "                            lw=3, alpha=0.5, c=f'C{idx2}')\n",
    "        plt.xscale('log')\n",
    "        if idx == 0:\n",
    "            plt.legend()\n",
    "        if idx < axes.shape[0] - 1:\n",
    "            plt.xlabel(None)\n",
    "        plt.sca(axes[idx, 1])\n",
    "        ksfs_dict[pop].μ.plot(('TCC>TTC',), t_gen=t_gen, clr=True,\n",
    "                              label=(pop if idx == 0 else None),\n",
    "                              lw=3, alpha=0.5)\n",
    "        plt.xscale('log')\n",
    "        if idx < axes.shape[0] - 1:\n",
    "            plt.xlabel(None)        \n",
    "        plt.xlim([1e3, 1e6])\n",
    "plt.tight_layout()\n",
    "plt.savefig(f'~/Downloads/europulse.pdf', dpi=300)#, transparent=True)\n",
    "plt.show()"
   ]
  }
 ],
 "metadata": {
  "kernelspec": {
   "display_name": "Python 3",
   "language": "python",
   "name": "python3"
  },
  "language_info": {
   "codemirror_mode": {
    "name": "ipython",
    "version": 3
   },
   "file_extension": ".py",
   "mimetype": "text/x-python",
   "name": "python",
   "nbconvert_exporter": "python",
   "pygments_lexer": "ipython3",
   "version": "3.7.6"
  }
 },
 "nbformat": 4,
 "nbformat_minor": 2
}
