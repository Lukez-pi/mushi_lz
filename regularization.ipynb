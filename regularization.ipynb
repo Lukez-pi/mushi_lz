{
 "cells": [
  {
   "cell_type": "markdown",
   "metadata": {},
   "source": [
    "# Testing regularization approaches\n",
    "\n",
    "Here's a notebook for playing with different penalties"
   ]
  },
  {
   "cell_type": "code",
   "execution_count": null,
   "metadata": {},
   "outputs": [],
   "source": [
    "# %matplotlib notebook\n",
    "%matplotlib inline\n",
    "%config InlineBackend.figure_format = 'svg'\n",
    "from dement import DemEnt\n",
    "import numpy as np\n",
    "from scipy.optimize import minimize, check_grad\n",
    "from scipy.special import erf\n",
    "from scipy.special import expit"
   ]
  },
  {
   "cell_type": "markdown",
   "metadata": {},
   "source": [
    "Initialize a model\n",
    "--\n",
    "We'll simulate a demographic history that suffers a crash then an exponential recovery\n",
    "\n",
    "Define the time axis $\\mathbf{t}$ (including the boundary at infinity) and the population size trajectory $\\mathbf{y}$"
   ]
  },
  {
   "cell_type": "code",
   "execution_count": null,
   "metadata": {},
   "outputs": [],
   "source": [
    "t = np.array(list(np.arange(0, 100000, 400)))\n",
    "\n",
    "# constant\n",
    "# y_true = 10000 * np.ones(len(t) - 1)\n",
    "\n",
    "# crash followed by exponential growth\n",
    "# y_true = 1000 * (4 * np.exp(-t[1:]/100) + 1 + 2 * np.array(t[1:] > 2000, float))\n",
    "\n",
    "# oscillatory\n",
    "# y_true = 1000 * (.3 * np.sin(-t[:-1]/1000) * ((t[:-1] - t[-2]) / t[-2])**2 + .7)\n",
    "\n",
    "# sigmoid crash at 50 generations ago\n",
    "y_true = 10000 * (- .5 * expit(-.002 * (t[1:] - 3000)) + 1)\n",
    "#y_true = np.concatenate((y_true, [y_true[-1]]))"
   ]
  },
  {
   "cell_type": "code",
   "execution_count": null,
   "metadata": {},
   "outputs": [],
   "source": [
    "len(y_true)"
   ]
  },
  {
   "cell_type": "markdown",
   "metadata": {},
   "source": [
    "The number of sampled haplotypes $n$:"
   ]
  },
  {
   "cell_type": "code",
   "execution_count": null,
   "metadata": {},
   "outputs": [],
   "source": [
    "n = 200"
   ]
  },
  {
   "cell_type": "markdown",
   "metadata": {},
   "source": [
    "Initialize dement object, and print its docstring:"
   ]
  },
  {
   "cell_type": "code",
   "execution_count": null,
   "metadata": {},
   "outputs": [],
   "source": [
    "dement = DemEnt(n, t, y_true)\n",
    "print(dement.__doc__)\n",
    "dement.plot()"
   ]
  },
  {
   "cell_type": "markdown",
   "metadata": {},
   "source": [
    "Inversion\n",
    "--\n",
    "### Initialization with constant model\n",
    "\n",
    "We initialize by fitting a constant population size.\n",
    "According to WSD's scribbles, the MLE assuming $\\eta(t) = \\eta_0$ (constant) is $\\hat \\eta_0 = \\frac{S}{2 H_{n-1}}$, where $S$ is the number of segregating sites (the sum of the observed SFS vector) and $H_{n-1}$ is the $n$th harmonic number.\n",
    "This was derived by using the well-known result (cited in Rosen et al.) that the expected SFS for a constant population is given by $\\xi_i = \\frac{2\\eta_0}{i}$ (in units where $\\eta$ is the population-scaled mutation rate).\n",
    "Then the likelihood for $\\eta_0$ is a Poisson random field parameterized by the $\\xi_i$."
   ]
  },
  {
   "cell_type": "code",
   "execution_count": null,
   "metadata": {},
   "outputs": [],
   "source": [
    "S = dement.sfs.sum()\n",
    "H = (1 / np.arange(1, len(dement.sfs))).sum()\n",
    "y_constant = (S / 2 / H) * np.ones(len(t) - 1)\n",
    "dement.plot(y_constant, y_label='constant\\nMLE')"
   ]
  },
  {
   "cell_type": "markdown",
   "metadata": {},
   "source": [
    "### Regularized loss as a penalized log-likelihood\n",
    "We must deal with the asymptotically constant boundary condition.\n",
    "Standard regularizers blow up on the infinite epoch.\n",
    "Let's use half Gaussian instead of Lebesgue measure on time to induce integrability: $\\mathrm{d}\\mu(t) = \\frac{\\sqrt{2}}{\\sqrt{\\pi}\\tau}\\exp\\left(-\\frac{1}{2}\\left(\\frac{t}{\\tau}\\right)^2\\right)\\mathrm{d}t,$\n",
    "where $\\tau$ is the characteristic time to asmptopia (the boundary of our time grid).\n",
    "For example, a modified $L2$ would be\n",
    "$$\n",
    "R\\left[\\eta(t)\\right] = \\int_0^\\infty \\eta(t)^2 \\mathrm{d}\\mu(t) = \\frac{\\sqrt{2}}{\\sqrt{\\pi}\\tau}\\int_0^\\infty \\eta(t)^2 \\exp\\left(-\\frac{1}{2}\\left(\\frac{t}{\\tau}\\right)^2\\right)\\mathrm{d}t.\n",
    "$$\n",
    "So the discretized problem is expressed in terms of the error function $\\DeclareMathOperator{\\erf}{erf}\\erf(\\cdot)$ if $\\eta(t)$ is piecewise constant.\n",
    "This will give extra (but finite) weight / penalty to the infinite epoch based on the survival function of $\\mathrm{d}\\mu(t)$.\n",
    "We can tune how much weight the boundary epoch gets by tuning the width of the Gaussian."
   ]
  },
  {
   "cell_type": "code",
   "execution_count": null,
   "metadata": {},
   "outputs": [],
   "source": [
    "def loss(y, y_prime, lambda_: float):\n",
    "    '''\n",
    "    negative log likelihood (Poisson random field) and regularizations on divergence from a prior and on the derivative\n",
    "    '''\n",
    "    # gaussian transformed measure\n",
    "    #tau = 100 * dement.t[-2]\n",
    "    #dmu = np.diff(erf(dement.t / tau / np.sqrt(2)))\n",
    "    # Lebesgue on the modeled time interval (may seem pedantic, but nicely robust to a non-regular time grid)\n",
    "    dmu = np.diff(t)\n",
    "    # generalized KL divergence (a Bregman divergence)\n",
    "    R_prior = ((y * np.log(y/y_prime) - y + y_prime) * dmu).sum()\n",
    "    #R_prior = ((y - y_prime)**2 * dmu).sum()\n",
    "#     R_prior = ((y - y_prime)**2).sum()\n",
    "    # L2 on derivative\n",
    "    y_diff = np.diff(y)\n",
    "    weight = np.logspace(-1, 0, len(y_diff))\n",
    "    R_diff = (weight * np.diff(y)**2 * dmu[:-1]).sum()\n",
    "#     return - dement.ell(y) + lambda_ * (R_prior + 1e-1 * R_diff)\n",
    "    # NOTE: this one fixes diff penalty\n",
    "    return - dement.ell(y) + lambda_ * R_prior + 1e-4 * R_diff"
   ]
  },
  {
   "cell_type": "markdown",
   "metadata": {},
   "source": [
    "### Minimize loss with L-BFGS-B\n",
    "\n",
    "I'm using a constant L2 penalty to induce smoothness, and iterating a Bregman from a previous iterate's fit\n"
   ]
  },
  {
   "cell_type": "code",
   "execution_count": null,
   "metadata": {},
   "outputs": [],
   "source": [
    "# Initial regularization strength\n",
    "lambda_ = 1e-2\n",
    "\n",
    "# initial and prior set to the constant population MLE\n",
    "y = y_constant\n",
    "y_prime = y_constant\n",
    "\n",
    "for _ in range(100):\n",
    "    result = minimize(loss,\n",
    "                      y_prime,\n",
    "                      args=(y_prime, lambda_),\n",
    "                      # jac=gradF,\n",
    "                      method='L-BFGS-B',\n",
    "                      options=dict(ftol=1e-8, maxfun=np.inf),\n",
    "                      bounds=[(1, None)] * len(y))\n",
    "    assert result.success, result\n",
    "    y = result.x\n",
    "\n",
    "    dement.plot(y, y_label='inferred\\n$\\lambda = {:.2g}$'.format(lambda_))    \n",
    "\n",
    "    # update prior and reduce regularization strength\n",
    "    y_prime = y\n",
    "    lambda_ /= 10"
   ]
  },
  {
   "cell_type": "markdown",
   "metadata": {},
   "source": [
    "### Cray idea\n",
    "\n",
    "Thm (8) of Rosen et al. tells us that we can always find a piecewise MLE.\n",
    "But we're interested in finding smooth solutions that have the same likelihood as that piecewise MLE.\n",
    "Can we penalize on the value of the MLE—in particular that it equals the optimal piecewise constant one—to learn about the structure of the inverse image?"
   ]
  },
  {
   "cell_type": "code",
   "execution_count": null,
   "metadata": {},
   "outputs": [],
   "source": []
  }
 ],
 "metadata": {
  "kernelspec": {
   "display_name": "Python 3",
   "language": "python",
   "name": "python3"
  },
  "language_info": {
   "codemirror_mode": {
    "name": "ipython",
    "version": 3
   },
   "file_extension": ".py",
   "mimetype": "text/x-python",
   "name": "python",
   "nbconvert_exporter": "python",
   "pygments_lexer": "ipython3",
   "version": "3.6.6"
  }
 },
 "nbformat": 4,
 "nbformat_minor": 2
}
