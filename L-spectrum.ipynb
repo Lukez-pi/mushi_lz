{
 "cells": [
  {
   "cell_type": "markdown",
   "metadata": {
    "slideshow": {
     "slide_type": "-"
    }
   },
   "source": [
    "Spectral analysis of the $\\mathcal{L}_\\eta$ operator\n",
    "=="
   ]
  },
  {
   "cell_type": "code",
   "execution_count": null,
   "metadata": {
    "slideshow": {
     "slide_type": "slide"
    }
   },
   "outputs": [],
   "source": [
    "%matplotlib inline\n",
    "import mushi\n",
    "import histories\n",
    "import utils\n",
    "import numpy as np\n",
    "from matplotlib import pyplot as plt\n",
    "import pandas as pd\n",
    "import seaborn as sns\n",
    "from numpy.linalg import cond, svd\n",
    "from matplotlib.colors import LogNorm"
   ]
  },
  {
   "cell_type": "markdown",
   "metadata": {},
   "source": [
    "set this to e.g. your Downloads folder path if you want plots saved to pdfs"
   ]
  },
  {
   "cell_type": "code",
   "execution_count": null,
   "metadata": {},
   "outputs": [],
   "source": [
    "plot_dir = None"
   ]
  },
  {
   "cell_type": "markdown",
   "metadata": {
    "slideshow": {
     "slide_type": "slide"
    }
   },
   "source": [
    "### define $\\eta(t)$"
   ]
  },
  {
   "cell_type": "code",
   "execution_count": null,
   "metadata": {},
   "outputs": [],
   "source": [
    "# time grid\n",
    "t = np.concatenate(([0], np.logspace(0, 5, 100), [np.inf]))\n",
    "# η(t) values in each epoch\n",
    "y = 1e4 * np.ones(len(t) - 1)\n",
    "y[60:70] = 1e3\n",
    "# histories object\n",
    "eta = histories.eta(t[1:-1], y)\n",
    "\n",
    "plt.figure(figsize=(3.5, 3.5))\n",
    "eta.plot()\n",
    "plt.show()"
   ]
  },
  {
   "cell_type": "markdown",
   "metadata": {
    "slideshow": {
     "slide_type": "slide"
    }
   },
   "source": [
    "### Singular value spectrum of $L_{\\mathbf y}$ with $n=200$"
   ]
  },
  {
   "cell_type": "code",
   "execution_count": null,
   "metadata": {},
   "outputs": [],
   "source": [
    "n = 200\n",
    "L = utils.C(n) @ utils.M(n, t, y)\n",
    "U, σ, Vh = svd(L, full_matrices=False)"
   ]
  },
  {
   "cell_type": "markdown",
   "metadata": {
    "slideshow": {
     "slide_type": "slide"
    }
   },
   "source": [
    "### Top few right singular vectors"
   ]
  },
  {
   "cell_type": "code",
   "execution_count": null,
   "metadata": {
    "slideshow": {
     "slide_type": "-"
    }
   },
   "outputs": [],
   "source": [
    "df = pd.DataFrame(Vh.T, index=pd.Index(t[:-1], name='time'))\n",
    "df = df.melt().set_index('variable')\n",
    "df['singular value'] = σ[df.index]\n",
    "df['$t$ (generations)'] = np.tile(t[:-1], df.index[-1] + 1)\n",
    "\n",
    "# filter to top few singular values\n",
    "keep = 30\n",
    "df = df[(df.index % 1 == 0) & (df.index < keep)]\n",
    "\n",
    "palette = sns.color_palette(\"coolwarm\", n_colors=df['singular value'].nunique())"
   ]
  },
  {
   "cell_type": "code",
   "execution_count": null,
   "metadata": {
    "slideshow": {
     "slide_type": "fragment"
    }
   },
   "outputs": [],
   "source": [
    "x = np.arange(1, min(n, eta.m + 1))\n",
    "plt.figure(figsize=(3, 1.9))\n",
    "plt.scatter(x[:keep], σ[:keep], c=palette, edgecolors='k', linewidths=.5, s=20)\n",
    "plt.plot(x[keep:], σ[keep:], 'ko', ms=5, mfc='none', mew=.1)\n",
    "plt.xscale('log')\n",
    "plt.yscale('log')\n",
    "plt.xlabel('singular value rank')\n",
    "plt.ylabel('singular value')\n",
    "plt.tight_layout()\n",
    "if plot_dir:\n",
    "    plt.savefig(f'{plot_dir}/L.svs.pdf')\n",
    "plt.show()"
   ]
  },
  {
   "cell_type": "code",
   "execution_count": null,
   "metadata": {},
   "outputs": [],
   "source": [
    "fig, axes = plt.subplots(nrows=2, ncols=1, sharex='col', figsize=(4.5, 5.5), gridspec_kw={'height_ratios': [1, 3]})\n",
    "plt.sca(axes[0])\n",
    "eta.plot(lw=3, alpha=0.75)\n",
    "plt.tick_params(axis='y', labelcolor='C0')\n",
    "plt.xlabel('')\n",
    "ax2 = axes[0].twinx()\n",
    "plt.sca(ax2)\n",
    "plt.plot(eta.change_points, mushi.kSFS(n=n).tmrca_cdf(eta), color='C1', lw=3, alpha=0.75)\n",
    "plt.ylim([0, 1])\n",
    "plt.ylabel('TMRCA CDF')\n",
    "plt.tick_params(axis='y', labelcolor='C1')\n",
    "plt.sca(axes[1])\n",
    "ax = sns.lineplot(x='$t$ (generations)', y='value', hue='singular value', units='singular value',\n",
    "                  data=df, estimator=None,\n",
    "                  palette=palette[::-1],\n",
    "                  legend=False, alpha=.5, lw=1)\n",
    "plt.ylabel(r'$\\mathcal{L}_\\eta$ eigenfunction amplitude')\n",
    "plt.xscale('log')\n",
    "plt.ylim([-.5, .5])\n",
    "plt.tight_layout()\n",
    "if plot_dir:\n",
    "    plt.savefig(f'{plot_dir}/L.pdf')\n",
    "plt.show()"
   ]
  }
 ],
 "metadata": {
  "celltoolbar": "Slideshow",
  "kernelspec": {
   "display_name": "Python 3",
   "language": "python",
   "name": "python3"
  },
  "language_info": {
   "codemirror_mode": {
    "name": "ipython",
    "version": 3
   },
   "file_extension": ".py",
   "mimetype": "text/x-python",
   "name": "python",
   "nbconvert_exporter": "python",
   "pygments_lexer": "ipython3",
   "version": "3.7.6"
  }
 },
 "nbformat": 4,
 "nbformat_minor": 2
}
